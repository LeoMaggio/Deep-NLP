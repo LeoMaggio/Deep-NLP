{
  "nbformat": 4,
  "nbformat_minor": 0,
  "metadata": {
    "colab": {
      "name": "Practice 2 - Word and Sentence Embeddings.ipynb",
      "provenance": [],
      "collapsed_sections": [],
      "include_colab_link": true
    },
    "kernelspec": {
      "name": "python3",
      "display_name": "Python 3"
    },
    "language_info": {
      "name": "python"
    }
  },
  "cells": [
    {
      "cell_type": "markdown",
      "metadata": {
        "id": "view-in-github",
        "colab_type": "text"
      },
      "source": [
        "<a href=\"https://colab.research.google.com/github/LeoMaggio/Deep-NLP/blob/main/practices/P2/Practice_2_Word_and_Sentence_Embeddings.ipynb\" target=\"_parent\"><img src=\"https://colab.research.google.com/assets/colab-badge.svg\" alt=\"Open In Colab\"/></a>"
      ]
    },
    {
      "cell_type": "markdown",
      "metadata": {
        "id": "dbYDu6cchK-l"
      },
      "source": [
        "#**Deep Natural Language Processing @ PoliTO**\n",
        "\n",
        "---\n",
        "\n",
        "\n",
        "**Teaching Assistant:** Moreno La Quatra\n",
        "\n",
        "**Practice 2:** Word and Sentence Embeddings"
      ]
    },
    {
      "cell_type": "markdown",
      "metadata": {
        "id": "zbJsg8XEOudF"
      },
      "source": [
        "## Word Embedding \n",
        "\n",
        "![](https://qph.fs.quoracdn.net/main-qimg-3e812fd164a08f5e4f195000fecf988f)\n",
        "\n",
        "\n",
        "**Key takeaways** from lessons and in-class practices:\n",
        "- Word embeddings are able to map words into a semantic-aware vector space\n",
        "- There are multiple architectures for the generation of word embeddings\n",
        "- Each architecture has its advantages and disadvantages\n",
        "- Word embedding evaluation could be intrinsic (intermediate tasks) or extrinsic (downstream task)\n",
        "- It is possible to use pre-trained word embedding models or use large amount of text to train it from scratch\n"
      ]
    },
    {
      "cell_type": "markdown",
      "metadata": {
        "id": "w-9kQCr4P8wP"
      },
      "source": [
        "### **Question 1**\n",
        "\n",
        "Train a new Word2Vec model using gensim with the text8 corpus available in the python package ([reference](https://radimrehurek.com/gensim/downloader.html)). Compute the training time for the model and store it for subsequent steps."
      ]
    },
    {
      "cell_type": "code",
      "metadata": {
        "id": "UW_G_mRAOt9e"
      },
      "source": [
        "%%capture\n",
        "!pip install --upgrade gensim"
      ],
      "execution_count": 1,
      "outputs": []
    },
    {
      "cell_type": "code",
      "metadata": {
        "id": "od6-XXHkkkxV",
        "outputId": "85a5bf2e-9fab-428e-aedd-93690911c8b9",
        "colab": {
          "base_uri": "https://localhost:8080/"
        }
      },
      "source": [
        "import gensim.downloader as api\n",
        "import time\n",
        "from gensim.models import Word2Vec\n",
        "\n",
        "dataset = api.load(\"text8\")  # load dataset as iterable\n",
        "start = time.time()\n",
        "model = Word2Vec(dataset)  # train w2v model\n",
        "w2v_time = time.time() - start\n",
        "\n",
        "print(f\"Training time: {w2v_time}s\")"
      ],
      "execution_count": 2,
      "outputs": [
        {
          "output_type": "stream",
          "name": "stdout",
          "text": [
            "[==================================================] 100.0% 31.6/31.6MB downloaded\n",
            "Training time: 159.4953417778015s\n"
          ]
        }
      ]
    },
    {
      "cell_type": "markdown",
      "metadata": {
        "id": "Mij5WNAARGMl"
      },
      "source": [
        "### **Question 2**:\n",
        "Perform intrinsic evaluation of the model for the task of word analogy by exploiting the data collection available [here](https://raw.githubusercontent.com/MorenoLaQuatra/DeepNLP/main/practices/P2/google_analogies.csv). \n",
        "\n",
        "1. read CSV file\n",
        "2. group analogy entries by type (column: `type`)\n",
        "3. for each type entry (**in the lab, just set type=\"family\"** to reduce the required time) use the first 3 word vectors to compute the fourth\n",
        "    - Entry: `Athens,Greece,Baghdad,Iraq`\n",
        "    - `v(Greece) - v(Athens) + v(Baghdad) = res_v` \n",
        "    - Get the most similar vectors to `res_v`\n",
        "    - Compute in how many cases the correct word is among the top K (if `v[Iraq]` is among the K most similar words) with `K = 1, 3, 5, 10`\n",
        "\n",
        "$top(k) = \\dfrac{\\sum_{i=1}^{N} f(i)}{|E|}$\n",
        "\n",
        "where $f(i) = 1$ if the target word is among the top k and $f(i) = 0$ otherwise.\n",
        "\n",
        "$|E|$ is the total number of entries for the considered type.\n",
        "\n",
        "**Notes:**\n",
        "1. Try with the model trained on `text8`, is there any issue?\n",
        "2. Test the model trained on Google News available in gensim.\n",
        "\n"
      ]
    },
    {
      "cell_type": "code",
      "metadata": {
        "id": "VArA054TTX5y"
      },
      "source": [
        "%%capture\n",
        "!wget https://raw.githubusercontent.com/MorenoLaQuatra/DeepNLP/main/practices/P2/google_analogies.csv\n",
        "!pip install --upgrade pandas\n",
        "!pip install -U pandas-profiling"
      ],
      "execution_count": 9,
      "outputs": []
    },
    {
      "cell_type": "code",
      "metadata": {
        "id": "LDPl6w1ob3WX",
        "outputId": "52a50a76-2052-4e60-9c01-bc79172771e9",
        "colab": {
          "base_uri": "https://localhost:8080/"
        }
      },
      "source": [
        "# Executing this cell could take ~5 minutes\n",
        "import gensim.downloader\n",
        "w2v_google_news_model = gensim.downloader.load('word2vec-google-news-300')"
      ],
      "execution_count": 4,
      "outputs": [
        {
          "output_type": "stream",
          "name": "stdout",
          "text": [
            "[==================================================] 100.0% 1662.8/1662.8MB downloaded\n"
          ]
        }
      ]
    },
    {
      "cell_type": "code",
      "metadata": {
        "id": "6ykQt1UPkjfj",
        "outputId": "0e723267-dc58-4276-a34c-1f3fd60428ba",
        "colab": {
          "base_uri": "https://localhost:8080/",
          "height": 508
        }
      },
      "source": [
        "import pandas as pd\n",
        "import numpy as np\n",
        "\n",
        "df = pd.read_csv('google_analogies.csv', index_col='Unnamed: 0')\n",
        "df = df.sort_values(by=['type', 'word1'])\n",
        "df.head(5)"
      ],
      "execution_count": 12,
      "outputs": [
        {
          "output_type": "error",
          "ename": "AttributeError",
          "evalue": "ignored",
          "traceback": [
            "\u001b[0;31m---------------------------------------------------------------------------\u001b[0m",
            "\u001b[0;31mAttributeError\u001b[0m                            Traceback (most recent call last)",
            "\u001b[0;32m/usr/local/lib/python3.7/dist-packages/IPython/core/formatters.py\u001b[0m in \u001b[0;36m__call__\u001b[0;34m(self, obj)\u001b[0m\n\u001b[1;32m    336\u001b[0m             \u001b[0mmethod\u001b[0m \u001b[0;34m=\u001b[0m \u001b[0mget_real_method\u001b[0m\u001b[0;34m(\u001b[0m\u001b[0mobj\u001b[0m\u001b[0;34m,\u001b[0m \u001b[0mself\u001b[0m\u001b[0;34m.\u001b[0m\u001b[0mprint_method\u001b[0m\u001b[0;34m)\u001b[0m\u001b[0;34m\u001b[0m\u001b[0;34m\u001b[0m\u001b[0m\n\u001b[1;32m    337\u001b[0m             \u001b[0;32mif\u001b[0m \u001b[0mmethod\u001b[0m \u001b[0;32mis\u001b[0m \u001b[0;32mnot\u001b[0m \u001b[0;32mNone\u001b[0m\u001b[0;34m:\u001b[0m\u001b[0;34m\u001b[0m\u001b[0;34m\u001b[0m\u001b[0m\n\u001b[0;32m--> 338\u001b[0;31m                 \u001b[0;32mreturn\u001b[0m \u001b[0mmethod\u001b[0m\u001b[0;34m(\u001b[0m\u001b[0;34m)\u001b[0m\u001b[0;34m\u001b[0m\u001b[0;34m\u001b[0m\u001b[0m\n\u001b[0m\u001b[1;32m    339\u001b[0m             \u001b[0;32mreturn\u001b[0m \u001b[0;32mNone\u001b[0m\u001b[0;34m\u001b[0m\u001b[0;34m\u001b[0m\u001b[0m\n\u001b[1;32m    340\u001b[0m         \u001b[0;32melse\u001b[0m\u001b[0;34m:\u001b[0m\u001b[0;34m\u001b[0m\u001b[0;34m\u001b[0m\u001b[0m\n",
            "\u001b[0;32m/usr/local/lib/python3.7/dist-packages/pandas/core/frame.py\u001b[0m in \u001b[0;36m_repr_html_\u001b[0;34m(self)\u001b[0m\n\u001b[1;32m    796\u001b[0m \u001b[0;34m\u001b[0m\u001b[0m\n\u001b[1;32m    797\u001b[0m     \u001b[0;34m@\u001b[0m\u001b[0mproperty\u001b[0m\u001b[0;34m\u001b[0m\u001b[0;34m\u001b[0m\u001b[0m\n\u001b[0;32m--> 798\u001b[0;31m     \u001b[0;32mdef\u001b[0m \u001b[0mshape\u001b[0m\u001b[0;34m(\u001b[0m\u001b[0mself\u001b[0m\u001b[0;34m)\u001b[0m \u001b[0;34m->\u001b[0m \u001b[0mtuple\u001b[0m\u001b[0;34m[\u001b[0m\u001b[0mint\u001b[0m\u001b[0;34m,\u001b[0m \u001b[0mint\u001b[0m\u001b[0;34m]\u001b[0m\u001b[0;34m:\u001b[0m\u001b[0;34m\u001b[0m\u001b[0;34m\u001b[0m\u001b[0m\n\u001b[0m\u001b[1;32m    799\u001b[0m         \"\"\"\n\u001b[1;32m    800\u001b[0m         \u001b[0mReturn\u001b[0m \u001b[0ma\u001b[0m \u001b[0mtuple\u001b[0m \u001b[0mrepresenting\u001b[0m \u001b[0mthe\u001b[0m \u001b[0mdimensionality\u001b[0m \u001b[0mof\u001b[0m \u001b[0mthe\u001b[0m \u001b[0mDataFrame\u001b[0m\u001b[0;34m.\u001b[0m\u001b[0;34m\u001b[0m\u001b[0;34m\u001b[0m\u001b[0m\n",
            "\u001b[0;32m/usr/local/lib/python3.7/dist-packages/pandas/io/formats/format.py\u001b[0m in \u001b[0;36mto_html\u001b[0;34m(self, buf, encoding, classes, notebook, border)\u001b[0m\n\u001b[1;32m    986\u001b[0m         \u001b[0mencoding\u001b[0m\u001b[0;34m:\u001b[0m \u001b[0mstr\u001b[0m \u001b[0;34m|\u001b[0m \u001b[0;32mNone\u001b[0m \u001b[0;34m=\u001b[0m \u001b[0;32mNone\u001b[0m\u001b[0;34m,\u001b[0m\u001b[0;34m\u001b[0m\u001b[0;34m\u001b[0m\u001b[0m\n\u001b[1;32m    987\u001b[0m         \u001b[0mclasses\u001b[0m\u001b[0;34m:\u001b[0m \u001b[0mstr\u001b[0m \u001b[0;34m|\u001b[0m \u001b[0mlist\u001b[0m \u001b[0;34m|\u001b[0m \u001b[0mtuple\u001b[0m \u001b[0;34m|\u001b[0m \u001b[0;32mNone\u001b[0m \u001b[0;34m=\u001b[0m \u001b[0;32mNone\u001b[0m\u001b[0;34m,\u001b[0m\u001b[0;34m\u001b[0m\u001b[0;34m\u001b[0m\u001b[0m\n\u001b[0;32m--> 988\u001b[0;31m         \u001b[0mnotebook\u001b[0m\u001b[0;34m:\u001b[0m \u001b[0mbool\u001b[0m \u001b[0;34m=\u001b[0m \u001b[0;32mFalse\u001b[0m\u001b[0;34m,\u001b[0m\u001b[0;34m\u001b[0m\u001b[0;34m\u001b[0m\u001b[0m\n\u001b[0m\u001b[1;32m    989\u001b[0m         \u001b[0mborder\u001b[0m\u001b[0;34m:\u001b[0m \u001b[0mint\u001b[0m \u001b[0;34m|\u001b[0m \u001b[0;32mNone\u001b[0m \u001b[0;34m=\u001b[0m \u001b[0;32mNone\u001b[0m\u001b[0;34m,\u001b[0m\u001b[0;34m\u001b[0m\u001b[0;34m\u001b[0m\u001b[0m\n\u001b[1;32m    990\u001b[0m         \u001b[0mtable_id\u001b[0m\u001b[0;34m:\u001b[0m \u001b[0mstr\u001b[0m \u001b[0;34m|\u001b[0m \u001b[0;32mNone\u001b[0m \u001b[0;34m=\u001b[0m \u001b[0;32mNone\u001b[0m\u001b[0;34m,\u001b[0m\u001b[0;34m\u001b[0m\u001b[0;34m\u001b[0m\u001b[0m\n",
            "\u001b[0;31mAttributeError\u001b[0m: 'NotebookFormatter' object has no attribute 'get_result'"
          ]
        },
        {
          "output_type": "execute_result",
          "data": {
            "text/plain": [
              "                       type   word1   word2    word3       target\n",
              "0  capital-common-countries  Athens  Greece  Baghdad         Iraq\n",
              "1  capital-common-countries  Athens  Greece  Bangkok     Thailand\n",
              "2  capital-common-countries  Athens  Greece  Beijing        China\n",
              "3  capital-common-countries  Athens  Greece   Berlin      Germany\n",
              "4  capital-common-countries  Athens  Greece     Bern  Switzerland"
            ]
          },
          "metadata": {},
          "execution_count": 12
        }
      ]
    },
    {
      "cell_type": "code",
      "metadata": {
        "id": "hqLNyZZMKnk1",
        "outputId": "79f193e1-7605-4ce2-e263-8e62f9782195",
        "colab": {
          "base_uri": "https://localhost:8080/"
        }
      },
      "source": [
        "k_list = [3]\n",
        "\n",
        "types = df['type'].unique()\n",
        "for t in types:\n",
        "  top_k_text8 = [0, 0, 0, 0]\n",
        "  top_k_news = [0, 0, 0, 0]\n",
        "  if t == 'family':\n",
        "    print(f\"Type: {t}\")\n",
        "    df_by_type = df[df['type'] == t]\n",
        "    for i, row in df_by_type.iterrows():\n",
        "      for i, k in enumerate(k_list):\n",
        "        try:\n",
        "          if row['target'] in [x[0] for x in model.wv.most_similar(positive=[row['word2'], row['word3']], negative=[row['word1']], topn=k)]:\n",
        "            top_k_text8[i] += 1\n",
        "        except Exception as e:\n",
        "          print(e)\n",
        "        if row['target'] in [x[0] for x in w2v_google_news_model.most_similar(positive=[row['word2'], row['word3']], negative=[row['word1']], topn=k)]:\n",
        "          top_k_news[i] += 1\n",
        "    for i, k in enumerate(k_list):\n",
        "      print(f\"Top {k} text8: {top_k_text8[i] / len(df_by_type)}\")\n",
        "      print(f\"Top {k} Google News: {top_k_news[i] / len(df_by_type)}\")\n",
        "      print(\"\")\n",
        "    print(\"-----------------------------------------------------------\")\n",
        "    print(\"\")"
      ],
      "execution_count": 42,
      "outputs": [
        {
          "output_type": "stream",
          "name": "stdout",
          "text": [
            "Type: family\n",
            "\"Key 'stepbrother' not present\"\n",
            "\"Key 'stepbrother' not present\"\n",
            "\"Key 'stepbrother' not present\"\n",
            "\"Key 'stepbrother' not present\"\n",
            "\"Key 'stepbrother' not present\"\n",
            "\"Key 'stepbrother' not present\"\n",
            "\"Key 'stepbrother' not present\"\n",
            "\"Key 'stepbrother' not present\"\n",
            "\"Key 'stepbrother' not present\"\n",
            "\"Key 'stepbrother' not present\"\n",
            "\"Key 'stepbrother' not present\"\n",
            "\"Key 'stepbrother' not present\"\n",
            "\"Key 'stepbrother' not present\"\n",
            "\"Key 'stepbrother' not present\"\n",
            "\"Key 'stepbrother' not present\"\n",
            "\"Key 'policewoman' not present\"\n",
            "\"Key 'policewoman' not present\"\n",
            "\"Key 'policewoman' not present\"\n",
            "\"Key 'policewoman' not present\"\n",
            "\"Key 'policewoman' not present\"\n",
            "\"Key 'policewoman' not present\"\n",
            "\"Key 'policewoman' not present\"\n",
            "\"Key 'policewoman' not present\"\n",
            "\"Key 'policewoman' not present\"\n",
            "\"Key 'policewoman' not present\"\n",
            "\"Key 'policewoman' not present\"\n",
            "\"Key 'policewoman' not present\"\n",
            "\"Key 'policewoman' not present\"\n",
            "\"Key 'policewoman' not present\"\n",
            "\"Key 'policewoman' not present\"\n",
            "\"Key 'policewoman' not present\"\n",
            "\"Key 'policewoman' not present\"\n",
            "\"Key 'policewoman' not present\"\n",
            "\"Key 'policewoman' not present\"\n",
            "\"Key 'policewoman' not present\"\n",
            "\"Key 'policewoman' not present\"\n",
            "\"Key 'policewoman' not present\"\n",
            "\"Key 'stepbrother' not present\"\n",
            "\"Key 'stepbrother' not present\"\n",
            "\"Key 'stepbrother' not present\"\n",
            "\"Key 'stepsister' not present\"\n",
            "\"Key 'stepsister' not present\"\n",
            "\"Key 'stepsister' not present\"\n",
            "\"Key 'stepsister' not present\"\n",
            "\"Key 'stepsister' not present\"\n",
            "\"Key 'stepsister' not present\"\n",
            "\"Key 'stepsister' not present\"\n",
            "\"Key 'stepsister' not present\"\n",
            "\"Key 'stepsister' not present\"\n",
            "\"Key 'stepsister' not present\"\n",
            "\"Key 'stepsister' not present\"\n",
            "\"Key 'stepsister' not present\"\n",
            "\"Key 'stepsister' not present\"\n",
            "\"Key 'stepsister' not present\"\n",
            "\"Key 'stepsister' not present\"\n",
            "\"Key 'stepsister' not present\"\n",
            "\"Key 'stepsister' not present\"\n",
            "\"Key 'stepsister' not present\"\n",
            "\"Key 'stepsister' not present\"\n",
            "\"Key 'stepsister' not present\"\n",
            "\"Key 'stepsister' not present\"\n",
            "\"Key 'stepsister' not present\"\n",
            "\"Key 'stepbrother' not present\"\n",
            "\"Key 'stepbrother' not present\"\n",
            "\"Key 'stepbrother' not present\"\n",
            "Top 3 text8: 0.616600790513834\n",
            "Top 3 Google News: 0.9229249011857708\n",
            "\n",
            "-----------------------------------------------------------\n",
            "\n"
          ]
        }
      ]
    },
    {
      "cell_type": "markdown",
      "metadata": {
        "id": "noRDD9hWmyZO"
      },
      "source": [
        "### **Question 3:**\n",
        "\n",
        "Train a new FastText model using gensim with text8 corpus available in the python package ([reference](https://radimrehurek.com/gensim/downloader.html)). Compute the training time for the model and store it for subsequent steps. \n",
        "\n",
        "- Is there any significant difference in training time if compared with Word2Vec training?"
      ]
    },
    {
      "cell_type": "code",
      "metadata": {
        "id": "UPmwnDgWoLcR"
      },
      "source": [
        "# Your code here"
      ],
      "execution_count": null,
      "outputs": []
    },
    {
      "cell_type": "markdown",
      "metadata": {
        "id": "UoAQbgL1oiEM"
      },
      "source": [
        "### **Question 4:**\n",
        "Score the FastText model by exploiting the same methodology presented in Q2. \n",
        "\n",
        "**Notes:**\n",
        "- Is there any issue similar to Word2Vec model?\n",
        "- Test the model trained on Wikipedia+News available in gensim."
      ]
    },
    {
      "cell_type": "code",
      "metadata": {
        "id": "0JvL6Tizkn6j"
      },
      "source": [
        "# Your code here"
      ],
      "execution_count": null,
      "outputs": []
    },
    {
      "cell_type": "markdown",
      "metadata": {
        "id": "WRneIhkoxV_O"
      },
      "source": [
        "### **Question 5** (optional) \n",
        "Evaluate Word2Vec and FastText models  on the analogy task for the whole dataset (include all analogy types)."
      ]
    },
    {
      "cell_type": "code",
      "metadata": {
        "id": "64CHB3Umkq_1"
      },
      "source": [
        "# Your code here"
      ],
      "execution_count": null,
      "outputs": []
    },
    {
      "cell_type": "markdown",
      "metadata": {
        "id": "k-AuxU7YhU7D"
      },
      "source": [
        "## Sentence Embeddings\n",
        "\n",
        "Key takeaways from lessons and in-class practices:\n",
        "- Doc2Vec is an extension of the Word2Vec framework\n",
        "- It incorporate Document ID to obtain a more accurate representation of a document/paragraph\n",
        "- Training document vectors are pre-computed, however you can infer vectors for new documents\n",
        "- InferSent exploit a deep learning architecture to supervisedly learn sentence representations\n",
        "- InferSent vectors could exploit both Word2Vec or FastText as word embedding models."
      ]
    },
    {
      "cell_type": "markdown",
      "metadata": {
        "id": "60_q4G-xyooQ"
      },
      "source": [
        "### **Question 6:**\n",
        "\n",
        "Train a Doc2Vec model using gensim with text8 corpus. Compute the training time for the model and store it for subsequent steps."
      ]
    },
    {
      "cell_type": "code",
      "metadata": {
        "id": "9eIj2s1skr-s"
      },
      "source": [
        "# Your code here"
      ],
      "execution_count": null,
      "outputs": []
    },
    {
      "cell_type": "markdown",
      "metadata": {
        "id": "gCqY7VFOwsK9"
      },
      "source": [
        "### **Question 7 (qualitative Evaluation)**\n",
        "Perform some qualitative experiments by computing the cosine similarities between sentences composed by yourself."
      ]
    },
    {
      "cell_type": "code",
      "metadata": {
        "id": "KrYt1-LckvSI"
      },
      "source": [
        "# Your code here"
      ],
      "execution_count": null,
      "outputs": []
    },
    {
      "cell_type": "markdown",
      "metadata": {
        "id": "OBqLp1LnTeME"
      },
      "source": [
        "### **Question 8** (Extrinsic Evaluation)\n",
        "\n",
        "Extrinsic evaluation measure performance of the word/sentence/paragraph embedding model for a downstream NLP task (e.g., Text Classification).\n",
        "\n",
        "We can use different configuration, training corpora or even different models to build a complete architecture for the task at hand.\n",
        "\n",
        "For this practice we use the text classification dataset available [here](https://github.com/MorenoLaQuatra/DeepNLP/blob/main/practices/P2/news_headline_classification.csv) - [source: Kaggle](https://www.kaggle.com/rmisra/news-category-dataset)\n",
        "\n",
        "**Note:** consider using just the first 10.000 headlines to reduce runtime during the lab.\n",
        "\n",
        "Compute the accuracy of 3 classification models each one built with one of the models introduced in this practice:\n",
        "- Word2Vec model pretrained on Google News corpus\n",
        "- FastText model pretrained on Wikipedia+News corpus\n",
        "- **[Optional]** Doc2Vec model pretrained on Text8 corpus\n",
        "- **[Optional]** InferSent pretrained model (v2) - [reference](https://github.com/facebookresearch/InferSent)\n",
        "\n",
        "The procedure to create a classification system is sketched below:\n",
        "1. Choose a machine learning (multi-class) classifier (e.g., MLP)\n",
        "2. Split the data collection in train/test (80%/20%)\n",
        "3. Use text vectors obtained by pretrained model as input of the classifier\n",
        "4. Measure the accuracy of the classification system\n",
        "5. Repeat step 3-4 using different embedding models \n",
        "\n",
        "\n",
        "**Note:** You need to choose an aggregation function (e.g., average) to obtain sentence embeddings from word vectors.\n",
        "\n",
        "Which model has better performance? Report the performance of each variant of the classification system."
      ]
    },
    {
      "cell_type": "code",
      "metadata": {
        "id": "qp2k7npVeoTB"
      },
      "source": [
        "!wget https://raw.githubusercontent.com/MorenoLaQuatra/DeepNLP/main/practices/P2/news_headline_classification.csv"
      ],
      "execution_count": null,
      "outputs": []
    },
    {
      "cell_type": "code",
      "metadata": {
        "id": "uKQZIX6ckzcA"
      },
      "source": [
        "# Your code here"
      ],
      "execution_count": null,
      "outputs": []
    },
    {
      "cell_type": "markdown",
      "metadata": {
        "id": "9VBbEBO6xmEL"
      },
      "source": [
        "**Word2Vec + Average aggregation function**"
      ]
    },
    {
      "cell_type": "code",
      "metadata": {
        "id": "mmjcUbRCk2Ll"
      },
      "source": [
        "# Your code here"
      ],
      "execution_count": null,
      "outputs": []
    },
    {
      "cell_type": "markdown",
      "metadata": {
        "id": "kTLSmUJXxeId"
      },
      "source": [
        "**FastText + Average aggregation function**"
      ]
    },
    {
      "cell_type": "code",
      "metadata": {
        "id": "VtMLnlTyk4J7"
      },
      "source": [
        "# Your code here"
      ],
      "execution_count": null,
      "outputs": []
    },
    {
      "cell_type": "markdown",
      "metadata": {
        "id": "mBjSrAx9xrON"
      },
      "source": [
        "**Doc2Vec (Text8)**"
      ]
    },
    {
      "cell_type": "code",
      "metadata": {
        "id": "rbcc4qWmk9Jt"
      },
      "source": [
        "# Your code here"
      ],
      "execution_count": null,
      "outputs": []
    },
    {
      "cell_type": "markdown",
      "metadata": {
        "id": "t7DkgKMcxrIy"
      },
      "source": [
        "**InferSent**"
      ]
    },
    {
      "cell_type": "code",
      "metadata": {
        "id": "JCIQ1EEUYEwk"
      },
      "source": [
        "%%capture\n",
        "# InferSent download required files\n",
        "\n",
        "! mkdir fastText\n",
        "! curl -Lo fastText/crawl-300d-2M.vec.zip https://dl.fbaipublicfiles.com/fasttext/vectors-english/crawl-300d-2M.vec.zip\n",
        "! unzip fastText/crawl-300d-2M.vec.zip -d fastText/\n",
        "! mkdir encoder\n",
        "! curl -Lo encoder/infersent2.pkl https://dl.fbaipublicfiles.com/infersent/infersent2.pkl\n",
        "! git clone https://github.com/facebookresearch/InferSent.git"
      ],
      "execution_count": null,
      "outputs": []
    },
    {
      "cell_type": "code",
      "metadata": {
        "id": "QmtxnnC0Y9Cb"
      },
      "source": [
        "from InferSent.models import InferSent\n",
        "import torch\n",
        "V = 2\n",
        "MODEL_PATH = 'encoder/infersent%s.pkl' % V\n",
        "params_model = {'bsize': 64, 'word_emb_dim': 300, 'enc_lstm_dim': 2048,\n",
        "                'pool_type': 'max', 'dpout_model': 0.0, 'version': V}\n",
        "infersent = InferSent(params_model)\n",
        "infersent.load_state_dict(torch.load(MODEL_PATH))\n",
        "\n",
        "W2V_PATH = 'fastText/crawl-300d-2M.vec'\n",
        "infersent.set_w2v_path(W2V_PATH)"
      ],
      "execution_count": null,
      "outputs": []
    },
    {
      "cell_type": "code",
      "metadata": {
        "id": "hfKMM5E9lDeY"
      },
      "source": [
        "# Your code here"
      ],
      "execution_count": null,
      "outputs": []
    }
  ]
}