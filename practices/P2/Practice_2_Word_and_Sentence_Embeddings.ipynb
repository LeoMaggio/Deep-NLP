{
  "nbformat": 4,
  "nbformat_minor": 0,
  "metadata": {
    "colab": {
      "name": "Practice 2 - Word and Sentence Embeddings.ipynb",
      "provenance": [],
      "collapsed_sections": [],
      "include_colab_link": true
    },
    "kernelspec": {
      "name": "python3",
      "display_name": "Python 3"
    },
    "language_info": {
      "name": "python"
    }
  },
  "cells": [
    {
      "cell_type": "markdown",
      "metadata": {
        "id": "view-in-github",
        "colab_type": "text"
      },
      "source": [
        "<a href=\"https://colab.research.google.com/github/LeoMaggio/Deep-NLP/blob/main/practices/P2/Practice_2_Word_and_Sentence_Embeddings.ipynb\" target=\"_parent\"><img src=\"https://colab.research.google.com/assets/colab-badge.svg\" alt=\"Open In Colab\"/></a>"
      ]
    },
    {
      "cell_type": "markdown",
      "metadata": {
        "id": "dbYDu6cchK-l"
      },
      "source": [
        "#**Deep Natural Language Processing @ PoliTO**\n",
        "\n",
        "---\n",
        "\n",
        "\n",
        "**Teaching Assistant:** Moreno La Quatra\n",
        "\n",
        "**Practice 2:** Word and Sentence Embeddings"
      ]
    },
    {
      "cell_type": "markdown",
      "metadata": {
        "id": "zbJsg8XEOudF"
      },
      "source": [
        "## Word Embedding \n",
        "\n",
        "![](https://qph.fs.quoracdn.net/main-qimg-3e812fd164a08f5e4f195000fecf988f)\n",
        "\n",
        "\n",
        "**Key takeaways** from lessons and in-class practices:\n",
        "- Word embeddings are able to map words into a semantic-aware vector space\n",
        "- There are multiple architectures for the generation of word embeddings\n",
        "- Each architecture has its advantages and disadvantages\n",
        "- Word embedding evaluation could be intrinsic (intermediate tasks) or extrinsic (downstream task)\n",
        "- It is possible to use pre-trained word embedding models or use large amount of text to train it from scratch\n"
      ]
    },
    {
      "cell_type": "markdown",
      "metadata": {
        "id": "w-9kQCr4P8wP"
      },
      "source": [
        "### **Question 1**\n",
        "\n",
        "Train a new Word2Vec model using gensim with the text8 corpus available in the python package ([reference](https://radimrehurek.com/gensim/downloader.html)). Compute the training time for the model and store it for subsequent steps."
      ]
    },
    {
      "cell_type": "code",
      "metadata": {
        "id": "UW_G_mRAOt9e"
      },
      "source": [
        "%%capture\n",
        "!pip install --upgrade gensim"
      ],
      "execution_count": 1,
      "outputs": []
    },
    {
      "cell_type": "code",
      "metadata": {
        "id": "od6-XXHkkkxV",
        "colab": {
          "base_uri": "https://localhost:8080/"
        },
        "outputId": "a8b5ec27-e19a-47b6-e6bc-1f1c9a4e75f0"
      },
      "source": [
        "import gensim.downloader as api\n",
        "import time\n",
        "from gensim.models import Word2Vec\n",
        "\n",
        "dataset = api.load(\"text8\")  # load dataset as iterable\n",
        "start = time.time()\n",
        "w2v_model = Word2Vec(dataset)  # train w2v model\n",
        "w2v_time = time.time() - start\n",
        "\n",
        "print(f\"Training time: {w2v_time}s\")"
      ],
      "execution_count": 22,
      "outputs": [
        {
          "output_type": "stream",
          "name": "stdout",
          "text": [
            "Training time: 170.66526007652283s\n"
          ]
        }
      ]
    },
    {
      "cell_type": "markdown",
      "metadata": {
        "id": "Mij5WNAARGMl"
      },
      "source": [
        "### **Question 2**:\n",
        "Perform intrinsic evaluation of the model for the task of word analogy by exploiting the data collection available [here](https://raw.githubusercontent.com/MorenoLaQuatra/DeepNLP/main/practices/P2/google_analogies.csv). \n",
        "\n",
        "1. read CSV file\n",
        "2. group analogy entries by type (column: `type`)\n",
        "3. for each type entry (**in the lab, just set type=\"family\"** to reduce the required time) use the first 3 word vectors to compute the fourth\n",
        "    - Entry: `Athens,Greece,Baghdad,Iraq`\n",
        "    - `v(Greece) - v(Athens) + v(Baghdad) = res_v` \n",
        "    - Get the most similar vectors to `res_v`\n",
        "    - Compute in how many cases the correct word is among the top K (if `v[Iraq]` is among the K most similar words) with `K = 1, 3, 5, 10`\n",
        "\n",
        "$top(k) = \\dfrac{\\sum_{i=1}^{N} f(i)}{|E|}$\n",
        "\n",
        "where $f(i) = 1$ if the target word is among the top k and $f(i) = 0$ otherwise.\n",
        "\n",
        "$|E|$ is the total number of entries for the considered type.\n",
        "\n",
        "**Notes:**\n",
        "1. Try with the model trained on `text8`, is there any issue?\n",
        "2. Test the model trained on Google News available in gensim.\n",
        "\n"
      ]
    },
    {
      "cell_type": "code",
      "metadata": {
        "id": "VArA054TTX5y"
      },
      "source": [
        "%%capture\n",
        "!wget https://raw.githubusercontent.com/MorenoLaQuatra/DeepNLP/main/practices/P2/google_analogies.csv\n",
        "!pip install --upgrade pandas\n",
        "!pip install -U pandas-profiling"
      ],
      "execution_count": 3,
      "outputs": []
    },
    {
      "cell_type": "code",
      "metadata": {
        "id": "LDPl6w1ob3WX"
      },
      "source": [
        "# Executing this cell could take ~5 minutes\n",
        "import gensim.downloader\n",
        "w2v_google_news_model = gensim.downloader.load('word2vec-google-news-300')"
      ],
      "execution_count": 23,
      "outputs": []
    },
    {
      "cell_type": "code",
      "metadata": {
        "id": "6ykQt1UPkjfj"
      },
      "source": [
        "import pandas as pd\n",
        "import numpy as np\n",
        "\n",
        "df = pd.read_csv('google_analogies.csv', index_col='Unnamed: 0')\n",
        "df = df.sort_values(by=['type', 'word1'])"
      ],
      "execution_count": 7,
      "outputs": []
    },
    {
      "cell_type": "code",
      "metadata": {
        "id": "hqLNyZZMKnk1",
        "colab": {
          "base_uri": "https://localhost:8080/"
        },
        "outputId": "6709db97-718a-4331-d7ae-329057906379"
      },
      "source": [
        "k_list = [1, 3, 5, 10]\n",
        "\n",
        "types = df['type'].unique()\n",
        "for t in types:\n",
        "  top_k_text8 = [0, 0, 0, 0]\n",
        "  top_k_news = [0, 0, 0, 0]\n",
        "  if t == 'family':\n",
        "    print(f\"Type: {t}\")\n",
        "    print(\"\")\n",
        "    df_by_type = df[df['type'] == t]\n",
        "    for i, row in df_by_type.iterrows():\n",
        "      for i, k in enumerate(k_list):\n",
        "        try:\n",
        "          if row['target'] in [x[0] for x in model.wv.most_similar(positive=[row['word2'], row['word3']], negative=[row['word1']], topn=k)]:\n",
        "            top_k_text8[i] += 1\n",
        "        except:\n",
        "          pass\n",
        "        if row['target'] in [x[0] for x in w2v_google_news_model.most_similar(positive=[row['word2'], row['word3']], negative=[row['word1']], topn=k)]:\n",
        "          top_k_news[i] += 1\n",
        "    for i, k in enumerate(k_list):\n",
        "      print(f\"Top {k} text8: {top_k_text8[i] / len(df_by_type)}\")\n",
        "      print(f\"Top {k} Google News: {top_k_news[i] / len(df_by_type)}\")\n",
        "      print(\"\")\n",
        "    print(\"-----------------------------------------------------------\")\n",
        "    print(\"\")"
      ],
      "execution_count": null,
      "outputs": [
        {
          "output_type": "stream",
          "name": "stdout",
          "text": [
            "Type: family\n",
            "Top 1 text8: 0.5\n",
            "Top 1 Google News: 0.8458498023715415\n",
            "\n",
            "Top 3 text8: 0.5711462450592886\n",
            "Top 3 Google News: 0.9229249011857708\n",
            "\n",
            "Top 5 text8: 0.6126482213438735\n",
            "Top 5 Google News: 0.9525691699604744\n",
            "\n",
            "Top 10 text8: 0.6561264822134387\n",
            "Top 10 Google News: 0.974308300395257\n",
            "\n",
            "-----------------------------------------------------------\n",
            "\n"
          ]
        }
      ]
    },
    {
      "cell_type": "markdown",
      "metadata": {
        "id": "noRDD9hWmyZO"
      },
      "source": [
        "### **Question 3:**\n",
        "\n",
        "Train a new FastText model using gensim with text8 corpus available in the python package ([reference](https://radimrehurek.com/gensim/downloader.html)). Compute the training time for the model and store it for subsequent steps. \n",
        "\n",
        "- Is there any significant difference in training time if compared with Word2Vec training?"
      ]
    },
    {
      "cell_type": "code",
      "metadata": {
        "id": "UPmwnDgWoLcR",
        "outputId": "0f4c48fb-f528-4c00-d146-04fd3973bb07",
        "colab": {
          "base_uri": "https://localhost:8080/"
        }
      },
      "source": [
        "import gensim.downloader as api\n",
        "import time\n",
        "from gensim.models import FastText\n",
        "\n",
        "dataset = api.load(\"text8\")  # load dataset as iterable\n",
        "start = time.time()\n",
        "ft_model = FastText(dataset)  # train FastText model\n",
        "ft_time = time.time() - start\n",
        "\n",
        "print(f\"Training time: {ft_time}s\")"
      ],
      "execution_count": 8,
      "outputs": [
        {
          "output_type": "stream",
          "name": "stdout",
          "text": [
            "Training time: 561.4850926399231s\n"
          ]
        }
      ]
    },
    {
      "cell_type": "markdown",
      "metadata": {
        "id": "UoAQbgL1oiEM"
      },
      "source": [
        "### **Question 4:**\n",
        "Score the FastText model by exploiting the same methodology presented in Q2. \n",
        "\n",
        "**Notes:**\n",
        "- Is there any issue similar to Word2Vec model?\n",
        "- Test the model trained on Wikipedia+News available in gensim."
      ]
    },
    {
      "cell_type": "code",
      "metadata": {
        "id": "0JvL6Tizkn6j",
        "outputId": "cd0d86eb-8bec-49a3-988b-daadb46ad89c",
        "colab": {
          "base_uri": "https://localhost:8080/"
        }
      },
      "source": [
        "# Executing this cell could take ~5 minutes\n",
        "import gensim.downloader\n",
        "ft_wiki_news_model = gensim.downloader.load('fasttext-wiki-news-subwords-300')"
      ],
      "execution_count": 9,
      "outputs": [
        {
          "output_type": "stream",
          "name": "stdout",
          "text": [
            "[==================================================] 100.0% 958.5/958.4MB downloaded\n"
          ]
        }
      ]
    },
    {
      "cell_type": "code",
      "metadata": {
        "id": "r-qpIw-p0RRi",
        "outputId": "d94c3ac8-1172-4cf2-a14b-a5676895100c",
        "colab": {
          "base_uri": "https://localhost:8080/"
        }
      },
      "source": [
        "k_list = [1, 3, 5, 10]\n",
        "\n",
        "types = df['type'].unique()\n",
        "for t in types:\n",
        "  top_k_text8 = [0, 0, 0, 0]\n",
        "  top_k_news = [0, 0, 0, 0]\n",
        "  if t == 'family':\n",
        "    print(f\"Type: {t}\")\n",
        "    print(\"\")\n",
        "    df_by_type = df[df['type'] == t]\n",
        "    for i, row in df_by_type.iterrows():\n",
        "      for i, k in enumerate(k_list):\n",
        "        try:\n",
        "          if row['target'] in [x[0] for x in ft_model.wv.most_similar(positive=[row['word2'], row['word3']], negative=[row['word1']], topn=k)]:\n",
        "            top_k_text8[i] += 1\n",
        "        except:\n",
        "          pass\n",
        "        if row['target'] in [x[0] for x in ft_wiki_news_model.most_similar(positive=[row['word2'], row['word3']], negative=[row['word1']], topn=k)]:\n",
        "          top_k_news[i] += 1\n",
        "    for i, k in enumerate(k_list):\n",
        "      print(f\"Top {k} text8: {top_k_text8[i] / len(df_by_type)}\")\n",
        "      print(f\"Top {k} Wiki News: {top_k_news[i] / len(df_by_type)}\")\n",
        "      print(\"\")\n",
        "    print(\"-----------------------------------------------------------\")\n",
        "    print(\"\")"
      ],
      "execution_count": 10,
      "outputs": [
        {
          "output_type": "stream",
          "name": "stdout",
          "text": [
            "Type: family\n",
            "\n",
            "Top 1 text8: 0.27865612648221344\n",
            "Top 1 Wiki News: 0.849802371541502\n",
            "\n",
            "Top 3 text8: 0.4308300395256917\n",
            "Top 3 Wiki News: 0.950592885375494\n",
            "\n",
            "Top 5 text8: 0.48616600790513836\n",
            "Top 5 Wiki News: 0.9604743083003953\n",
            "\n",
            "Top 10 text8: 0.5553359683794467\n",
            "Top 10 Wiki News: 0.9841897233201581\n",
            "\n",
            "-----------------------------------------------------------\n",
            "\n"
          ]
        }
      ]
    },
    {
      "cell_type": "markdown",
      "metadata": {
        "id": "WRneIhkoxV_O"
      },
      "source": [
        "### **Question 5** (optional) \n",
        "Evaluate Word2Vec and FastText models  on the analogy task for the whole dataset (include all analogy types)."
      ]
    },
    {
      "cell_type": "code",
      "metadata": {
        "id": "64CHB3Umkq_1"
      },
      "source": [
        "# Your code here"
      ],
      "execution_count": null,
      "outputs": []
    },
    {
      "cell_type": "markdown",
      "metadata": {
        "id": "k-AuxU7YhU7D"
      },
      "source": [
        "## Sentence Embeddings\n",
        "\n",
        "Key takeaways from lessons and in-class practices:\n",
        "- Doc2Vec is an extension of the Word2Vec framework\n",
        "- It incorporate Document ID to obtain a more accurate representation of a document/paragraph\n",
        "- Training document vectors are pre-computed, however you can infer vectors for new documents\n",
        "- InferSent exploit a deep learning architecture to supervisedly learn sentence representations\n",
        "- InferSent vectors could exploit both Word2Vec or FastText as word embedding models."
      ]
    },
    {
      "cell_type": "markdown",
      "metadata": {
        "id": "60_q4G-xyooQ"
      },
      "source": [
        "### **Question 6:**\n",
        "\n",
        "Train a Doc2Vec model using gensim with text8 corpus. Compute the training time for the model and store it for subsequent steps."
      ]
    },
    {
      "cell_type": "code",
      "metadata": {
        "id": "9eIj2s1skr-s"
      },
      "source": [
        "%%capture\n",
        "!pip install gensim\n",
        "!pip install nltk\n",
        "!pip install sklearn"
      ],
      "execution_count": 11,
      "outputs": []
    },
    {
      "cell_type": "code",
      "metadata": {
        "id": "VxmzMJSC2VFs"
      },
      "source": [
        "import nltk\n",
        "from IPython.utils import io\n",
        "with io.capture_output() as captured:\n",
        "  nltk.download('punkt')"
      ],
      "execution_count": 13,
      "outputs": []
    },
    {
      "cell_type": "code",
      "metadata": {
        "id": "JYwzWPWCAvJq"
      },
      "source": [
        "import gensim.downloader as api\n",
        "import time\n",
        "from gensim.models.doc2vec import Doc2Vec, TaggedDocument\n",
        "\n",
        "dataset = api.load(\"text8\")  # load dataset as iterable\n",
        "data = [d for d in dataset]\n",
        "documents = [TaggedDocument(doc, [i]) for i, doc in enumerate(data)]"
      ],
      "execution_count": 14,
      "outputs": []
    },
    {
      "cell_type": "code",
      "metadata": {
        "id": "Gjh3n8LoCNA1"
      },
      "source": [
        "d2v_model = Doc2Vec(documents, vector_size=200, min_count=1, epochs=10)\n",
        "d2v_model.build_vocab(documents)\n",
        "d2v_model.train(documents, total_examples=d2v_model.corpus_count, epochs=d2v_model.epochs)"
      ],
      "execution_count": 16,
      "outputs": []
    },
    {
      "cell_type": "markdown",
      "metadata": {
        "id": "gCqY7VFOwsK9"
      },
      "source": [
        "### **Question 7 (qualitative Evaluation)**\n",
        "Perform some qualitative experiments by computing the cosine similarities between sentences composed by yourself."
      ]
    },
    {
      "cell_type": "code",
      "metadata": {
        "id": "KrYt1-LckvSI",
        "outputId": "d2a9e5b3-b644-4daf-c006-20c21d0677de",
        "colab": {
          "base_uri": "https://localhost:8080/"
        }
      },
      "source": [
        "from sklearn.metrics.pairwise import cosine_similarity\n",
        "\n",
        "vector_1 = d2v_model.infer_vector([\"university\", \"course\"])\n",
        "vector_2 = d2v_model.infer_vector([\"college\", \"graduate\"])\n",
        "print (vector_1.shape)\n",
        "print (cosine_similarity(vector_1.reshape(1, -1), vector_2.reshape(1, -1)))"
      ],
      "execution_count": 17,
      "outputs": [
        {
          "output_type": "stream",
          "name": "stdout",
          "text": [
            "(200,)\n",
            "[[0.4930306]]\n"
          ]
        }
      ]
    },
    {
      "cell_type": "markdown",
      "metadata": {
        "id": "OBqLp1LnTeME"
      },
      "source": [
        "### **Question 8** (Extrinsic Evaluation)\n",
        "\n",
        "Extrinsic evaluation measure performance of the word/sentence/paragraph embedding model for a downstream NLP task (e.g., Text Classification).\n",
        "\n",
        "We can use different configuration, training corpora or even different models to build a complete architecture for the task at hand.\n",
        "\n",
        "For this practice we use the text classification dataset available [here](https://github.com/MorenoLaQuatra/DeepNLP/blob/main/practices/P2/news_headline_classification.csv) - [source: Kaggle](https://www.kaggle.com/rmisra/news-category-dataset)\n",
        "\n",
        "**Note:** consider using just the first 10.000 headlines to reduce runtime during the lab.\n",
        "\n",
        "Compute the accuracy of 3 classification models each one built with one of the models introduced in this practice:\n",
        "- Word2Vec model pretrained on Google News corpus\n",
        "- FastText model pretrained on Wikipedia+News corpus\n",
        "- **[Optional]** Doc2Vec model pretrained on Text8 corpus\n",
        "- **[Optional]** InferSent pretrained model (v2) - [reference](https://github.com/facebookresearch/InferSent)\n",
        "\n",
        "The procedure to create a classification system is sketched below:\n",
        "1. Choose a machine learning (multi-class) classifier (e.g., MLP)\n",
        "2. Split the data collection in train/test (80%/20%)\n",
        "3. Use text vectors obtained by pretrained model as input of the classifier\n",
        "4. Measure the accuracy of the classification system\n",
        "5. Repeat step 3-4 using different embedding models \n",
        "\n",
        "\n",
        "**Note:** You need to choose an aggregation function (e.g., average) to obtain sentence embeddings from word vectors.\n",
        "\n",
        "Which model has better performance? Report the performance of each variant of the classification system."
      ]
    },
    {
      "cell_type": "code",
      "metadata": {
        "id": "qp2k7npVeoTB"
      },
      "source": [
        "%%capture\n",
        "!wget https://raw.githubusercontent.com/MorenoLaQuatra/DeepNLP/main/practices/P2/news_headline_classification.csv"
      ],
      "execution_count": 18,
      "outputs": []
    },
    {
      "cell_type": "code",
      "metadata": {
        "id": "uKQZIX6ckzcA"
      },
      "source": [
        "# Reading data\n",
        "import pandas as pd\n",
        "df_news_clf = pd.read_csv(\"news_headline_classification.csv\")\n",
        "list_sentences = df_news_clf[\"headline\"].tolist()\n",
        "list_sentences = list_sentences[:10000]\n",
        "list_labels = df_news_clf[\"category\"].tolist()\n",
        "list_labels = list_labels[:10000]"
      ],
      "execution_count": 19,
      "outputs": []
    },
    {
      "cell_type": "markdown",
      "metadata": {
        "id": "9VBbEBO6xmEL"
      },
      "source": [
        "**Word2Vec + Average aggregation function**"
      ]
    },
    {
      "cell_type": "code",
      "metadata": {
        "id": "mmjcUbRCk2Ll",
        "outputId": "a3fbd136-7b23-4c23-8dce-fb24a8a4e20e",
        "colab": {
          "base_uri": "https://localhost:8080/"
        }
      },
      "source": [
        "# Word2Vec + Avg\n",
        "from nltk import word_tokenize\n",
        "import numpy as np\n",
        "from tqdm import tqdm\n",
        "list_w2v_vectors = []\n",
        "for s in tqdm(list_sentences):\n",
        "    words = word_tokenize(s)\n",
        "    words_vectors = []\n",
        "    for w in words:\n",
        "        try:\n",
        "            words_vectors.append(w2v_google_news_model[w])\n",
        "        except Exception as e:\n",
        "            continue\n",
        "    if len(words_vectors) > 0:\n",
        "        sentence_vector = np.mean(words_vectors, axis=0)\n",
        "    else:\n",
        "        sentence_vector = np.zeros(300)\n",
        "    list_w2v_vectors.append(sentence_vector)"
      ],
      "execution_count": 24,
      "outputs": [
        {
          "output_type": "stream",
          "name": "stderr",
          "text": [
            "100%|██████████| 10000/10000 [00:02<00:00, 4059.87it/s]\n"
          ]
        }
      ]
    },
    {
      "cell_type": "code",
      "metadata": {
        "id": "OjU556V7HzUU",
        "outputId": "f781fb98-e121-445f-b8a5-3e79b338f718",
        "colab": {
          "base_uri": "https://localhost:8080/"
        }
      },
      "source": [
        "from sklearn.neural_network import MLPClassifier\n",
        "from sklearn.model_selection import train_test_split\n",
        "from sklearn.metrics import accuracy_score, classification_report\n",
        "\n",
        "X_train, X_test, y_train, y_test = train_test_split(list_w2v_vectors, list_labels , test_size=0.20, random_state=42)\n",
        "mlp = MLPClassifier(hidden_layer_sizes=(50), verbose=False)\n",
        "mlp = mlp.fit(X_train, y_train)\n",
        "y_pred = mlp.predict(X_test)\n",
        "\n",
        "print (accuracy_score(y_test, y_pred))\n",
        "print (classification_report(y_test, y_pred))"
      ],
      "execution_count": 27,
      "outputs": [
        {
          "output_type": "stream",
          "name": "stdout",
          "text": [
            "0.646\n",
            "                precision    recall  f1-score   support\n",
            "\n",
            "ARTS & CULTURE       0.00      0.00      0.00         9\n",
            "  BLACK VOICES       0.47      0.37      0.41        95\n",
            "      BUSINESS       0.31      0.15      0.21        26\n",
            "        COMEDY       0.56      0.53      0.55        96\n",
            "         CRIME       0.41      0.31      0.35        42\n",
            "     EDUCATION       0.29      0.29      0.29         7\n",
            " ENTERTAINMENT       0.63      0.76      0.69       376\n",
            "         GREEN       0.33      0.50      0.40         8\n",
            "HEALTHY LIVING       0.17      0.14      0.15        14\n",
            "        IMPACT       0.50      0.24      0.32        17\n",
            " LATINO VOICES       0.38      0.33      0.35        18\n",
            "         MEDIA       0.52      0.39      0.44        57\n",
            "       PARENTS       0.55      0.33      0.41        18\n",
            "      POLITICS       0.77      0.84      0.80       736\n",
            "  QUEER VOICES       0.69      0.51      0.59       100\n",
            "      RELIGION       0.54      0.39      0.45        18\n",
            "       SCIENCE       0.00      0.00      0.00         5\n",
            "        SPORTS       0.68      0.55      0.61        83\n",
            "         STYLE       0.29      0.15      0.20        13\n",
            "         TASTE       0.50      0.20      0.29         5\n",
            "          TECH       0.40      0.40      0.40        10\n",
            "        TRAVEL       0.58      0.47      0.52        15\n",
            "    WEIRD NEWS       0.33      0.28      0.31        53\n",
            "         WOMEN       0.34      0.31      0.33        51\n",
            "    WORLD NEWS       0.63      0.67      0.65       128\n",
            "\n",
            "      accuracy                           0.65      2000\n",
            "     macro avg       0.43      0.37      0.39      2000\n",
            "  weighted avg       0.63      0.65      0.63      2000\n",
            "\n"
          ]
        },
        {
          "output_type": "stream",
          "name": "stderr",
          "text": [
            "/usr/local/lib/python3.7/dist-packages/sklearn/neural_network/_multilayer_perceptron.py:571: ConvergenceWarning: Stochastic Optimizer: Maximum iterations (200) reached and the optimization hasn't converged yet.\n",
            "  % self.max_iter, ConvergenceWarning)\n"
          ]
        }
      ]
    },
    {
      "cell_type": "markdown",
      "metadata": {
        "id": "kTLSmUJXxeId"
      },
      "source": [
        "**FastText + Average aggregation function**"
      ]
    },
    {
      "cell_type": "code",
      "metadata": {
        "id": "VtMLnlTyk4J7",
        "outputId": "8667f7ff-8274-427e-9a00-b71e9161ad47",
        "colab": {
          "base_uri": "https://localhost:8080/"
        }
      },
      "source": [
        "# FastText + Avg\n",
        "from nltk import word_tokenize\n",
        "import numpy as np\n",
        "list_ft_vectors = []\n",
        "for s in tqdm(list_sentences):\n",
        "    words = word_tokenize(s)\n",
        "    words_vectors = []\n",
        "    for w in words:\n",
        "        try:\n",
        "            words_vectors.append(ft_wiki_news_model[w])\n",
        "        except Exception as e:\n",
        "            #print (e)\n",
        "            continue\n",
        "    if len(words_vectors) > 0:\n",
        "        sentence_vector = np.mean(words_vectors, axis=0)\n",
        "    else:\n",
        "        sentence_vector = np.zeros(300)\n",
        "    list_ft_vectors.append(sentence_vector)"
      ],
      "execution_count": 28,
      "outputs": [
        {
          "output_type": "stream",
          "name": "stderr",
          "text": [
            "100%|██████████| 10000/10000 [00:02<00:00, 4118.76it/s]\n"
          ]
        }
      ]
    },
    {
      "cell_type": "code",
      "metadata": {
        "id": "f_t8I2tKH7Zs",
        "outputId": "a0d54e2c-79e4-4ea8-bbe1-6cc682f300b3",
        "colab": {
          "base_uri": "https://localhost:8080/"
        }
      },
      "source": [
        "X_train, X_test, y_train, y_test = train_test_split(list_ft_vectors, list_labels , test_size=0.20, random_state=42)\n",
        "mlp = MLPClassifier(hidden_layer_sizes=(50), verbose=False)\n",
        "mlp = mlp.fit(X_train, y_train)\n",
        "y_pred = mlp.predict(X_test)\n",
        "\n",
        "print (accuracy_score(y_test, y_pred))\n",
        "print (classification_report(y_test, y_pred))"
      ],
      "execution_count": 29,
      "outputs": [
        {
          "output_type": "stream",
          "name": "stdout",
          "text": [
            "0.644\n",
            "                precision    recall  f1-score   support\n",
            "\n",
            "ARTS & CULTURE       0.00      0.00      0.00         9\n",
            "  BLACK VOICES       0.47      0.41      0.44        95\n",
            "      BUSINESS       0.40      0.08      0.13        26\n",
            "        COMEDY       0.67      0.48      0.56        96\n",
            "         CRIME       0.39      0.33      0.36        42\n",
            "     EDUCATION       0.25      0.14      0.18         7\n",
            " ENTERTAINMENT       0.62      0.78      0.69       376\n",
            "         GREEN       0.33      0.38      0.35         8\n",
            "HEALTHY LIVING       0.00      0.00      0.00        14\n",
            "        IMPACT       0.29      0.12      0.17        17\n",
            " LATINO VOICES       0.40      0.22      0.29        18\n",
            "         MEDIA       0.49      0.40      0.44        57\n",
            "       PARENTS       0.40      0.11      0.17        18\n",
            "      POLITICS       0.74      0.86      0.79       736\n",
            "  QUEER VOICES       0.62      0.61      0.61       100\n",
            "      RELIGION       0.33      0.17      0.22        18\n",
            "       SCIENCE       0.33      0.20      0.25         5\n",
            "        SPORTS       0.76      0.51      0.61        83\n",
            "         STYLE       0.12      0.08      0.10        13\n",
            "         TASTE       0.00      0.00      0.00         5\n",
            "          TECH       0.75      0.30      0.43        10\n",
            "        TRAVEL       0.54      0.47      0.50        15\n",
            "    WEIRD NEWS       0.42      0.38      0.40        53\n",
            "         WOMEN       0.35      0.25      0.30        51\n",
            "    WORLD NEWS       0.64      0.62      0.63       128\n",
            "\n",
            "      accuracy                           0.64      2000\n",
            "     macro avg       0.41      0.32      0.34      2000\n",
            "  weighted avg       0.62      0.64      0.62      2000\n",
            "\n"
          ]
        },
        {
          "output_type": "stream",
          "name": "stderr",
          "text": [
            "/usr/local/lib/python3.7/dist-packages/sklearn/neural_network/_multilayer_perceptron.py:571: ConvergenceWarning: Stochastic Optimizer: Maximum iterations (200) reached and the optimization hasn't converged yet.\n",
            "  % self.max_iter, ConvergenceWarning)\n",
            "/usr/local/lib/python3.7/dist-packages/sklearn/metrics/_classification.py:1272: UndefinedMetricWarning: Precision and F-score are ill-defined and being set to 0.0 in labels with no predicted samples. Use `zero_division` parameter to control this behavior.\n",
            "  _warn_prf(average, modifier, msg_start, len(result))\n"
          ]
        }
      ]
    },
    {
      "cell_type": "markdown",
      "metadata": {
        "id": "mBjSrAx9xrON"
      },
      "source": [
        "**Doc2Vec (Text8)**"
      ]
    },
    {
      "cell_type": "code",
      "metadata": {
        "id": "rbcc4qWmk9Jt",
        "outputId": "bb05ba9a-ff7b-4e2c-d2c4-c17760880bc0",
        "colab": {
          "base_uri": "https://localhost:8080/"
        }
      },
      "source": [
        "# Doc2Vec\n",
        "from nltk import word_tokenize\n",
        "import numpy as np\n",
        "list_d2v_vectors = []\n",
        "for s in tqdm(list_sentences):\n",
        "    words = word_tokenize(s)\n",
        "    try:\n",
        "        sentence_vector = d2v_model.infer_vector(words)\n",
        "    except Exception as e:\n",
        "        print (e)\n",
        "        sentence_vector = np.zeros(300)\n",
        "\n",
        "    list_d2v_vectors.append(sentence_vector)"
      ],
      "execution_count": 30,
      "outputs": [
        {
          "output_type": "stream",
          "name": "stderr",
          "text": [
            "100%|██████████| 10000/10000 [00:06<00:00, 1439.57it/s]\n"
          ]
        }
      ]
    },
    {
      "cell_type": "code",
      "metadata": {
        "id": "AlkAALJrIoBF",
        "outputId": "2e8bb529-fc11-433f-b5b0-f107dfe57975",
        "colab": {
          "base_uri": "https://localhost:8080/"
        }
      },
      "source": [
        "X_train, X_test, y_train, y_test = train_test_split(list_d2v_vectors, list_labels , test_size=0.20, random_state=42)\n",
        "mlp = MLPClassifier(hidden_layer_sizes=(50), verbose=False)\n",
        "mlp = mlp.fit(X_train, y_train)\n",
        "y_pred = mlp.predict(X_test)\n",
        "\n",
        "print (accuracy_score(y_test, y_pred))\n",
        "print (classification_report(y_test, y_pred))"
      ],
      "execution_count": 31,
      "outputs": [
        {
          "output_type": "stream",
          "name": "stdout",
          "text": [
            "0.3675\n",
            "                precision    recall  f1-score   support\n",
            "\n",
            "ARTS & CULTURE       0.00      0.00      0.00         9\n",
            "  BLACK VOICES       0.00      0.00      0.00        95\n",
            "      BUSINESS       0.00      0.00      0.00        26\n",
            "        COMEDY       0.00      0.00      0.00        96\n",
            "         CRIME       0.00      0.00      0.00        42\n",
            "     EDUCATION       0.00      0.00      0.00         7\n",
            " ENTERTAINMENT       0.00      0.00      0.00       376\n",
            "         GREEN       0.00      0.00      0.00         8\n",
            "HEALTHY LIVING       0.00      0.00      0.00        14\n",
            "        IMPACT       0.00      0.00      0.00        17\n",
            " LATINO VOICES       0.00      0.00      0.00        18\n",
            "         MEDIA       0.00      0.00      0.00        57\n",
            "       PARENTS       0.00      0.00      0.00        18\n",
            "      POLITICS       0.37      1.00      0.54       736\n",
            "  QUEER VOICES       0.00      0.00      0.00       100\n",
            "      RELIGION       0.00      0.00      0.00        18\n",
            "       SCIENCE       0.00      0.00      0.00         5\n",
            "        SPORTS       0.00      0.00      0.00        83\n",
            "         STYLE       0.00      0.00      0.00        13\n",
            "         TASTE       0.00      0.00      0.00         5\n",
            "          TECH       0.00      0.00      0.00        10\n",
            "        TRAVEL       0.00      0.00      0.00        15\n",
            "    WEIRD NEWS       0.00      0.00      0.00        53\n",
            "         WOMEN       1.00      0.02      0.04        51\n",
            "    WORLD NEWS       0.00      0.00      0.00       128\n",
            "\n",
            "      accuracy                           0.37      2000\n",
            "     macro avg       0.05      0.04      0.02      2000\n",
            "  weighted avg       0.16      0.37      0.20      2000\n",
            "\n"
          ]
        },
        {
          "output_type": "stream",
          "name": "stderr",
          "text": [
            "/usr/local/lib/python3.7/dist-packages/sklearn/neural_network/_multilayer_perceptron.py:571: ConvergenceWarning: Stochastic Optimizer: Maximum iterations (200) reached and the optimization hasn't converged yet.\n",
            "  % self.max_iter, ConvergenceWarning)\n",
            "/usr/local/lib/python3.7/dist-packages/sklearn/metrics/_classification.py:1272: UndefinedMetricWarning: Precision and F-score are ill-defined and being set to 0.0 in labels with no predicted samples. Use `zero_division` parameter to control this behavior.\n",
            "  _warn_prf(average, modifier, msg_start, len(result))\n"
          ]
        }
      ]
    },
    {
      "cell_type": "markdown",
      "metadata": {
        "id": "t7DkgKMcxrIy"
      },
      "source": [
        "**InferSent**"
      ]
    },
    {
      "cell_type": "code",
      "metadata": {
        "id": "JCIQ1EEUYEwk"
      },
      "source": [
        "%%capture\n",
        "# InferSent download required files\n",
        "\n",
        "! mkdir fastText\n",
        "! curl -Lo fastText/crawl-300d-2M.vec.zip https://dl.fbaipublicfiles.com/fasttext/vectors-english/crawl-300d-2M.vec.zip\n",
        "! unzip fastText/crawl-300d-2M.vec.zip -d fastText/\n",
        "! mkdir encoder\n",
        "! curl -Lo encoder/infersent2.pkl https://dl.fbaipublicfiles.com/infersent/infersent2.pkl\n",
        "! git clone https://github.com/facebookresearch/InferSent.git"
      ],
      "execution_count": 32,
      "outputs": []
    },
    {
      "cell_type": "code",
      "metadata": {
        "id": "QmtxnnC0Y9Cb"
      },
      "source": [
        "from InferSent.models import InferSent\n",
        "import torch\n",
        "V = 2\n",
        "MODEL_PATH = 'encoder/infersent%s.pkl' % V\n",
        "params_model = {'bsize': 64, 'word_emb_dim': 300, 'enc_lstm_dim': 2048,\n",
        "                'pool_type': 'max', 'dpout_model': 0.0, 'version': V}\n",
        "infersent = InferSent(params_model)\n",
        "infersent.load_state_dict(torch.load(MODEL_PATH))\n",
        "\n",
        "W2V_PATH = 'fastText/crawl-300d-2M.vec'\n",
        "infersent.set_w2v_path(W2V_PATH)"
      ],
      "execution_count": 33,
      "outputs": []
    },
    {
      "cell_type": "code",
      "metadata": {
        "id": "hfKMM5E9lDeY",
        "outputId": "5dc1ae8f-8bb9-4657-8b59-90ea362ab5f9",
        "colab": {
          "base_uri": "https://localhost:8080/"
        }
      },
      "source": [
        "infersent.build_vocab(list_sentences, tokenize=True)"
      ],
      "execution_count": 34,
      "outputs": [
        {
          "output_type": "stream",
          "name": "stdout",
          "text": [
            "Found 13627(/15255) words with w2v vectors\n",
            "Vocab size : 13627\n"
          ]
        }
      ]
    },
    {
      "cell_type": "code",
      "metadata": {
        "id": "Wsw8Vnd4I0pv",
        "outputId": "279190d4-f967-428d-8489-48929d7cc74a",
        "colab": {
          "base_uri": "https://localhost:8080/"
        }
      },
      "source": [
        "# InferSent\n",
        "from nltk import word_tokenize\n",
        "import numpy as np\n",
        "infersent_embeddings = infersent.encode(list_sentences, tokenize=True)"
      ],
      "execution_count": 35,
      "outputs": [
        {
          "output_type": "stream",
          "name": "stderr",
          "text": [
            "/content/InferSent/models.py:207: VisibleDeprecationWarning: Creating an ndarray from ragged nested sequences (which is a list-or-tuple of lists-or-tuples-or ndarrays with different lengths or shapes) is deprecated. If you meant to do this, you must specify 'dtype=object' when creating the ndarray\n",
            "  sentences = np.array(sentences)[idx_sort]\n"
          ]
        }
      ]
    },
    {
      "cell_type": "code",
      "metadata": {
        "id": "Tao7g-gEI2o3",
        "outputId": "0a98601b-c5b2-453c-ca9e-60e40aa6508e",
        "colab": {
          "base_uri": "https://localhost:8080/"
        }
      },
      "source": [
        "X_train, X_test, y_train, y_test = train_test_split(infersent_embeddings, list_labels , test_size=0.20, random_state=42)\n",
        "mlp = MLPClassifier(hidden_layer_sizes=(50), verbose=False)\n",
        "mlp = mlp.fit(X_train, y_train)\n",
        "y_pred = mlp.predict(X_test)\n",
        "\n",
        "print (accuracy_score(y_test, y_pred))\n",
        "print (classification_report(y_test, y_pred))"
      ],
      "execution_count": 36,
      "outputs": [
        {
          "output_type": "stream",
          "name": "stdout",
          "text": [
            "0.685\n",
            "                precision    recall  f1-score   support\n",
            "\n",
            "ARTS & CULTURE       0.00      0.00      0.00         9\n",
            "  BLACK VOICES       0.54      0.54      0.54        95\n",
            "      BUSINESS       0.46      0.23      0.31        26\n",
            "        COMEDY       0.71      0.64      0.67        96\n",
            "         CRIME       0.56      0.36      0.43        42\n",
            "     EDUCATION       0.40      0.29      0.33         7\n",
            " ENTERTAINMENT       0.66      0.77      0.71       376\n",
            "         GREEN       0.44      0.50      0.47         8\n",
            "HEALTHY LIVING       0.25      0.14      0.18        14\n",
            "        IMPACT       0.43      0.18      0.25        17\n",
            " LATINO VOICES       0.50      0.39      0.44        18\n",
            "         MEDIA       0.54      0.49      0.51        57\n",
            "       PARENTS       0.71      0.28      0.40        18\n",
            "      POLITICS       0.79      0.87      0.83       736\n",
            "  QUEER VOICES       0.71      0.62      0.66       100\n",
            "      RELIGION       0.53      0.44      0.48        18\n",
            "       SCIENCE       0.00      0.00      0.00         5\n",
            "        SPORTS       0.74      0.58      0.65        83\n",
            "         STYLE       0.12      0.08      0.10        13\n",
            "         TASTE       0.50      0.40      0.44         5\n",
            "          TECH       0.50      0.30      0.37        10\n",
            "        TRAVEL       0.60      0.40      0.48        15\n",
            "    WEIRD NEWS       0.49      0.38      0.43        53\n",
            "         WOMEN       0.39      0.37      0.38        51\n",
            "    WORLD NEWS       0.66      0.70      0.68       128\n",
            "\n",
            "      accuracy                           0.69      2000\n",
            "     macro avg       0.49      0.40      0.43      2000\n",
            "  weighted avg       0.67      0.69      0.67      2000\n",
            "\n"
          ]
        },
        {
          "output_type": "stream",
          "name": "stderr",
          "text": [
            "/usr/local/lib/python3.7/dist-packages/sklearn/neural_network/_multilayer_perceptron.py:571: ConvergenceWarning: Stochastic Optimizer: Maximum iterations (200) reached and the optimization hasn't converged yet.\n",
            "  % self.max_iter, ConvergenceWarning)\n"
          ]
        }
      ]
    }
  ]
}