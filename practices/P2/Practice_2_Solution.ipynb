{
  "nbformat": 4,
  "nbformat_minor": 0,
  "metadata": {
    "colab": {
      "name": "Practice 2 (Solution) - Word and Sentence Embeddings.ipynb",
      "provenance": [],
      "collapsed_sections": []
    },
    "kernelspec": {
      "name": "python3",
      "display_name": "Python 3"
    },
    "language_info": {
      "name": "python"
    },
    "accelerator": "GPU"
  },
  "cells": [
    {
      "cell_type": "markdown",
      "metadata": {
        "id": "dbYDu6cchK-l"
      },
      "source": [
        "#**Deep Natural Language Processing @ PoliTO**\n",
        "\n",
        "---\n",
        "\n",
        "\n",
        "**Teaching Assistant:** Moreno La Quatra\n",
        "\n",
        "**Practice 2:** Word and Sentence Embeddings"
      ]
    },
    {
      "cell_type": "markdown",
      "metadata": {
        "id": "zbJsg8XEOudF"
      },
      "source": [
        "## Word Embedding \n",
        "\n",
        "![](https://qph.fs.quoracdn.net/main-qimg-3e812fd164a08f5e4f195000fecf988f)\n",
        "\n",
        "\n",
        "**Key takeaways** from lessons and in-class practices:\n",
        "- Word embeddings are able to map words into a semantic-aware vector space\n",
        "- There are multiple architectures for the generation of word embeddings\n",
        "- Each architecture has its advantages and disadvantages\n",
        "- Word embedding evaluation could be intrinsic (intermediate tasks) or extrinsic (downstream task)\n",
        "- It is possible to use pre-trained word embedding models or use large amount of text to train it from scratch\n"
      ]
    },
    {
      "cell_type": "markdown",
      "metadata": {
        "id": "w-9kQCr4P8wP"
      },
      "source": [
        "### **Question 1**\n",
        "\n",
        "Train a new Word2Vec model using gensim with the text8 corpus available in the python package ([reference](https://radimrehurek.com/gensim/downloader.html)). Compute the training time for the model and store it for subsequent steps."
      ]
    },
    {
      "cell_type": "code",
      "metadata": {
        "colab": {
          "base_uri": "https://localhost:8080/"
        },
        "id": "UW_G_mRAOt9e",
        "outputId": "76b07e9c-5e7c-41a4-e78e-3c77fd03c492"
      },
      "source": [
        "! pip install --upgrade gensim"
      ],
      "execution_count": null,
      "outputs": [
        {
          "output_type": "stream",
          "name": "stdout",
          "text": [
            "Requirement already satisfied: gensim in /usr/local/lib/python3.7/dist-packages (3.6.0)\n",
            "Collecting gensim\n",
            "  Downloading gensim-4.1.2-cp37-cp37m-manylinux_2_12_x86_64.manylinux2010_x86_64.whl (24.1 MB)\n",
            "\u001b[K     |████████████████████████████████| 24.1 MB 2.8 kB/s \n",
            "\u001b[?25hRequirement already satisfied: scipy>=0.18.1 in /usr/local/lib/python3.7/dist-packages (from gensim) (1.4.1)\n",
            "Requirement already satisfied: smart-open>=1.8.1 in /usr/local/lib/python3.7/dist-packages (from gensim) (5.2.1)\n",
            "Requirement already satisfied: numpy>=1.17.0 in /usr/local/lib/python3.7/dist-packages (from gensim) (1.19.5)\n",
            "Installing collected packages: gensim\n",
            "  Attempting uninstall: gensim\n",
            "    Found existing installation: gensim 3.6.0\n",
            "    Uninstalling gensim-3.6.0:\n",
            "      Successfully uninstalled gensim-3.6.0\n",
            "Successfully installed gensim-4.1.2\n"
          ]
        }
      ]
    },
    {
      "cell_type": "code",
      "metadata": {
        "colab": {
          "base_uri": "https://localhost:8080/"
        },
        "id": "jadmJNAZhUMn",
        "outputId": "57586f98-7ea6-4790-83eb-690c9809c220"
      },
      "source": [
        "import gensim.downloader as api\n",
        "from gensim.models import Word2Vec\n",
        "import time\n",
        "dataset = api.load(\"text8\")\n",
        "start = time.time()\n",
        "w2v_model = Word2Vec(dataset)\n",
        "end = time.time()\n",
        "\n",
        "print (\"(Word2Vec on Text8) Training took\", end-start, \"seconds\")"
      ],
      "execution_count": null,
      "outputs": [
        {
          "output_type": "stream",
          "name": "stdout",
          "text": [
            "[==================================================] 100.0% 31.6/31.6MB downloaded\n",
            "(Word2Vec on Text8) Training took 145.4744997024536 seconds\n"
          ]
        }
      ]
    },
    {
      "cell_type": "code",
      "metadata": {
        "id": "Brg3sZtshT7t"
      },
      "source": [
        "w2v_model.save(\"text8_w2v.model\")"
      ],
      "execution_count": null,
      "outputs": []
    },
    {
      "cell_type": "markdown",
      "metadata": {
        "id": "Mij5WNAARGMl"
      },
      "source": [
        "### **Question 2**:\n",
        "Perform intrinsic evaluation of the model for the task of word analogy by exploiting the data collection available [here](https://raw.githubusercontent.com/MorenoLaQuatra/DeepNLP/main/practices/P2/google_analogies.csv). \n",
        "\n",
        "1. read CSV file\n",
        "2. group analogy entries by type (column: `type`)\n",
        "3. for each type entry (**in the lab, just set type=\"family\"** to reduce the required time) use the first 3 word vectors to compute the fourth\n",
        "    - Entry: `Athens,Greece,Baghdad,Iraq`\n",
        "    - `v(Greece) - v(Athens) + v(Baghdad) = res_v` \n",
        "    - Get the most similar vectors to `res_v`\n",
        "    - Compute in how many cases the correct word is among the top K (if `v[Iraq]` is among the K most similar words) with `K = 1, 3, 5, 10`\n",
        "\n",
        "$top(k) = \\dfrac{\\sum_{i=1}^{N} f(i)}{|E|}$\n",
        "\n",
        "where $f(i) = 1$ if the target word is among the top k and $f(i) = 0$ otherwise.\n",
        "\n",
        "$|E|$ is the total number of entries for the considered type.\n",
        "\n",
        "**Notes:**\n",
        "1. Try with the model trained on `text8`, is there any issue?\n",
        "2. Test the model trained on Google News available in gensim.\n",
        "\n"
      ]
    },
    {
      "cell_type": "code",
      "metadata": {
        "id": "VArA054TTX5y"
      },
      "source": [
        "%%capture\n",
        "! wget https://raw.githubusercontent.com/MorenoLaQuatra/DeepNLP/main/practices/P2/google_analogies.csv\n",
        "! pip install --upgrade pandas"
      ],
      "execution_count": null,
      "outputs": []
    },
    {
      "cell_type": "code",
      "metadata": {
        "id": "LDPl6w1ob3WX",
        "colab": {
          "base_uri": "https://localhost:8080/"
        },
        "outputId": "10c05065-4fd6-4964-8c1b-61381f113194"
      },
      "source": [
        "# Executing this cell could take ~5 minutes\n",
        "import gensim.downloader\n",
        "w2v_google_news_model = gensim.downloader.load('word2vec-google-news-300')"
      ],
      "execution_count": null,
      "outputs": [
        {
          "output_type": "stream",
          "name": "stdout",
          "text": [
            "[==================================================] 100.0% 1662.8/1662.8MB downloaded\n"
          ]
        }
      ]
    },
    {
      "cell_type": "code",
      "metadata": {
        "colab": {
          "base_uri": "https://localhost:8080/"
        },
        "id": "q_1nphJpTalX",
        "outputId": "05faa651-fa06-41d3-87de-0af9227f5df0"
      },
      "source": [
        "import pandas as pd\n",
        "df_google_dataset = pd.read_csv(\"google_analogies.csv\")\n",
        "print (df_google_dataset.head())\n",
        "types = set(df_google_dataset[\"type\"].tolist())\n",
        "print (types)"
      ],
      "execution_count": null,
      "outputs": [
        {
          "output_type": "stream",
          "name": "stdout",
          "text": [
            "   Unnamed: 0                      type   word1   word2    word3       target\n",
            "0           0  capital-common-countries  Athens  Greece  Baghdad         Iraq\n",
            "1           1  capital-common-countries  Athens  Greece  Bangkok     Thailand\n",
            "2           2  capital-common-countries  Athens  Greece  Beijing        China\n",
            "3           3  capital-common-countries  Athens  Greece   Berlin      Germany\n",
            "4           4  capital-common-countries  Athens  Greece     Bern  Switzerland\n",
            "{'gram6-nationality-adjective', 'gram7-past-tense', 'gram8-plural', 'gram9-plural-verbs', 'family', 'gram1-adjective-to-adverb', 'gram5-present-participle', 'currency', 'gram4-superlative', 'capital-world', 'capital-common-countries', 'city-in-state', 'gram2-opposite', 'gram3-comparative'}\n"
          ]
        }
      ]
    },
    {
      "cell_type": "markdown",
      "metadata": {
        "id": "rvJOhGa-cmln"
      },
      "source": [
        "**Answer 2.1:** The model trained on text8 has limited vocabulary. Most of the entries in the analogy dataset result in a OOV error."
      ]
    },
    {
      "cell_type": "code",
      "metadata": {
        "colab": {
          "base_uri": "https://localhost:8080/"
        },
        "id": "DrCKGodhTiq5",
        "outputId": "63848c83-4f40-4b04-bb53-28f10e555edc"
      },
      "source": [
        "from tqdm import tqdm\n",
        "\n",
        "def score_word_embedding_model (complete_df, model, analogy_type=\"family\", MAX_K=10):\n",
        "\n",
        "    top_dict = {}\n",
        "    keys = list(range(1, MAX_K+1))\n",
        "    for k in keys:\n",
        "        top_dict[k] = 0\n",
        "\n",
        "    temp_df = complete_df.loc[complete_df['type'] == analogy_type]\n",
        "    word_1_list = temp_df[\"word1\"].tolist()\n",
        "    word_2_list = temp_df[\"word2\"].tolist()\n",
        "    word_3_list = temp_df[\"word3\"].tolist()\n",
        "    target_list = temp_df[\"target\"].tolist()\n",
        "\n",
        "    for i, _ in enumerate(tqdm(word_1_list)):\n",
        "        try:\n",
        "            try:\n",
        "                most_similar_words = model.most_similar(positive=[word_2_list[i], word_3_list[i]], negative=[word_1_list[i]], topn=10)\n",
        "            except: \n",
        "                most_similar_words = model.wv.most_similar(positive=[word_2_list[i], word_3_list[i]], negative=[word_1_list[i]], topn=10)\n",
        "            #print (most_similar_words)\n",
        "            most_similar_words_list=[w[0] for w in most_similar_words]\n",
        "            if target_list[i] in most_similar_words_list:\n",
        "                index = most_similar_words_list.index(target_list[i])\n",
        "                positive_keys = range(index+1, MAX_K+1)\n",
        "                for pk in positive_keys:\n",
        "                    top_dict[pk]+=1\n",
        "        except Exception as e:\n",
        "            print (e)\n",
        "    \n",
        "    print (\"-------------------------\")\n",
        "    print (\"Results for\", analogy_type)\n",
        "    print (\"-------------------------\")\n",
        "    for k in top_dict.keys():\n",
        "        print (\"@\"+str(k), \"=\", top_dict[k]/len(target_list))\n",
        "\n",
        "print (\"Text8 model - Word2Vec\")\n",
        "score_word_embedding_model(df_google_dataset,w2v_model)\n",
        "print (\"Google News model - Word2Vec\")\n",
        "score_word_embedding_model(df_google_dataset,w2v_google_news_model)"
      ],
      "execution_count": null,
      "outputs": [
        {
          "output_type": "stream",
          "name": "stdout",
          "text": [
            "Text8 model - Word2Vec\n"
          ]
        },
        {
          "output_type": "stream",
          "name": "stderr",
          "text": [
            "  6%|▌         | 28/506 [00:00<00:01, 278.72it/s]"
          ]
        },
        {
          "output_type": "stream",
          "name": "stdout",
          "text": [
            "\"Key 'stepbrother' not present\"\n",
            "\"Key 'stepbrother' not present\"\n",
            "\"Key 'stepbrother' not present\"\n"
          ]
        },
        {
          "output_type": "stream",
          "name": "stderr",
          "text": [
            "\r 13%|█▎        | 64/506 [00:00<00:01, 321.51it/s]"
          ]
        },
        {
          "output_type": "stream",
          "name": "stdout",
          "text": [
            "\"Key 'stepbrother' not present\"\n"
          ]
        },
        {
          "output_type": "stream",
          "name": "stderr",
          "text": [
            "\r 20%|█▉        | 100/506 [00:00<00:01, 337.34it/s]"
          ]
        },
        {
          "output_type": "stream",
          "name": "stdout",
          "text": [
            "\"Key 'stepbrother' not present\"\n",
            "\"Key 'stepbrother' not present\"\n"
          ]
        },
        {
          "output_type": "stream",
          "name": "stderr",
          "text": [
            "\r 26%|██▋       | 134/506 [00:00<00:01, 336.65it/s]"
          ]
        },
        {
          "output_type": "stream",
          "name": "stdout",
          "text": [
            "\"Key 'stepbrother' not present\"\n",
            "\"Key 'stepbrother' not present\"\n"
          ]
        },
        {
          "output_type": "stream",
          "name": "stderr",
          "text": [
            " 40%|███▉      | 202/506 [00:00<00:00, 328.80it/s]"
          ]
        },
        {
          "output_type": "stream",
          "name": "stdout",
          "text": [
            "\"Key 'stepbrother' not present\"\n",
            "\"Key 'stepbrother' not present\"\n",
            "\"Key 'stepbrother' not present\"\n"
          ]
        },
        {
          "output_type": "stream",
          "name": "stderr",
          "text": [
            "\r 47%|████▋     | 236/506 [00:00<00:00, 331.18it/s]"
          ]
        },
        {
          "output_type": "stream",
          "name": "stdout",
          "text": [
            "\"Key 'stepbrother' not present\"\n"
          ]
        },
        {
          "output_type": "stream",
          "name": "stderr",
          "text": [
            "\r 54%|█████▍    | 272/506 [00:00<00:00, 337.51it/s]"
          ]
        },
        {
          "output_type": "stream",
          "name": "stdout",
          "text": [
            "\"Key 'stepbrother' not present\"\n",
            "\"Key 'stepbrother' not present\"\n"
          ]
        },
        {
          "output_type": "stream",
          "name": "stderr",
          "text": [
            "\r 61%|██████    | 307/506 [00:00<00:00, 340.75it/s]"
          ]
        },
        {
          "output_type": "stream",
          "name": "stdout",
          "text": [
            "\"Key 'stepbrother' not present\"\n",
            "\"Key 'policewoman' not present\"\n",
            "\"Key 'policewoman' not present\"\n",
            "\"Key 'policewoman' not present\"\n",
            "\"Key 'policewoman' not present\"\n",
            "\"Key 'policewoman' not present\"\n",
            "\"Key 'policewoman' not present\"\n",
            "\"Key 'policewoman' not present\"\n",
            "\"Key 'policewoman' not present\"\n",
            "\"Key 'policewoman' not present\"\n",
            "\"Key 'policewoman' not present\"\n",
            "\"Key 'policewoman' not present\"\n",
            "\"Key 'policewoman' not present\"\n",
            "\"Key 'policewoman' not present\"\n",
            "\"Key 'policewoman' not present\"\n",
            "\"Key 'policewoman' not present\"\n",
            "\"Key 'policewoman' not present\"\n",
            "\"Key 'policewoman' not present\"\n",
            "\"Key 'policewoman' not present\"\n",
            "\"Key 'policewoman' not present\"\n",
            "\"Key 'policewoman' not present\"\n",
            "\"Key 'policewoman' not present\"\n",
            "\"Key 'policewoman' not present\"\n",
            "\"Key 'stepbrother' not present\"\n"
          ]
        },
        {
          "output_type": "stream",
          "name": "stderr",
          "text": [
            "\r 71%|███████   | 357/506 [00:01<00:00, 384.20it/s]"
          ]
        },
        {
          "output_type": "stream",
          "name": "stdout",
          "text": [
            "\"Key 'stepbrother' not present\"\n"
          ]
        },
        {
          "output_type": "stream",
          "name": "stderr",
          "text": [
            "\r 78%|███████▊  | 396/506 [00:01<00:00, 360.42it/s]"
          ]
        },
        {
          "output_type": "stream",
          "name": "stdout",
          "text": [
            "\"Key 'stepbrother' not present\"\n"
          ]
        },
        {
          "output_type": "stream",
          "name": "stderr",
          "text": [
            "\r 89%|████████▉ | 450/506 [00:01<00:00, 408.92it/s]"
          ]
        },
        {
          "output_type": "stream",
          "name": "stdout",
          "text": [
            "\"Key 'stepsister' not present\"\n",
            "\"Key 'stepsister' not present\"\n",
            "\"Key 'stepsister' not present\"\n",
            "\"Key 'stepsister' not present\"\n",
            "\"Key 'stepsister' not present\"\n",
            "\"Key 'stepsister' not present\"\n",
            "\"Key 'stepsister' not present\"\n",
            "\"Key 'stepsister' not present\"\n",
            "\"Key 'stepsister' not present\"\n",
            "\"Key 'stepsister' not present\"\n",
            "\"Key 'stepsister' not present\"\n",
            "\"Key 'stepsister' not present\"\n",
            "\"Key 'stepsister' not present\"\n",
            "\"Key 'stepsister' not present\"\n",
            "\"Key 'stepsister' not present\"\n",
            "\"Key 'stepsister' not present\"\n",
            "\"Key 'stepsister' not present\"\n",
            "\"Key 'stepsister' not present\"\n",
            "\"Key 'stepsister' not present\"\n",
            "\"Key 'stepsister' not present\"\n",
            "\"Key 'stepsister' not present\"\n",
            "\"Key 'stepsister' not present\"\n",
            "\"Key 'stepbrother' not present\"\n",
            "\"Key 'stepbrother' not present\"\n"
          ]
        },
        {
          "output_type": "stream",
          "name": "stderr",
          "text": [
            "100%|██████████| 506/506 [00:01<00:00, 354.60it/s]\n"
          ]
        },
        {
          "output_type": "stream",
          "name": "stdout",
          "text": [
            "\"Key 'stepbrother' not present\"\n",
            "-------------------------\n",
            "Results for family\n",
            "-------------------------\n",
            "@1 = 0.5019762845849802\n",
            "@2 = 0.5553359683794467\n",
            "@3 = 0.5830039525691699\n",
            "@4 = 0.6047430830039525\n",
            "@5 = 0.6185770750988142\n",
            "@6 = 0.6324110671936759\n",
            "@7 = 0.6442687747035574\n",
            "@8 = 0.6541501976284585\n",
            "@9 = 0.658102766798419\n",
            "@10 = 0.6640316205533597\n",
            "Google News model - Word2Vec\n"
          ]
        },
        {
          "output_type": "stream",
          "name": "stderr",
          "text": [
            "100%|██████████| 506/506 [03:55<00:00,  2.15it/s]"
          ]
        },
        {
          "output_type": "stream",
          "name": "stdout",
          "text": [
            "-------------------------\n",
            "Results for family\n",
            "-------------------------\n",
            "@1 = 0.8458498023715415\n",
            "@2 = 0.9011857707509882\n",
            "@3 = 0.9229249011857708\n",
            "@4 = 0.9347826086956522\n",
            "@5 = 0.9525691699604744\n",
            "@6 = 0.9545454545454546\n",
            "@7 = 0.9624505928853755\n",
            "@8 = 0.9683794466403162\n",
            "@9 = 0.9723320158102767\n",
            "@10 = 0.974308300395257\n"
          ]
        },
        {
          "output_type": "stream",
          "name": "stderr",
          "text": [
            "\n"
          ]
        }
      ]
    },
    {
      "cell_type": "markdown",
      "metadata": {
        "id": "noRDD9hWmyZO"
      },
      "source": [
        "### **Question 3:**\n",
        "\n",
        "Train a new FastText model using gensim with text8 corpus available in the python package ([reference](https://radimrehurek.com/gensim/downloader.html)). Compute the training time for the model and store it for subsequent steps. \n",
        "\n",
        "- Is there any significant difference in training time if compared with Word2Vec training?"
      ]
    },
    {
      "cell_type": "code",
      "metadata": {
        "colab": {
          "base_uri": "https://localhost:8080/"
        },
        "id": "B7rN6kZ7nWLM",
        "outputId": "9901398b-ea02-4858-d9cd-85a3bf1ad8d9"
      },
      "source": [
        "import gensim.downloader as api\n",
        "from gensim.models import FastText\n",
        "import time\n",
        "dataset = api.load(\"text8\")\n",
        "start = time.time()\n",
        "ft_model = FastText(dataset)\n",
        "end = time.time()\n",
        "\n",
        "print (\"(FastText on Text8) Training took\", end-start, \"seconds\")"
      ],
      "execution_count": null,
      "outputs": [
        {
          "output_type": "stream",
          "name": "stdout",
          "text": [
            "(FastText on Text8) Training took 528.5233931541443 seconds\n"
          ]
        }
      ]
    },
    {
      "cell_type": "code",
      "metadata": {
        "id": "UPmwnDgWoLcR"
      },
      "source": [
        "ft_model.save(\"text8_ft.model\")"
      ],
      "execution_count": null,
      "outputs": []
    },
    {
      "cell_type": "markdown",
      "metadata": {
        "id": "UoAQbgL1oiEM"
      },
      "source": [
        "### **Question 4:**\n",
        "Score the FastText model by exploiting the same methodology presented in Q2. \n",
        "\n",
        "**Notes:**\n",
        "- Is there any issue similar to Word2Vec model?\n",
        "- Test the model trained on Wikipedia+News available in gensim."
      ]
    },
    {
      "cell_type": "code",
      "metadata": {
        "id": "wOnGE-I2o_fq",
        "colab": {
          "base_uri": "https://localhost:8080/"
        },
        "outputId": "7cfa0b55-f563-4aab-da9a-533b90916138"
      },
      "source": [
        "# Executing this cell could take ~5 minutes\n",
        "import gensim.downloader\n",
        "ft_wiki_news_model = gensim.downloader.load('fasttext-wiki-news-subwords-300')"
      ],
      "execution_count": null,
      "outputs": [
        {
          "output_type": "stream",
          "name": "stdout",
          "text": [
            "[==================================================] 100.0% 958.5/958.4MB downloaded\n"
          ]
        }
      ]
    },
    {
      "cell_type": "code",
      "metadata": {
        "id": "eZIapZOSohjg",
        "colab": {
          "base_uri": "https://localhost:8080/"
        },
        "outputId": "d65970ff-ca09-4088-9e04-cecca2d7359c"
      },
      "source": [
        "print (\"Text8 model - FastText\")\n",
        "score_word_embedding_model(df_google_dataset,ft_model)\n",
        "print (\"Wikipedia+News model - FastText\")\n",
        "score_word_embedding_model(df_google_dataset,ft_wiki_news_model)"
      ],
      "execution_count": null,
      "outputs": [
        {
          "output_type": "stream",
          "name": "stdout",
          "text": [
            "Text8 model - FastText\n"
          ]
        },
        {
          "output_type": "stream",
          "name": "stderr",
          "text": [
            "100%|██████████| 506/506 [00:01<00:00, 376.23it/s]\n"
          ]
        },
        {
          "output_type": "stream",
          "name": "stdout",
          "text": [
            "-------------------------\n",
            "Results for family\n",
            "-------------------------\n",
            "@1 = 0.2707509881422925\n",
            "@2 = 0.3774703557312253\n",
            "@3 = 0.43478260869565216\n",
            "@4 = 0.4644268774703557\n",
            "@5 = 0.4841897233201581\n",
            "@6 = 0.5019762845849802\n",
            "@7 = 0.5177865612648221\n",
            "@8 = 0.5197628458498024\n",
            "@9 = 0.5296442687747036\n",
            "@10 = 0.5434782608695652\n",
            "Wikipedia+News model - FastText\n"
          ]
        },
        {
          "output_type": "stream",
          "name": "stderr",
          "text": [
            "100%|██████████| 506/506 [01:18<00:00,  6.42it/s]"
          ]
        },
        {
          "output_type": "stream",
          "name": "stdout",
          "text": [
            "-------------------------\n",
            "Results for family\n",
            "-------------------------\n",
            "@1 = 0.849802371541502\n",
            "@2 = 0.924901185770751\n",
            "@3 = 0.950592885375494\n",
            "@4 = 0.9525691699604744\n",
            "@5 = 0.9604743083003953\n",
            "@6 = 0.9664031620553359\n",
            "@7 = 0.9723320158102767\n",
            "@8 = 0.9802371541501976\n",
            "@9 = 0.9822134387351779\n",
            "@10 = 0.9841897233201581\n"
          ]
        },
        {
          "output_type": "stream",
          "name": "stderr",
          "text": [
            "\n"
          ]
        }
      ]
    },
    {
      "cell_type": "markdown",
      "metadata": {
        "id": "WRneIhkoxV_O"
      },
      "source": [
        "### **Question 5** (optional) \n",
        "Evaluate Word2Vec and FastText models  on the analogy task for the whole dataset (include all analogy types)."
      ]
    },
    {
      "cell_type": "markdown",
      "metadata": {
        "id": "k-AuxU7YhU7D"
      },
      "source": [
        "## Sentence Embeddings\n",
        "\n",
        "Key takeaways from lessons and in-class practices:\n",
        "- Doc2Vec is an extension of the Word2Vec framework\n",
        "- It incorporate Document ID to obtain a more accurate representation of a document/paragraph\n",
        "- Training document vectors are pre-computed, however you can infer vectors for new documents\n",
        "- InferSent exploit a deep learning architecture to supervisedly learn sentence representations\n",
        "- InferSent vectors could exploit both Word2Vec or FastText as word embedding models."
      ]
    },
    {
      "cell_type": "markdown",
      "metadata": {
        "id": "60_q4G-xyooQ"
      },
      "source": [
        "### **Question 6:**\n",
        "\n",
        "Train a Doc2Vec model using gensim with text8 corpus. Compute the training time for the model and store it for subsequent steps."
      ]
    },
    {
      "cell_type": "code",
      "metadata": {
        "id": "UKDUeWkghTu6",
        "colab": {
          "base_uri": "https://localhost:8080/"
        },
        "outputId": "8527f4ba-a3ed-4ed0-c8df-0e13758150b4"
      },
      "source": [
        "! pip install gensim\n",
        "! pip install nltk\n",
        "! pip install sklearn"
      ],
      "execution_count": null,
      "outputs": [
        {
          "output_type": "stream",
          "name": "stdout",
          "text": [
            "Requirement already satisfied: gensim in /usr/local/lib/python3.7/dist-packages (4.1.2)\n",
            "Requirement already satisfied: smart-open>=1.8.1 in /usr/local/lib/python3.7/dist-packages (from gensim) (5.2.1)\n",
            "Requirement already satisfied: scipy>=0.18.1 in /usr/local/lib/python3.7/dist-packages (from gensim) (1.4.1)\n",
            "Requirement already satisfied: numpy>=1.17.0 in /usr/local/lib/python3.7/dist-packages (from gensim) (1.19.5)\n",
            "Requirement already satisfied: nltk in /usr/local/lib/python3.7/dist-packages (3.2.5)\n",
            "Requirement already satisfied: six in /usr/local/lib/python3.7/dist-packages (from nltk) (1.15.0)\n",
            "Requirement already satisfied: sklearn in /usr/local/lib/python3.7/dist-packages (0.0)\n",
            "Requirement already satisfied: scikit-learn in /usr/local/lib/python3.7/dist-packages (from sklearn) (0.22.2.post1)\n",
            "Requirement already satisfied: scipy>=0.17.0 in /usr/local/lib/python3.7/dist-packages (from scikit-learn->sklearn) (1.4.1)\n",
            "Requirement already satisfied: joblib>=0.11 in /usr/local/lib/python3.7/dist-packages (from scikit-learn->sklearn) (1.0.1)\n",
            "Requirement already satisfied: numpy>=1.11.0 in /usr/local/lib/python3.7/dist-packages (from scikit-learn->sklearn) (1.19.5)\n"
          ]
        }
      ]
    },
    {
      "cell_type": "code",
      "metadata": {
        "id": "QgyjJaCehmjA",
        "colab": {
          "base_uri": "https://localhost:8080/"
        },
        "outputId": "348484ce-d9fa-4a41-bd6f-5b3e9f33eb93"
      },
      "source": [
        "import nltk\n",
        "nltk.download('punkt')"
      ],
      "execution_count": null,
      "outputs": [
        {
          "output_type": "stream",
          "name": "stdout",
          "text": [
            "[nltk_data] Downloading package punkt to /root/nltk_data...\n",
            "[nltk_data]   Unzipping tokenizers/punkt.zip.\n"
          ]
        },
        {
          "output_type": "execute_result",
          "data": {
            "text/plain": [
              "True"
            ]
          },
          "metadata": {},
          "execution_count": 14
        }
      ]
    },
    {
      "cell_type": "code",
      "metadata": {
        "id": "bXCvZfCozXhA",
        "colab": {
          "base_uri": "https://localhost:8080/"
        },
        "outputId": "184e775f-b6e0-455e-9265-387f903283db"
      },
      "source": [
        "import gensim\n",
        "import gensim.downloader as api\n",
        "import time\n",
        "dataset = api.load(\"text8\")\n",
        "data = [d for d in dataset]\n",
        "\n",
        "def tagged_document(list_of_list_of_words):\n",
        "   for i, list_of_words in enumerate(list_of_list_of_words):\n",
        "      yield gensim.models.doc2vec.TaggedDocument(list_of_words, [i])\n",
        "data_for_training = list(tagged_document(data))\n",
        "\n",
        "print(data_for_training [:1])"
      ],
      "execution_count": null,
      "outputs": [
        {
          "output_type": "stream",
          "name": "stdout",
          "text": [
            "[TaggedDocument(words=['anarchism', 'originated', 'as', 'a', 'term', 'of', 'abuse', 'first', 'used', 'against', 'early', 'working', 'class', 'radicals', 'including', 'the', 'diggers', 'of', 'the', 'english', 'revolution', 'and', 'the', 'sans', 'culottes', 'of', 'the', 'french', 'revolution', 'whilst', 'the', 'term', 'is', 'still', 'used', 'in', 'a', 'pejorative', 'way', 'to', 'describe', 'any', 'act', 'that', 'used', 'violent', 'means', 'to', 'destroy', 'the', 'organization', 'of', 'society', 'it', 'has', 'also', 'been', 'taken', 'up', 'as', 'a', 'positive', 'label', 'by', 'self', 'defined', 'anarchists', 'the', 'word', 'anarchism', 'is', 'derived', 'from', 'the', 'greek', 'without', 'archons', 'ruler', 'chief', 'king', 'anarchism', 'as', 'a', 'political', 'philosophy', 'is', 'the', 'belief', 'that', 'rulers', 'are', 'unnecessary', 'and', 'should', 'be', 'abolished', 'although', 'there', 'are', 'differing', 'interpretations', 'of', 'what', 'this', 'means', 'anarchism', 'also', 'refers', 'to', 'related', 'social', 'movements', 'that', 'advocate', 'the', 'elimination', 'of', 'authoritarian', 'institutions', 'particularly', 'the', 'state', 'the', 'word', 'anarchy', 'as', 'most', 'anarchists', 'use', 'it', 'does', 'not', 'imply', 'chaos', 'nihilism', 'or', 'anomie', 'but', 'rather', 'a', 'harmonious', 'anti', 'authoritarian', 'society', 'in', 'place', 'of', 'what', 'are', 'regarded', 'as', 'authoritarian', 'political', 'structures', 'and', 'coercive', 'economic', 'institutions', 'anarchists', 'advocate', 'social', 'relations', 'based', 'upon', 'voluntary', 'association', 'of', 'autonomous', 'individuals', 'mutual', 'aid', 'and', 'self', 'governance', 'while', 'anarchism', 'is', 'most', 'easily', 'defined', 'by', 'what', 'it', 'is', 'against', 'anarchists', 'also', 'offer', 'positive', 'visions', 'of', 'what', 'they', 'believe', 'to', 'be', 'a', 'truly', 'free', 'society', 'however', 'ideas', 'about', 'how', 'an', 'anarchist', 'society', 'might', 'work', 'vary', 'considerably', 'especially', 'with', 'respect', 'to', 'economics', 'there', 'is', 'also', 'disagreement', 'about', 'how', 'a', 'free', 'society', 'might', 'be', 'brought', 'about', 'origins', 'and', 'predecessors', 'kropotkin', 'and', 'others', 'argue', 'that', 'before', 'recorded', 'history', 'human', 'society', 'was', 'organized', 'on', 'anarchist', 'principles', 'most', 'anthropologists', 'follow', 'kropotkin', 'and', 'engels', 'in', 'believing', 'that', 'hunter', 'gatherer', 'bands', 'were', 'egalitarian', 'and', 'lacked', 'division', 'of', 'labour', 'accumulated', 'wealth', 'or', 'decreed', 'law', 'and', 'had', 'equal', 'access', 'to', 'resources', 'william', 'godwin', 'anarchists', 'including', 'the', 'the', 'anarchy', 'organisation', 'and', 'rothbard', 'find', 'anarchist', 'attitudes', 'in', 'taoism', 'from', 'ancient', 'china', 'kropotkin', 'found', 'similar', 'ideas', 'in', 'stoic', 'zeno', 'of', 'citium', 'according', 'to', 'kropotkin', 'zeno', 'repudiated', 'the', 'omnipotence', 'of', 'the', 'state', 'its', 'intervention', 'and', 'regimentation', 'and', 'proclaimed', 'the', 'sovereignty', 'of', 'the', 'moral', 'law', 'of', 'the', 'individual', 'the', 'anabaptists', 'of', 'one', 'six', 'th', 'century', 'europe', 'are', 'sometimes', 'considered', 'to', 'be', 'religious', 'forerunners', 'of', 'modern', 'anarchism', 'bertrand', 'russell', 'in', 'his', 'history', 'of', 'western', 'philosophy', 'writes', 'that', 'the', 'anabaptists', 'repudiated', 'all', 'law', 'since', 'they', 'held', 'that', 'the', 'good', 'man', 'will', 'be', 'guided', 'at', 'every', 'moment', 'by', 'the', 'holy', 'spirit', 'from', 'this', 'premise', 'they', 'arrive', 'at', 'communism', 'the', 'diggers', 'or', 'true', 'levellers', 'were', 'an', 'early', 'communistic', 'movement', 'during', 'the', 'time', 'of', 'the', 'english', 'civil', 'war', 'and', 'are', 'considered', 'by', 'some', 'as', 'forerunners', 'of', 'modern', 'anarchism', 'in', 'the', 'modern', 'era', 'the', 'first', 'to', 'use', 'the', 'term', 'to', 'mean', 'something', 'other', 'than', 'chaos', 'was', 'louis', 'armand', 'baron', 'de', 'lahontan', 'in', 'his', 'nouveaux', 'voyages', 'dans', 'l', 'am', 'rique', 'septentrionale', 'one', 'seven', 'zero', 'three', 'where', 'he', 'described', 'the', 'indigenous', 'american', 'society', 'which', 'had', 'no', 'state', 'laws', 'prisons', 'priests', 'or', 'private', 'property', 'as', 'being', 'in', 'anarchy', 'russell', 'means', 'a', 'libertarian', 'and', 'leader', 'in', 'the', 'american', 'indian', 'movement', 'has', 'repeatedly', 'stated', 'that', 'he', 'is', 'an', 'anarchist', 'and', 'so', 'are', 'all', 'his', 'ancestors', 'in', 'one', 'seven', 'nine', 'three', 'in', 'the', 'thick', 'of', 'the', 'french', 'revolution', 'william', 'godwin', 'published', 'an', 'enquiry', 'concerning', 'political', 'justice', 'although', 'godwin', 'did', 'not', 'use', 'the', 'word', 'anarchism', 'many', 'later', 'anarchists', 'have', 'regarded', 'this', 'book', 'as', 'the', 'first', 'major', 'anarchist', 'text', 'and', 'godwin', 'as', 'the', 'founder', 'of', 'philosophical', 'anarchism', 'but', 'at', 'this', 'point', 'no', 'anarchist', 'movement', 'yet', 'existed', 'and', 'the', 'term', 'anarchiste', 'was', 'known', 'mainly', 'as', 'an', 'insult', 'hurled', 'by', 'the', 'bourgeois', 'girondins', 'at', 'more', 'radical', 'elements', 'in', 'the', 'french', 'revolution', 'the', 'first', 'self', 'labelled', 'anarchist', 'pierre', 'joseph', 'proudhon', 'it', 'is', 'commonly', 'held', 'that', 'it', 'wasn', 't', 'until', 'pierre', 'joseph', 'proudhon', 'published', 'what', 'is', 'property', 'in', 'one', 'eight', 'four', 'zero', 'that', 'the', 'term', 'anarchist', 'was', 'adopted', 'as', 'a', 'self', 'description', 'it', 'is', 'for', 'this', 'reason', 'that', 'some', 'claim', 'proudhon', 'as', 'the', 'founder', 'of', 'modern', 'anarchist', 'theory', 'in', 'what', 'is', 'property', 'proudhon', 'answers', 'with', 'the', 'famous', 'accusation', 'property', 'is', 'theft', 'in', 'this', 'work', 'he', 'opposed', 'the', 'institution', 'of', 'decreed', 'property', 'propri', 't', 'where', 'owners', 'have', 'complete', 'rights', 'to', 'use', 'and', 'abuse', 'their', 'property', 'as', 'they', 'wish', 'such', 'as', 'exploiting', 'workers', 'for', 'profit', 'in', 'its', 'place', 'proudhon', 'supported', 'what', 'he', 'called', 'possession', 'individuals', 'can', 'have', 'limited', 'rights', 'to', 'use', 'resources', 'capital', 'and', 'goods', 'in', 'accordance', 'with', 'principles', 'of', 'equality', 'and', 'justice', 'proudhon', 's', 'vision', 'of', 'anarchy', 'which', 'he', 'called', 'mutualism', 'mutuellisme', 'involved', 'an', 'exchange', 'economy', 'where', 'individuals', 'and', 'groups', 'could', 'trade', 'the', 'products', 'of', 'their', 'labor', 'using', 'labor', 'notes', 'which', 'represented', 'the', 'amount', 'of', 'working', 'time', 'involved', 'in', 'production', 'this', 'would', 'ensure', 'that', 'no', 'one', 'would', 'profit', 'from', 'the', 'labor', 'of', 'others', 'workers', 'could', 'freely', 'join', 'together', 'in', 'co', 'operative', 'workshops', 'an', 'interest', 'free', 'bank', 'would', 'be', 'set', 'up', 'to', 'provide', 'everyone', 'with', 'access', 'to', 'the', 'means', 'of', 'production', 'proudhon', 's', 'ideas', 'were', 'influential', 'within', 'french', 'working', 'class', 'movements', 'and', 'his', 'followers', 'were', 'active', 'in', 'the', 'revolution', 'of', 'one', 'eight', 'four', 'eight', 'in', 'france', 'proudhon', 's', 'philosophy', 'of', 'property', 'is', 'complex', 'it', 'was', 'developed', 'in', 'a', 'number', 'of', 'works', 'over', 'his', 'lifetime', 'and', 'there', 'are', 'differing', 'interpretations', 'of', 'some', 'of', 'his', 'ideas', 'for', 'more', 'detailed', 'discussion', 'see', 'here', 'max', 'stirner', 's', 'egoism', 'in', 'his', 'the', 'ego', 'and', 'its', 'own', 'stirner', 'argued', 'that', 'most', 'commonly', 'accepted', 'social', 'institutions', 'including', 'the', 'notion', 'of', 'state', 'property', 'as', 'a', 'right', 'natural', 'rights', 'in', 'general', 'and', 'the', 'very', 'notion', 'of', 'society', 'were', 'mere', 'illusions', 'or', 'ghosts', 'in', 'the', 'mind', 'saying', 'of', 'society', 'that', 'the', 'individuals', 'are', 'its', 'reality', 'he', 'advocated', 'egoism', 'and', 'a', 'form', 'of', 'amoralism', 'in', 'which', 'individuals', 'would', 'unite', 'in', 'associations', 'of', 'egoists', 'only', 'when', 'it', 'was', 'in', 'their', 'self', 'interest', 'to', 'do', 'so', 'for', 'him', 'property', 'simply', 'comes', 'about', 'through', 'might', 'whoever', 'knows', 'how', 'to', 'take', 'to', 'defend', 'the', 'thing', 'to', 'him', 'belongs', 'property', 'and', 'what', 'i', 'have', 'in', 'my', 'power', 'that', 'is', 'my', 'own', 'so', 'long', 'as', 'i', 'assert', 'myself', 'as', 'holder', 'i', 'am', 'the', 'proprietor', 'of', 'the', 'thing', 'stirner', 'never', 'called', 'himself', 'an', 'anarchist', 'he', 'accepted', 'only', 'the', 'label', 'egoist', 'nevertheless', 'his', 'ideas', 'were', 'influential', 'on', 'many', 'individualistically', 'inclined', 'anarchists', 'although', 'interpretations', 'of', 'his', 'thought', 'are', 'diverse', 'american', 'individualist', 'anarchism', 'benjamin', 'tucker', 'in', 'one', 'eight', 'two', 'five', 'josiah', 'warren', 'had', 'participated', 'in', 'a', 'communitarian', 'experiment', 'headed', 'by', 'robert', 'owen', 'called', 'new', 'harmony', 'which', 'failed', 'in', 'a', 'few', 'years', 'amidst', 'much', 'internal', 'conflict', 'warren', 'blamed', 'the', 'community', 's', 'failure', 'on', 'a', 'lack', 'of', 'individual', 'sovereignty', 'and', 'a', 'lack', 'of', 'private', 'property', 'warren', 'proceeded', 'to', 'organise', 'experimenal', 'anarchist', 'communities', 'which', 'respected', 'what', 'he', 'called', 'the', 'sovereignty', 'of', 'the', 'individual', 'at', 'utopia', 'and', 'modern', 'times', 'in', 'one', 'eight', 'three', 'three', 'warren', 'wrote', 'and', 'published', 'the', 'peaceful', 'revolutionist', 'which', 'some', 'have', 'noted', 'to', 'be', 'the', 'first', 'anarchist', 'periodical', 'ever', 'published', 'benjamin', 'tucker', 'says', 'that', 'warren', 'was', 'the', 'first', 'man', 'to', 'expound', 'and', 'formulate', 'the', 'doctrine', 'now', 'known', 'as', 'anarchism', 'liberty', 'xiv', 'december', 'one', 'nine', 'zero', 'zero', 'one', 'benjamin', 'tucker', 'became', 'interested', 'in', 'anarchism', 'through', 'meeting', 'josiah', 'warren', 'and', 'william', 'b', 'greene', 'he', 'edited', 'and', 'published', 'liberty', 'from', 'august', 'one', 'eight', 'eight', 'one', 'to', 'april', 'one', 'nine', 'zero', 'eight', 'it', 'is', 'widely', 'considered', 'to', 'be', 'the', 'finest', 'individualist', 'anarchist', 'periodical', 'ever', 'issued', 'in', 'the', 'english', 'language', 'tucker', 's', 'conception', 'of', 'individualist', 'anarchism', 'incorporated', 'the', 'ideas', 'of', 'a', 'variety', 'of', 'theorists', 'greene', 's', 'ideas', 'on', 'mutual', 'banking', 'warren', 's', 'ideas', 'on', 'cost', 'as', 'the', 'limit', 'of', 'price', 'a', 'heterodox', 'variety', 'of', 'labour', 'theory', 'of', 'value', 'proudhon', 's', 'market', 'anarchism', 'max', 'stirner', 's', 'egoism', 'and', 'herbert', 'spencer', 's', 'law', 'of', 'equal', 'freedom', 'tucker', 'strongly', 'supported', 'the', 'individual', 's', 'right', 'to', 'own', 'the', 'product', 'of', 'his', 'or', 'her', 'labour', 'as', 'private', 'property', 'and', 'believed', 'in', 'a', 'market', 'economy', 'for', 'trading', 'this', 'property', 'he', 'argued', 'that', 'in', 'a', 'truly', 'free', 'market', 'system', 'without', 'the', 'state', 'the', 'abundance', 'of', 'competition', 'would', 'eliminate', 'profits', 'and', 'ensure', 'that', 'all', 'workers', 'received', 'the', 'full', 'value', 'of', 'their', 'labor', 'other', 'one', 'nine', 'th', 'century', 'individualists', 'included', 'lysander', 'spooner', 'stephen', 'pearl', 'andrews', 'and', 'victor', 'yarros', 'the', 'first', 'international', 'mikhail', 'bakunin', 'one', 'eight', 'one', 'four', 'one', 'eight', 'seven', 'six', 'in', 'europe', 'harsh', 'reaction', 'followed', 'the', 'revolutions', 'of', 'one', 'eight', 'four', 'eight', 'twenty', 'years', 'later', 'in', 'one', 'eight', 'six', 'four', 'the', 'international', 'workingmen', 's', 'association', 'sometimes', 'called', 'the', 'first', 'international', 'united', 'some', 'diverse', 'european', 'revolutionary', 'currents', 'including', 'anarchism', 'due', 'to', 'its', 'genuine', 'links', 'to', 'active', 'workers', 'movements', 'the', 'international', 'became', 'signficiant', 'from', 'the', 'start', 'karl', 'marx', 'was', 'a', 'leading', 'figure', 'in', 'the', 'international', 'he', 'was', 'elected', 'to', 'every', 'succeeding', 'general', 'council', 'of', 'the', 'association', 'the', 'first', 'objections', 'to', 'marx', 'came', 'from', 'the', 'mutualists', 'who', 'opposed', 'communism', 'and', 'statism', 'shortly', 'after', 'mikhail', 'bakunin', 'and', 'his', 'followers', 'joined', 'in', 'one', 'eight', 'six', 'eight', 'the', 'first', 'international', 'became', 'polarised', 'into', 'two', 'camps', 'with', 'marx', 'and', 'bakunin', 'as', 'their', 'respective', 'figureheads', 'the', 'clearest', 'difference', 'between', 'the', 'camps', 'was', 'over', 'strategy', 'the', 'anarchists', 'around', 'bakunin', 'favoured', 'in', 'kropotkin', 's', 'words', 'direct', 'economical', 'struggle', 'against', 'capitalism', 'without', 'interfering', 'in', 'the', 'political', 'parliamentary', 'agitation', 'at', 'that', 'time', 'marx', 'and', 'his', 'followers', 'focused', 'on', 'parliamentary', 'activity', 'bakunin', 'characterised', 'marx', 's', 'ideas', 'as', 'authoritarian', 'and', 'predicted', 'that', 'if', 'a', 'marxist', 'party', 'gained', 'to', 'power', 'its', 'leaders', 'would', 'end', 'up', 'as', 'bad', 'as', 'the', 'ruling', 'class', 'they', 'had', 'fought', 'against', 'in', 'one', 'eight', 'seven', 'two', 'the', 'conflict', 'climaxed', 'with', 'a', 'final', 'split', 'between', 'the', 'two', 'groups', 'at', 'the', 'hague', 'congress', 'this', 'is', 'often', 'cited', 'as', 'the', 'origin', 'of', 'the', 'conflict', 'between', 'anarchists', 'and', 'marxists', 'from', 'this', 'moment', 'the', 'social', 'democratic', 'and', 'libertarian', 'currents', 'of', 'socialism', 'had', 'distinct', 'organisations', 'including', 'rival', 'internationals', 'anarchist', 'communism', 'peter', 'kropotkin', 'proudhon', 'and', 'bakunin', 'both', 'opposed', 'communism', 'associating', 'it', 'with', 'statism', 'however', 'in', 'the', 'one', 'eight', 'seven', 'zero', 's', 'many', 'anarchists', 'moved', 'away', 'from', 'bakunin', 's', 'economic', 'thinking', 'called', 'collectivism', 'and', 'embraced', 'communist', 'concepts', 'communists', 'believed', 'the', 'means', 'of', 'production', 'should', 'be', 'owned', 'collectively', 'and', 'that', 'goods', 'be', 'distributed', 'by', 'need', 'not', 'labor', 'an', 'early', 'anarchist', 'communist', 'was', 'joseph', 'd', 'jacque', 'the', 'first', 'person', 'to', 'describe', 'himself', 'as', 'libertarian', 'unlike', 'proudhon', 'he', 'argued', 'that', 'it', 'is', 'not', 'the', 'product', 'of', 'his', 'or', 'her', 'labor', 'that', 'the', 'worker', 'has', 'a', 'right', 'to', 'but', 'to', 'the', 'satisfaction', 'of', 'his', 'or', 'her', 'needs', 'whatever', 'may', 'be', 'their', 'nature', 'he', 'announced', 'his', 'ideas', 'in', 'his', 'us', 'published', 'journal', 'le', 'libertaire', 'one', 'eight', 'five', 'eight', 'one', 'eight', 'six', 'one', 'peter', 'kropotkin', 'often', 'seen', 'as', 'the', 'most', 'important', 'theorist', 'outlined', 'his', 'economic', 'ideas', 'in', 'the', 'conquest', 'of', 'bread', 'and', 'fields', 'factories', 'and', 'workshops', 'he', 'felt', 'co', 'operation', 'is', 'more', 'beneficial', 'than', 'competition', 'illustrated', 'in', 'nature', 'in', 'mutual', 'aid', 'a', 'factor', 'of', 'evolution', 'one', 'eight', 'nine', 'seven', 'subsequent', 'anarchist', 'communists', 'include', 'emma', 'goldman', 'and', 'alexander', 'berkman', 'many', 'in', 'the', 'anarcho', 'syndicalist', 'movements', 'see', 'below', 'saw', 'anarchist', 'communism', 'as', 'their', 'objective', 'isaac', 'puente', 's', 'one', 'nine', 'three', 'two', 'comunismo', 'libertario', 'was', 'adopted', 'by', 'the', 'spanish', 'cnt', 'as', 'its', 'manifesto', 'for', 'a', 'post', 'revolutionary', 'society', 'some', 'anarchists', 'disliked', 'merging', 'communism', 'with', 'anarchism', 'several', 'individualist', 'anarchists', 'maintained', 'that', 'abolition', 'of', 'private', 'property', 'was', 'not', 'consistent', 'with', 'liberty', 'for', 'example', 'benjamin', 'tucker', 'whilst', 'professing', 'respect', 'for', 'kropotkin', 'and', 'publishing', 'his', 'work', 'described', 'communist', 'anarchism', 'as', 'pseudo', 'anarchism', 'propaganda', 'of', 'the', 'deed', 'johann', 'most', 'was', 'an', 'outspoken', 'advocate', 'of', 'violence', 'anarchists', 'have', 'often', 'been', 'portrayed', 'as', 'dangerous', 'and', 'violent', 'due', 'mainly', 'to', 'a', 'number', 'of', 'high', 'profile', 'violent', 'acts', 'including', 'riots', 'assassinations', 'insurrections', 'and', 'terrorism', 'by', 'some', 'anarchists', 'some', 'revolutionaries', 'of', 'the', 'late', 'one', 'nine', 'th', 'century', 'encouraged', 'acts', 'of', 'political', 'violence', 'such', 'as', 'bombings', 'and', 'the', 'assassinations', 'of', 'heads', 'of', 'state', 'to', 'further', 'anarchism', 'such', 'actions', 'have', 'sometimes', 'been', 'called', 'propaganda', 'by', 'the', 'deed', 'one', 'of', 'the', 'more', 'outspoken', 'advocates', 'of', 'this', 'strategy', 'was', 'johann', 'most', 'who', 'said', 'the', 'existing', 'system', 'will', 'be', 'quickest', 'and', 'most', 'radically', 'overthrown', 'by', 'the', 'annihilation', 'of', 'its', 'exponents', 'therefore', 'massacres', 'of', 'the', 'enemies', 'of', 'the', 'people', 'must', 'be', 'set', 'in', 'motion', 'most', 's', 'preferred', 'method', 'of', 'terrorism', 'dynamite', 'earned', 'him', 'the', 'moniker', 'dynamost', 'however', 'there', 'is', 'no', 'consensus', 'on', 'the', 'legitimacy', 'or', 'utility', 'of', 'violence', 'in', 'general', 'mikhail', 'bakunin', 'and', 'errico', 'malatesta', 'for', 'example', 'wrote', 'of', 'violence', 'as', 'a', 'necessary', 'and', 'sometimes', 'desirable', 'force', 'in', 'revolutionary', 'settings', 'but', 'at', 'the', 'same', 'time', 'they', 'denounced', 'acts', 'of', 'individual', 'terrorism', 'malatesta', 'in', 'on', 'violence', 'and', 'bakunin', 'when', 'he', 'refuted', 'nechaev', 'other', 'anarchists', 'sometimes', 'identified', 'as', 'pacifist', 'anarchists', 'advocated', 'complete', 'nonviolence', 'leo', 'tolstoy', 'whose', 'philosophy', 'is', 'often', 'viewed', 'as', 'a', 'form', 'of', 'christian', 'anarchism', 'see', 'below', 'was', 'a', 'notable', 'exponent', 'of', 'nonviolent', 'resistance', 'anarchism', 'in', 'the', 'labour', 'movement', 'the', 'red', 'and', 'black', 'flag', 'coming', 'from', 'the', 'experience', 'of', 'anarchists', 'in', 'the', 'labour', 'movement', 'is', 'particularly', 'associated', 'with', 'anarcho', 'syndicalism', 'anarcho', 'syndicalism', 'was', 'an', 'early', 'two', 'zero', 'th', 'century', 'working', 'class', 'movement', 'seeking', 'to', 'overthrow', 'capitalism', 'and', 'the', 'state', 'to', 'institute', 'a', 'worker', 'controlled', 'society', 'the', 'movement', 'pursued', 'industrial', 'actions', 'such', 'as', 'general', 'strike', 'as', 'a', 'primary', 'strategy', 'many', 'anarcho', 'syndicalists', 'believed', 'in', 'anarchist', 'communism', 'though', 'not', 'all', 'communists', 'believed', 'in', 'syndicalism', 'after', 'the', 'one', 'eight', 'seven', 'one', 'repression', 'french', 'anarchism', 'reemerged', 'influencing', 'the', 'bourses', 'de', 'travails', 'of', 'autonomous', 'workers', 'groups', 'and', 'trade', 'unions', 'from', 'this', 'movement', 'the', 'conf', 'd', 'ration', 'g', 'n', 'rale', 'du', 'travail', 'general', 'confederation', 'of', 'work', 'cgt', 'was', 'formed', 'in', 'one', 'eight', 'nine', 'five', 'as', 'the', 'first', 'major', 'anarcho', 'syndicalist', 'movement', 'emile', 'pataud', 'and', 'emile', 'pouget', 's', 'writing', 'for', 'the', 'cgt', 'saw', 'libertarian', 'communism', 'developing', 'from', 'a', 'general', 'strike', 'after', 'one', 'nine', 'one', 'four', 'the', 'cgt', 'moved', 'away', 'from', 'anarcho', 'syndicalism', 'due', 'to', 'the', 'appeal', 'of', 'bolshevism', 'french', 'style', 'syndicalism', 'was', 'a', 'significant', 'movement', 'in', 'europe', 'prior', 'to', 'one', 'nine', 'two', 'one', 'and', 'remained', 'a', 'significant', 'movement', 'in', 'spain', 'until', 'the', 'mid', 'one', 'nine', 'four', 'zero', 's', 'the', 'industrial', 'workers', 'of', 'the', 'world', 'iww', 'founded', 'in', 'one', 'nine', 'zero', 'five', 'in', 'the', 'us', 'espoused', 'unionism', 'and', 'sought', 'a', 'general', 'strike', 'to', 'usher', 'in', 'a', 'stateless', 'society', 'in', 'one', 'nine', 'two', 'three', 'one', 'zero', 'zero', 'zero', 'zero', 'zero', 'members', 'existed', 'with', 'the', 'support', 'of', 'up', 'to', 'three', 'zero', 'zero', 'zero', 'zero', 'zero', 'though', 'not', 'explicitly', 'anarchist', 'they', 'organized', 'by', 'rank', 'and', 'file', 'democracy', 'embodying', 'a', 'spirit', 'of', 'resistance', 'that', 'has', 'inspired', 'many', 'anglophone', 'syndicalists', 'cnt', 'propaganda', 'from', 'april', 'two', 'zero', 'zero', 'four', 'reads', 'don', 't', 'let', 'the', 'politicians', 'rule', 'our', 'lives', 'you', 'vote', 'and', 'they', 'decide', 'don', 't', 'allow', 'it', 'unity', 'action', 'self', 'management', 'spanish', 'anarchist', 'trade', 'union', 'federations', 'were', 'formed', 'in', 'the', 'one', 'eight', 'seven', 'zero', 's', 'one', 'nine', 'zero', 'zero', 'and', 'one', 'nine', 'one', 'zero', 'the', 'most', 'successful', 'was', 'the', 'confederaci', 'n', 'nacional', 'del', 'trabajo', 'national', 'confederation', 'of', 'labour', 'cnt', 'founded', 'in', 'one', 'nine', 'one', 'zero', 'prior', 'to', 'the', 'one', 'nine', 'four', 'zero', 's', 'the', 'cnt', 'was', 'the', 'major', 'force', 'in', 'spanish', 'working', 'class', 'politics', 'with', 'a', 'membership', 'of', 'one', 'five', 'eight', 'million', 'in', 'one', 'nine', 'three', 'four', 'the', 'cnt', 'played', 'a', 'major', 'role', 'in', 'the', 'spanish', 'civil', 'war', 'see', 'also', 'anarchism', 'in', 'spain', 'syndicalists', 'like', 'ricardo', 'flores', 'mag', 'n', 'were', 'key', 'figures', 'in', 'the', 'mexican', 'revolution', 'latin', 'american', 'anarchism', 'was', 'strongly', 'influenced', 'extending', 'to', 'the', 'zapatista', 'rebellion', 'and', 'the', 'factory', 'occupation', 'movements', 'in', 'argentina', 'in', 'berlin', 'in', 'one', 'nine', 'two', 'two', 'the', 'cnt', 'was', 'joined', 'with', 'the', 'international', 'workers', 'association', 'an', 'anarcho', 'syndicalist', 'successor', 'to', 'the', 'first', 'international', 'contemporary', 'anarcho', 'syndicalism', 'continues', 'as', 'a', 'minor', 'force', 'in', 'many', 'socities', 'much', 'smaller', 'than', 'in', 'the', 'one', 'nine', 'one', 'zero', 's', 'two', 'zero', 's', 'and', 'three', 'zero', 's', 'the', 'largest', 'organised', 'anarchist', 'movement', 'today', 'is', 'in', 'spain', 'in', 'the', 'form', 'of', 'the', 'confederaci', 'n', 'general', 'del', 'trabajo', 'and', 'the', 'cnt', 'the', 'cgt', 'claims', 'a', 'paid', 'up', 'membership', 'of', 'six', 'zero', 'zero', 'zero', 'zero', 'and', 'received', 'over', 'a', 'million', 'votes', 'in', 'spanish', 'syndical', 'elections', 'other', 'active', 'syndicalist', 'movements', 'include', 'the', 'us', 'workers', 'solidarity', 'alliance', 'and', 'the', 'uk', 'solidarity', 'federation', 'the', 'revolutionary', 'industrial', 'unionist', 'industrial', 'workers', 'of', 'the', 'world', 'also', 'exists', 'claiming', 'two', 'zero', 'zero', 'zero', 'paid', 'members', 'contemporary', 'critics', 'of', 'anarcho', 'syndicalism', 'and', 'revolutionary', 'industrial', 'unionism', 'claim', 'that', 'they', 'are', 'workerist', 'and', 'fail', 'to', 'deal', 'with', 'economic', 'life', 'outside', 'work', 'post', 'leftist', 'critics', 'such', 'as', 'bob', 'black', 'claim', 'anarcho', 'syndicalism', 'advocates', 'oppressive', 'social', 'structures', 'such', 'as', 'work', 'and', 'the', 'workplace', 'anarcho', 'syndicalists', 'in', 'general', 'uphold', 'principles', 'of', 'workers', 'solidarity', 'direct', 'action', 'and', 'self', 'management', 'the', 'russian', 'revolution', 'the', 'russian', 'revolution', 'of', 'one', 'nine', 'one', 'seven', 'was', 'a', 'seismic', 'event', 'in', 'the', 'development', 'of', 'anarchism', 'as', 'a', 'movement', 'and', 'as', 'a', 'philosophy', 'anarchists', 'participated', 'alongside', 'the', 'bolsheviks', 'in', 'both', 'february', 'and', 'october', 'revolutions', 'many', 'anarchists', 'initially', 'supporting', 'the', 'bolshevik', 'coup', 'however', 'the', 'bolsheviks', 'soon', 'turned', 'against', 'the', 'anarchists', 'and', 'other', 'left', 'wing', 'opposition', 'a', 'conflict', 'which', 'culminated', 'in', 'the', 'one', 'nine', 'one', 'eight', 'kronstadt', 'rebellion', 'anarchists', 'in', 'central', 'russia', 'were', 'imprisoned', 'or', 'driven', 'underground', 'or', 'joined', 'the', 'victorious', 'bolsheviks', 'in', 'ukraine', 'anarchists', 'fought', 'in', 'the', 'civil', 'war', 'against', 'both', 'whites', 'and', 'bolsheviks', 'within', 'the', 'makhnovshchina', 'peasant', 'army', 'led', 'by', 'nestor', 'makhno', 'expelled', 'american', 'anarchists', 'emma', 'goldman', 'and', 'alexander', 'berkman', 'before', 'leaving', 'russia', 'were', 'amongst', 'those', 'agitating', 'in', 'response', 'to', 'bolshevik', 'policy', 'and', 'the', 'suppression', 'of', 'the', 'kronstadt', 'uprising', 'both', 'wrote', 'classic', 'accounts', 'of', 'their', 'experiences', 'in', 'russia', 'aiming', 'to', 'expose', 'the', 'reality', 'of', 'bolshevik', 'control', 'for', 'them', 'bakunin', 's', 'predictions', 'about', 'the', 'consequences', 'of', 'marxist', 'rule', 'had', 'proved', 'all', 'too', 'true', 'the', 'victory', 'of', 'the', 'bolsheviks', 'in', 'the', 'october', 'revolution', 'and', 'the', 'resulting', 'russian', 'civil', 'war', 'did', 'serious', 'damage', 'to', 'anarchist', 'movements', 'internationally', 'many', 'workers', 'and', 'activists', 'saw', 'bolshevik', 'success', 'as', 'setting', 'an', 'example', 'communist', 'parties', 'grew', 'at', 'the', 'expense', 'of', 'anarchism', 'and', 'other', 'socialist', 'movements', 'in', 'france', 'and', 'the', 'us', 'for', 'example', 'the', 'major', 'syndicalist', 'movements', 'of', 'the', 'cgt', 'and', 'iww', 'began', 'to', 'realign', 'themselves', 'away', 'from', 'anarchism', 'and', 'towards', 'the', 'communist', 'international', 'in', 'paris', 'the', 'dielo', 'truda', 'group', 'of', 'russian', 'anarchist', 'exiles', 'which', 'included', 'nestor', 'makhno', 'concluded', 'that', 'anarchists', 'needed', 'to', 'develop', 'new', 'forms', 'of', 'organisation', 'in', 'response', 'to', 'the', 'structures', 'of', 'bolshevism', 'their', 'one', 'nine', 'two', 'six', 'manifesto', 'known', 'as', 'the', 'organisational', 'platform', 'of', 'the', 'libertarian', 'communists', 'was', 'supported', 'by', 'some', 'communist', 'anarchists', 'though', 'opposed', 'by', 'many', 'others', 'the', 'platform', 'continues', 'to', 'inspire', 'some', 'contemporary', 'anarchist', 'groups', 'who', 'believe', 'in', 'an', 'anarchist', 'movement', 'organised', 'around', 'its', 'principles', 'of', 'theoretical', 'unity', 'tactical', 'unity', 'collective', 'responsibility', 'and', 'federalism', 'platformist', 'groups', 'today', 'include', 'the', 'workers', 'solidarity', 'movement', 'in', 'ireland', 'the', 'uk', 's', 'anarchist', 'federation', 'and', 'the', 'late', 'north', 'eastern', 'federation', 'of', 'anarchist', 'communists', 'in', 'the', 'northeastern', 'united', 'states', 'and', 'bordering', 'canada', 'the', 'fight', 'against', 'fascism', 'spain', 'one', 'nine', 'three', 'six', 'members', 'of', 'the', 'cnt', 'construct', 'armoured', 'cars', 'to', 'fight', 'against', 'the', 'fascists', 'in', 'one', 'of', 'the', 'collectivised', 'factories', 'in', 'the', 'one', 'nine', 'two', 'zero', 's', 'and', 'one', 'nine', 'three', 'zero', 's', 'the', 'familiar', 'dynamics', 'of', 'anarchism', 's', 'conflict', 'with', 'the', 'state', 'were', 'transformed', 'by', 'the', 'rise', 'of', 'fascism', 'in', 'europe', 'in', 'many', 'cases', 'european', 'anarchists', 'faced', 'difficult', 'choices', 'should', 'they', 'join', 'in', 'popular', 'fronts', 'with', 'reformist', 'democrats', 'and', 'soviet', 'led', 'communists', 'against', 'a', 'common', 'fascist', 'enemy', 'luigi', 'fabbri', 'an', 'exile', 'from', 'italian', 'fascism', 'was', 'amongst', 'those', 'arguing', 'that', 'fascism', 'was', 'something', 'different', 'fascism', 'is', 'not', 'just', 'another', 'form', 'of', 'government', 'which', 'like', 'all', 'others', 'uses', 'violence', 'it', 'is', 'the', 'most', 'authoritarian', 'and', 'the', 'most', 'violent', 'form', 'of', 'government', 'imaginable', 'it', 'represents', 'the', 'utmost', 'glorification', 'of', 'the', 'theory', 'and', 'practice', 'of', 'the', 'principle', 'of', 'authority', 'in', 'france', 'where', 'the', 'fascists', 'came', 'close', 'to', 'insurrection', 'in', 'the', 'february', 'one', 'nine', 'three', 'four', 'riots', 'anarchists', 'divided', 'over', 'a', 'united', 'front', 'policy', 'in', 'spain', 'the', 'cnt', 'initially', 'refused', 'to', 'join', 'a', 'popular', 'front', 'electoral', 'alliance', 'and', 'abstention', 'by', 'cnt', 'supporters', 'led', 'to', 'a', 'right', 'wing', 'election', 'victory', 'but', 'in', 'one', 'nine', 'three', 'six', 'the', 'cnt', 'changed', 'its', 'policy', 'and', 'anarchist', 'votes', 'helped', 'bring', 'the', 'popular', 'front', 'back', 'to', 'power', 'months', 'later', 'the', 'ruling', 'class', 'responded', 'with', 'an', 'attempted', 'coup', 'and', 'the', 'spanish', 'civil', 'war', 'one', 'nine', 'three', 'six', 'three', 'nine', 'was', 'underway', 'in', 'reponse', 'to', 'the', 'army', 'rebellion', 'an', 'anarchist', 'inspired', 'movement', 'of', 'peasants', 'and', 'workers', 'supported', 'by', 'armed', 'militias', 'took', 'control', 'of', 'the', 'major', 'city', 'of', 'barcelona', 'and', 'of', 'large', 'areas', 'of', 'rural', 'spain', 'where', 'they', 'collectivized', 'the', 'land', 'but', 'even', 'before', 'the', 'eventual', 'fascist', 'victory', 'in', 'one', 'nine', 'three', 'nine', 'the', 'anarchists', 'were', 'losing', 'ground', 'in', 'a', 'bitter', 'struggle', 'with', 'the', 'stalinists', 'the', 'cnt', 'leadership', 'often', 'appeared', 'confused', 'and', 'divided', 'with', 'some', 'members', 'controversially', 'entering', 'the', 'government', 'stalinist', 'led', 'troops', 'suppressed', 'the', 'collectives', 'and', 'persecuted', 'both', 'dissident', 'marxists', 'and', 'anarchists', 'since', 'the', 'late', 'one', 'nine', 'seven', 'zero', 's', 'anarchists', 'have', 'been', 'involved', 'in', 'fighting', 'the', 'rise', 'of', 'neo', 'fascist', 'groups', 'in', 'germany', 'and', 'the', 'united', 'kingdom', 'some', 'anarchists', 'worked', 'within', 'militant', 'anti', 'fascist', 'groups', 'alongside', 'members', 'of', 'the', 'marxist', 'left', 'they', 'advocated', 'directly', 'combating', 'fascists', 'with', 'physical', 'force', 'rather', 'than', 'relying', 'on', 'the', 'state', 'since', 'the', 'late', 'one', 'nine', 'nine', 'zero', 's', 'a', 'similar', 'tendency', 'has', 'developed', 'within', 'us', 'anarchism', 'see', 'also', 'anti', 'racist', 'action', 'us', 'anti', 'fascist', 'action', 'uk', 'antifa', 'religious', 'anarchism', 'leo', 'tolstoy', 'one', 'eight', 'two', 'eight', 'one', 'nine', 'one', 'zero', 'most', 'anarchist', 'culture', 'tends', 'to', 'be', 'secular', 'if', 'not', 'outright', 'anti', 'religious', 'however', 'the', 'combination', 'of', 'religious', 'social', 'conscience', 'historical', 'religiousity', 'amongst', 'oppressed', 'social', 'classes', 'and', 'the', 'compatibility', 'of', 'some', 'interpretations', 'of', 'religious', 'traditions', 'with', 'anarchism', 'has', 'resulted', 'in', 'religious', 'anarchism', 'christian', 'anarchists', 'believe', 'that', 'there', 'is', 'no', 'higher', 'authority', 'than', 'god', 'and', 'oppose', 'earthly', 'authority', 'such', 'as', 'government', 'and', 'established', 'churches', 'they', 'believe', 'that', 'jesus', 'teachings', 'were', 'clearly', 'anarchistic', 'but', 'were', 'corrupted', 'when', 'christianity', 'was', 'declared', 'the', 'official', 'religion', 'of', 'rome', 'christian', 'anarchists', 'who', 'follow', 'jesus', 'directive', 'to', 'turn', 'the', 'other', 'cheek', 'are', 'strict', 'pacifists', 'the', 'most', 'famous', 'advocate', 'of', 'christian', 'anarchism', 'was', 'leo', 'tolstoy', 'author', 'of', 'the', 'kingdom', 'of', 'god', 'is', 'within', 'you', 'who', 'called', 'for', 'a', 'society', 'based', 'on', 'compassion', 'nonviolent', 'principles', 'and', 'freedom', 'christian', 'anarchists', 'tend', 'to', 'form', 'experimental', 'communities', 'they', 'also', 'occasionally', 'resist', 'taxation', 'many', 'christian', 'anarchists', 'are', 'vegetarian', 'or', 'vegan', 'christian', 'anarchy', 'can', 'be', 'said', 'to', 'have', 'roots', 'as', 'old', 'as', 'the', 'religion', 's', 'birth', 'as', 'the', 'early', 'church', 'exhibits', 'many', 'anarchistic', 'tendencies', 'such', 'as', 'communal', 'goods', 'and', 'wealth', 'by', 'aiming', 'to', 'obey', 'utterly', 'certain', 'of', 'the', 'bible', 's', 'teachings', 'certain', 'anabaptist', 'groups', 'of', 'sixteenth', 'century', 'europe', 'attempted', 'to', 'emulate', 'the', 'early', 'church', 's', 'social', 'economic', 'organisation', 'and', 'philosophy', 'by', 'regarding', 'it', 'as', 'the', 'only', 'social', 'structure', 'capable', 'of', 'true', 'obediance', 'to', 'jesus', 'teachings', 'and', 'utterly', 'rejected', 'in', 'theory', 'all', 'earthly', 'hierarchies', 'and', 'authority', 'and', 'indeed', 'non', 'anabaptists', 'in', 'general', 'and', 'violence', 'as', 'ungodly', 'such', 'groups', 'for', 'example', 'the', 'hutterites', 'typically', 'went', 'from', 'initially', 'anarchistic', 'beginnings', 'to', 'as', 'their', 'movements', 'stabalised', 'more', 'authoritarian', 'social', 'models', 'chinese', 'anarchism', 'was', 'most', 'influential', 'in', 'the', 'one', 'nine', 'two', 'zero', 's', 'strands', 'of', 'chinese', 'anarchism', 'included', 'tai', 'xu', 's', 'buddhist', 'anarchism', 'which', 'was', 'influenced', 'by', 'tolstoy', 'and', 'the', 'well', 'field', 'system', 'neopaganism', 'with', 'its', 'focus', 'on', 'the', 'environment', 'and', 'equality', 'along', 'with', 'its', 'often', 'decentralized', 'nature', 'has', 'lead', 'to', 'a', 'number', 'of', 'neopagan', 'anarchists', 'one', 'of', 'the', 'most', 'prominent', 'is', 'starhawk', 'who', 'writes', 'extensively', 'about', 'both', 'spirituality', 'and', 'activism', 'anarchism', 'and', 'feminism', 'emma', 'goldman', 'early', 'french', 'feminists', 'such', 'as', 'jenny', 'd', 'h', 'ricourt', 'and', 'juliette', 'adam', 'criticised', 'the', 'mysogyny', 'in', 'the', 'anarchism', 'of', 'proudhon', 'during', 'the', 'one', 'eight', 'five', 'zero', 's', 'anarcha', 'feminism', 'is', 'a', 'kind', 'of', 'radical', 'feminism', 'that', 'espouses', 'the', 'belief', 'that', 'patriarchy', 'is', 'a', 'fundamental', 'problem', 'in', 'society', 'while', 'anarchist', 'feminism', 'has', 'existed', 'for', 'more', 'than', 'a', 'hundred', 'years', 'its', 'explicit', 'formulation', 'as', 'anarcha', 'feminism', 'dates', 'back', 'to', 'the', 'early', 'seven', 'zero', 's', 'during', 'the', 'second', 'wave', 'feminist', 'movement', 'anarcha', 'feminism', 'views', 'patriarchy', 'as', 'the', 'first', 'manifestation', 'of', 'hierarchy', 'in', 'human', 'history', 'thus', 'the', 'first', 'form', 'of', 'oppression', 'occurred', 'in', 'the', 'dominance', 'of', 'male', 'over', 'female', 'anarcha', 'feminists', 'then', 'conclude', 'that', 'if', 'feminists', 'are', 'against', 'patriarchy', 'they', 'must', 'also', 'be', 'against', 'all', 'forms', 'of', 'hierarchy', 'and', 'therefore', 'must', 'reject', 'the', 'authoritarian', 'nature', 'of', 'the', 'state', 'and', 'capitalism', 'anarcho', 'primitivists', 'see', 'the', 'creation', 'of', 'gender', 'roles', 'and', 'patriarchy', 'a', 'creation', 'of', 'the', 'start', 'of', 'civilization', 'and', 'therefore', 'consider', 'primitivism', 'to', 'also', 'be', 'an', 'anarchist', 'school', 'of', 'thought', 'that', 'addresses', 'feminist', 'concerns', 'eco', 'feminism', 'is', 'often', 'considered', 'a', 'feminist', 'variant', 'of', 'green', 'anarchist', 'feminist', 'thought', 'anarcha', 'feminism', 'is', 'most', 'often', 'associated', 'with', 'early', 'two', 'zero', 'th', 'century', 'authors', 'and', 'theorists', 'such', 'as', 'emma', 'goldman', 'and', 'voltairine', 'de', 'cleyre', 'although', 'even', 'early', 'first', 'wave', 'feminist', 'mary', 'wollstonecraft', 'held', 'proto', 'anarchist', 'views', 'and', 'william', 'godwin', 'is', 'often', 'considered', 'a', 'feminist', 'anarchist', 'precursor', 'it', 'should', 'be', 'noted', 'that', 'goldman', 'and', 'de', 'cleyre', 'though', 'they', 'both', 'opposed', 'the', 'state', 'had', 'opposing', 'philosophies', 'as', 'de', 'cleyre', 'explains', 'miss', 'goldman', 'is', 'a', 'communist', 'i', 'am', 'an', 'individualist', 'she', 'wishes', 'to', 'destroy', 'the', 'right', 'of', 'property', 'i', 'wish', 'to', 'assert', 'it', 'i', 'make', 'my', 'war', 'upon', 'privilege', 'and', 'authority', 'whereby', 'the', 'right', 'of', 'property', 'the', 'true', 'right', 'in', 'that', 'which', 'is', 'proper', 'to', 'the', 'individual', 'is', 'annihilated', 'she', 'believes', 'that', 'co', 'operation', 'would', 'entirely', 'supplant', 'competition', 'i', 'hold', 'that', 'competition', 'in', 'one', 'form', 'or', 'another', 'will', 'always', 'exist', 'and', 'that', 'it', 'is', 'highly', 'desirable', 'it', 'should', 'in', 'the', 'spanish', 'civil', 'war', 'an', 'anarcha', 'feminist', 'group', 'free', 'women', 'organized', 'to', 'defend', 'both', 'anarchist', 'and', 'feminist', 'ideas', 'in', 'the', 'modern', 'day', 'anarchist', 'movement', 'many', 'anarchists', 'male', 'or', 'female', 'consider', 'themselves', 'feminists', 'and', 'anarcha', 'feminist', 'ideas', 'are', 'growing', 'the', 'publishing', 'of', 'quiet', 'rumors', 'an', 'anarcha', 'feminist', 'reader', 'has', 'helped', 'to', 'spread', 'various', 'kinds', 'of', 'anti', 'authoritarian', 'and', 'anarchist', 'feminist', 'ideas', 'to', 'the', 'broader', 'movement', 'wendy', 'mcelroy', 'has', 'popularized', 'an', 'individualist', 'anarchism', 'take', 'on', 'feminism', 'in', 'her', 'books', 'articles', 'and', 'individualist', 'feminist', 'website', 'anarcho', 'capitalism', 'murray', 'rothbard', 'one', 'nine', 'two', 'six', 'one', 'nine', 'nine', 'five', 'anarcho', 'capitalism', 'is', 'a', 'predominantly', 'united', 'states', 'based', 'theoretical', 'tradition', 'that', 'desires', 'a', 'stateless', 'society', 'with', 'the', 'economic', 'system', 'of', 'free', 'market', 'capitalism', 'unlike', 'other', 'branches', 'of', 'anarchism', 'it', 'does', 'not', 'oppose', 'profit', 'or', 'capitalism', 'consequently', 'most', 'anarchists', 'do', 'not', 'recognise', 'anarcho', 'capitalism', 'as', 'a', 'form', 'of', 'anarchism', 'murray', 'rothbard', 's', 'synthesis', 'of', 'classical', 'liberalism', 'and', 'austrian', 'economics', 'was', 'germinal', 'for', 'the', 'development', 'of', 'contemporary', 'anarcho', 'capitalist', 'theory', 'he', 'defines', 'anarcho', 'capitalism', 'in', 'terms', 'of', 'the', 'non', 'aggression', 'principle', 'based', 'on', 'the', 'concept', 'of', 'natural', 'law', 'competiting', 'theorists', 'use', 'egoism', 'utilitarianism', 'used', 'by', 'david', 'friedman', 'or', 'contractarianism', 'used', 'by', 'jan', 'narveson', 'some', 'minarchists', 'such', 'as', 'ayn', 'rand', 'robert', 'nozick', 'and', 'robert', 'a', 'heinlein', 'have', 'influenced', 'anarcho', 'capitalism', 'some', 'anarcho', 'capitalists', 'along', 'with', 'some', 'right', 'wing', 'libertarian', 'historians', 'such', 'as', 'david', 'hart', 'and', 'ralph', 'raico', 'considered', 'similar', 'philosophies', 'existing', 'prior', 'to', 'rothbard', 'to', 'be', 'anarcho', 'capitalist', 'such', 'as', 'those', 'of', 'gustave', 'de', 'molinari', 'and', 'auberon', 'herbert', 'opponents', 'of', 'anarcho', 'capitalists', 'dispute', 'these', 'claims', 'the', 'place', 'of', 'anarcho', 'capitalism', 'within', 'anarchism', 'and', 'indeed', 'whether', 'it', 'is', 'a', 'form', 'of', 'anarchism', 'at', 'all', 'is', 'highly', 'controversial', 'for', 'more', 'on', 'this', 'debate', 'see', 'anarchism', 'and', 'anarcho', 'capitalism', 'anarchism', 'and', 'the', 'environment', 'since', 'the', 'late', 'one', 'nine', 'seven', 'zero', 's', 'anarchists', 'in', 'anglophone', 'and', 'european', 'countries', 'have', 'been', 'taking', 'action', 'for', 'the', 'natural', 'environment', 'eco', 'anarchists', 'or', 'green', 'anarchists', 'believe', 'in', 'deep', 'ecology', 'this', 'is', 'a', 'worldview', 'that', 'embraces', 'biodiversity', 'and', 'sustainability', 'eco', 'anarchists', 'often', 'use', 'direct', 'action', 'against', 'what', 'they', 'see', 'as', 'earth', 'destroying', 'institutions', 'of', 'particular', 'importance', 'is', 'the', 'earth', 'first', 'movement', 'that', 'takes', 'action', 'such', 'as', 'tree', 'sitting', 'another', 'important', 'component', 'is', 'ecofeminism', 'which', 'sees', 'the', 'domination', 'of', 'nature', 'as', 'a', 'metaphor', 'for', 'the', 'domination', 'of', 'women', 'green', 'anarchism', 'also', 'involves', 'a', 'critique', 'of', 'industrial', 'capitalism', 'and', 'for', 'some', 'green', 'anarchists', 'civilization', 'itself', 'primitivism', 'is', 'a', 'predominantly', 'western', 'philosophy', 'that', 'advocates', 'a', 'return', 'to', 'a', 'pre', 'industrial', 'and', 'usually', 'pre', 'agricultural', 'society', 'it', 'develops', 'a', 'critique', 'of', 'industrial', 'civilization', 'in', 'this', 'critique', 'technology', 'and', 'development', 'have', 'alienated', 'people', 'from', 'the', 'natural', 'world', 'this', 'philosophy', 'develops', 'themes', 'present', 'in', 'the', 'political', 'action', 'of', 'the', 'luddites', 'and', 'the', 'writings', 'of', 'jean', 'jacques', 'rousseau', 'primitivism', 'developed', 'in', 'the', 'context', 'of', 'the', 'reclaim', 'the', 'streets', 'earth', 'first', 'and', 'the', 'earth', 'liberation', 'front', 'movements', 'john', 'zerzan', 'wrote', 'that', 'civilization', 'not', 'just', 'the', 'state', 'would', 'need', 'to', 'fall', 'for', 'anarchy', 'to', 'be', 'achieved', 'anarcho', 'primitivists', 'point', 'to', 'the', 'anti', 'authoritarian', 'nature', 'of', 'many', 'primitive', 'or', 'hunter', 'gatherer', 'societies', 'throughout', 'the', 'world', 's', 'history', 'as', 'examples', 'of', 'anarchist', 'societies', 'other', 'branches', 'and', 'offshoots', 'anarchism', 'generates', 'many', 'eclectic', 'and', 'syncretic', 'philosophies', 'and', 'movements', 'since', 'the', 'western', 'social', 'formet', 'in', 'the', 'one', 'nine', 'six', 'zero', 's', 'and', 'one', 'nine', 'seven', 'zero', 's', 'a', 'number', 'new', 'of', 'movements', 'and', 'schools', 'have', 'appeared', 'most', 'of', 'these', 'stances', 'are', 'limited', 'to', 'even', 'smaller', 'numbers', 'than', 'the', 'schools', 'and', 'movements', 'listed', 'above', 'hakim', 'bey', 'post', 'left', 'anarchy', 'post', 'left', 'anarchy', 'also', 'called', 'egoist', 'anarchism', 'seeks', 'to', 'distance', 'itself', 'from', 'the', 'traditional', 'left', 'communists', 'liberals', 'social', 'democrats', 'etc', 'and', 'to', 'escape', 'the', 'confines', 'of', 'ideology', 'in', 'general', 'post', 'leftists', 'argue', 'that', 'anarchism', 'has', 'been', 'weakened', 'by', 'its', 'long', 'attachment', 'to', 'contrary', 'leftist', 'movements', 'and', 'single', 'issue', 'causes', 'anti', 'war', 'anti', 'nuclear', 'etc', 'it', 'calls', 'for', 'a', 'synthesis', 'of', 'anarchist', 'thought', 'and', 'a', 'specifically', 'anti', 'authoritarian', 'revolutionary', 'movement', 'outside', 'of', 'the', 'leftist', 'milieu', 'it', 'often', 'focuses', 'on', 'the', 'individual', 'rather', 'than', 'speaking', 'in', 'terms', 'of', 'class', 'or', 'other', 'broad', 'generalizations', 'and', 'shuns', 'organizational', 'tendencies', 'in', 'favor', 'of', 'the', 'complete', 'absence', 'of', 'explicit', 'hierarchy', 'important', 'groups', 'and', 'individuals', 'associated', 'with', 'post', 'left', 'anarchy', 'include', 'crimethinc', 'the', 'magazine', 'anarchy', 'a', 'journal', 'of', 'desire', 'armed', 'and', 'its', 'editor', 'jason', 'mcquinn', 'bob', 'black', 'hakim', 'bey', 'and', 'others', 'for', 'more', 'information', 'see', 'infoshop', 'org', 's', 'anarchy', 'after', 'leftism', 'section', 'and', 'the', 'post', 'left', 'section', 'on', 'anarchism', 'ws', 'see', 'also', 'post', 'left', 'anarchy', 'post', 'structuralism', 'the', 'term', 'postanarchism', 'was', 'originated', 'by', 'saul', 'newman', 'first', 'receiving', 'popular', 'attention', 'in', 'his', 'book', 'from', 'bakunin', 'to', 'lacan', 'to', 'refer', 'to', 'a', 'theoretical', 'move', 'towards', 'a', 'synthesis', 'of', 'classical', 'anarchist', 'theory', 'and', 'poststructuralist', 'thought', 'subsequent', 'to', 'newman', 's', 'use', 'of', 'the', 'term', 'however', 'it', 'has', 'taken', 'on', 'a', 'life', 'of', 'its', 'own', 'and', 'a', 'wide', 'range', 'of', 'ideas', 'including', 'autonomism', 'post', 'left', 'anarchy', 'situationism', 'post', 'colonialism', 'and', 'zapatismo', 'by', 'its', 'very', 'nature', 'post', 'anarchism', 'rejects', 'the', 'idea', 'that', 'it', 'should', 'be', 'a', 'coherent', 'set', 'of', 'doctrines', 'and', 'beliefs', 'as', 'such', 'it', 'is', 'difficult', 'if', 'not', 'impossible', 'to', 'state', 'with', 'any', 'degree', 'of', 'certainty', 'who', 'should', 'or', 'shouldn', 't', 'be', 'grouped', 'under', 'the', 'rubric', 'nonetheless', 'key', 'thinkers', 'associated', 'with', 'post', 'anarchism', 'include', 'saul', 'newman', 'todd', 'may', 'gilles', 'deleuze', 'and', 'f', 'lix', 'guattari', 'external', 'reference', 'postanarchism', 'clearinghouse', 'see', 'also', 'post', 'anarchism', 'insurrectionary', 'anarchism', 'insurrectionary', 'anarchism', 'is', 'a', 'form', 'of', 'revolutionary', 'anarchism', 'critical', 'of', 'formal', 'anarchist', 'labor', 'unions', 'and', 'federations', 'insurrectionary', 'anarchists', 'advocate', 'informal', 'organization', 'including', 'small', 'affinity', 'groups', 'carrying', 'out', 'acts', 'of', 'resistance', 'in', 'various', 'struggles', 'and', 'mass', 'organizations', 'called', 'base', 'structures', 'which', 'can', 'include', 'exploited', 'individuals', 'who', 'are', 'not', 'anarchists', 'proponents', 'include', 'wolfi', 'landstreicher', 'and', 'alfredo', 'm', 'bonanno', 'author', 'of', 'works', 'including', 'armed', 'joy', 'and', 'the', 'anarchist', 'tension', 'this', 'tendency', 'is', 'represented', 'in', 'the', 'us', 'in', 'magazines', 'such', 'as', 'willful', 'disobedience', 'and', 'killing', 'king', 'abacus', 'see', 'also', 'insurrectionary', 'anarchism', 'small', 'a', 'anarchism', 'small', 'a', 'anarchism', 'is', 'a', 'term', 'used', 'in', 'two', 'different', 'but', 'not', 'unconnected', 'contexts', 'dave', 'neal', 'posited', 'the', 'term', 'in', 'opposition', 'to', 'big', 'a', 'anarchism', 'in', 'the', 'article', 'anarchism', 'ideology', 'or', 'methodology', 'while', 'big', 'a', 'anarchism', 'referred', 'to', 'ideological', 'anarchists', 'small', 'a', 'anarchism', 'was', 'applied', 'to', 'their', 'methodological', 'counterparts', 'those', 'who', 'viewed', 'anarchism', 'as', 'a', 'way', 'of', 'acting', 'or', 'a', 'historical', 'tendency', 'against', 'illegitimate', 'authority', 'as', 'an', 'anti', 'ideological', 'position', 'small', 'a', 'anarchism', 'shares', 'some', 'similarities', 'with', 'post', 'left', 'anarchy', 'david', 'graeber', 'and', 'andrej', 'grubacic', 'offer', 'an', 'alternative', 'use', 'of', 'the', 'term', 'applying', 'it', 'to', 'groups', 'and', 'movements', 'organising', 'according', 'to', 'or', 'acting', 'in', 'a', 'manner', 'consistent', 'with', 'anarchist', 'principles', 'of', 'decentralisation', 'voluntary', 'association', 'mutual', 'aid', 'the', 'network', 'model', 'and', 'crucially', 'the', 'rejection', 'of', 'any', 'idea', 'that', 'the', 'end', 'justifies', 'the', 'means', 'let', 'alone', 'that', 'the', 'business', 'of', 'a', 'revolutionary', 'is', 'to', 'seize', 'state', 'power', 'and', 'then', 'begin', 'imposing', 'one', 's', 'vision', 'at', 'the', 'point', 'of', 'a', 'gun', 'other', 'issues', 'conceptions', 'of', 'an', 'anarchist', 'society', 'many', 'political', 'philosophers', 'justify', 'support', 'of', 'the', 'state', 'as', 'a', 'means', 'of', 'regulating', 'violence', 'so', 'that', 'the', 'destruction', 'caused', 'by', 'human', 'conflict', 'is', 'minimized', 'and', 'fair', 'relationships', 'are', 'established', 'anarchists', 'argue', 'that', 'pursuit', 'of', 'these', 'ends', 'does', 'not', 'justify', 'the', 'establishment', 'of', 'a', 'state', 'many', 'argue', 'that', 'the', 'state', 'is', 'incompatible', 'with', 'those', 'goals', 'and', 'the', 'cause', 'of', 'chaos', 'violence', 'and', 'war', 'anarchists', 'argue', 'that', 'the', 'state', 'helps', 'to', 'create', 'a', 'monopoly', 'on', 'violence', 'and', 'uses', 'violence', 'to', 'advance', 'elite', 'interests', 'much', 'effort', 'has', 'been', 'dedicated', 'to', 'explaining', 'how', 'anarchist', 'societies', 'would', 'handle', 'criminality', 'see', 'also', 'anarchism', 'and', 'society', 'civil', 'rights', 'and', 'cultural', 'sovereignty', 'black', 'anarchism', 'opposes', 'the', 'existence', 'of', 'a', 'state', 'capitalism', 'and', 'subjugation', 'and', 'domination', 'of', 'people', 'of', 'color', 'and', 'favors', 'a', 'non', 'hierarchical', 'organization', 'of', 'society', 'theorists', 'include', 'ashanti', 'alston', 'lorenzo', 'komboa', 'ervin', 'and', 'sam', 'mbah', 'anarchist', 'people', 'of', 'color', 'was', 'created', 'as', 'a', 'forum', 'for', 'non', 'caucasian', 'anarchists', 'to', 'express', 'their', 'thoughts', 'about', 'racial', 'issues', 'within', 'the', 'anarchist', 'movement', 'particularly', 'within', 'the', 'united', 'states', 'national', 'anarchism', 'is', 'a', 'political', 'view', 'which', 'seeks', 'to', 'unite', 'cultural', 'or', 'ethnic', 'preservation', 'with', 'anarchist', 'views', 'its', 'adherents', 'propose', 'that', 'those', 'preventing', 'ethnic', 'groups', 'or', 'races', 'from', 'living', 'in', 'separate', 'autonomous', 'groupings', 'should', 'be', 'resisted', 'anti', 'racist', 'action', 'is', 'not', 'an', 'anarchist', 'group', 'but', 'many', 'anarchists', 'are', 'involved', 'it', 'focuses', 'on', 'publicly', 'confronting', 'racist', 'agitators', 'the', 'zapatista', 'movement', 'of', 'chiapas', 'mexico', 'is', 'a', 'cultural', 'sovereignty', 'group', 'with', 'some', 'anarchist', 'proclivities', 'neocolonialism', 'and', 'globalization', 'nearly', 'all', 'anarchists', 'oppose', 'neocolonialism', 'as', 'an', 'attempt', 'to', 'use', 'economic', 'coercion', 'on', 'a', 'global', 'scale', 'carried', 'out', 'through', 'state', 'institutions', 'such', 'as', 'the', 'world', 'bank', 'world', 'trade', 'organization', 'group', 'of', 'eight', 'and', 'the', 'world', 'economic', 'forum', 'globalization', 'is', 'an', 'ambiguous', 'term', 'that', 'has', 'different', 'meanings', 'to', 'different', 'anarchist', 'factions', 'most', 'anarchists', 'use', 'the', 'term', 'to', 'mean', 'neocolonialism', 'and', 'or', 'cultural', 'imperialism', 'which', 'they', 'may', 'see', 'as', 'related', 'many', 'are', 'active', 'in', 'the', 'anti', 'globalization', 'movement', 'others', 'particularly', 'anarcho', 'capitalists', 'use', 'globalization', 'to', 'mean', 'the', 'worldwide', 'expansion', 'of', 'the', 'division', 'of', 'labor', 'and', 'trade', 'which', 'they', 'see', 'as', 'beneficial', 'so', 'long', 'as', 'governments', 'do', 'not', 'intervene', 'parallel', 'structures', 'many', 'anarchists', 'try', 'to', 'set', 'up', 'alternatives', 'to', 'state', 'supported', 'institutions', 'and', 'outposts', 'such', 'as', 'food', 'not', 'bombs', 'infoshops', 'educational', 'systems', 'such', 'as', 'home', 'schooling', 'neighborhood', 'mediation', 'arbitration', 'groups', 'and', 'so', 'on', 'the', 'idea', 'is', 'to', 'create', 'the', 'structures', 'for', 'a', 'new', 'anti', 'authoritarian', 'society', 'in', 'the', 'shell', 'of', 'the', 'old', 'authoritarian', 'one', 'technology', 'recent', 'technological', 'developments', 'have', 'made', 'the', 'anarchist', 'cause', 'both', 'easier', 'to', 'advance', 'and', 'more', 'conceivable', 'to', 'people', 'many', 'people', 'use', 'the', 'internet', 'to', 'form', 'on', 'line', 'communities', 'intellectual', 'property', 'is', 'undermined', 'and', 'a', 'gift', 'culture', 'supported', 'by', 'sharing', 'music', 'files', 'open', 'source', 'programming', 'and', 'the', 'free', 'software', 'movement', 'these', 'cyber', 'communities', 'include', 'the', 'gnu', 'linux', 'indymedia', 'and', 'wiki', 'some', 'anarchists', 'see', 'information', 'technology', 'as', 'the', 'best', 'weapon', 'to', 'defeat', 'authoritarianism', 'some', 'even', 'think', 'the', 'information', 'age', 'makes', 'eventual', 'anarchy', 'inevitable', 'see', 'also', 'crypto', 'anarchism', 'and', 'cypherpunk', 'pacifism', 'some', 'anarchists', 'consider', 'pacifism', 'opposition', 'to', 'war', 'to', 'be', 'inherent', 'in', 'their', 'philosophy', 'anarcho', 'pacifists', 'take', 'it', 'further', 'and', 'follow', 'leo', 'tolstoy', 's', 'belief', 'in', 'non', 'violence', 'anarchists', 'see', 'war', 'as', 'an', 'activity', 'in', 'which', 'the', 'state', 'seeks', 'to', 'gain', 'and', 'consolidate', 'power', 'both', 'domestically', 'and', 'in', 'foreign', 'lands', 'and', 'subscribe', 'to', 'randolph', 'bourne', 's', 'view', 'that', 'war', 'is', 'the', 'health', 'of', 'the', 'state', 'a', 'lot', 'of', 'anarchist', 'activity', 'has', 'been', 'anti', 'war', 'based', 'parliamentarianism', 'in', 'general', 'terms', 'the', 'anarchist', 'ethos', 'opposes', 'voting', 'in', 'elections', 'because', 'voting', 'amounts', 'to', 'condoning', 'the', 'state', 'voluntaryism', 'is', 'an', 'anarchist', 'school', 'of', 'thought', 'which', 'emphasizes', 'tending', 'your', 'own', 'garden', 'and', 'neither', 'ballots', 'nor', 'bullets', 'the', 'anarchist', 'case', 'against', 'voting', 'is', 'explained', 'in', 'the', 'ethics', 'of', 'voting', 'by', 'george', 'h', 'smith', 'also', 'see', 'voting', 'anarchists', 'an', 'oxymoron', 'or', 'what', 'by', 'joe', 'peacott', 'and', 'writings', 'by', 'fred', 'woodworth', 'sectarianism', 'most', 'anarchist', 'schools', 'of', 'thought', 'are', 'to', 'some', 'degree', 'sectarian', 'there', 'is', 'often', 'a', 'difference', 'of', 'opinion', 'within', 'each', 'school', 'about', 'how', 'to', 'react', 'to', 'or', 'interact', 'with', 'other', 'schools', 'some', 'such', 'as', 'panarchists', 'believe', 'that', 'it', 'is', 'possible', 'for', 'a', 'variety', 'of', 'modes', 'of', 'social', 'life', 'to', 'coexist', 'and', 'compete', 'some', 'anarchists', 'view', 'opposing', 'schools', 'as', 'a', 'social', 'impossibility', 'and', 'resist', 'interaction', 'others', 'see', 'opportunities', 'for', 'coalition', 'building', 'or', 'at', 'least', 'temporary', 'alliances', 'for', 'specific', 'purposes', 'see', 'anarchism', 'without', 'adjectives', 'criticisms', 'of', 'anarchism', 'main', 'article', 'criticisms', 'of', 'anarchism', 'violence', 'since', 'anarchism', 'has', 'often', 'been', 'associated', 'with', 'violence', 'and', 'destruction', 'some', 'people', 'have', 'seen', 'it', 'as', 'being', 'too', 'violent', 'on', 'the', 'other', 'hand', 'hand', 'frederick', 'engels', 'criticsed', 'anarchists', 'for', 'not', 'being', 'violent', 'enough', 'a', 'revolution', 'is', 'certainly', 'the', 'most', 'authoritarian', 'thing', 'there', 'is', 'it', 'is', 'the', 'act', 'whereby', 'one', 'part', 'of', 'the', 'population', 'imposes', 'its', 'will', 'upon', 'the', 'other', 'part', 'by', 'means', 'of', 'rifles', 'bayonets', 'and', 'cannon', 'authoritarian', 'means', 'if', 'such', 'there', 'be', 'at', 'all', 'and', 'if', 'the', 'victorious', 'party', 'does', 'not', 'want', 'to', 'have', 'fought', 'in', 'vain', 'it', 'must', 'maintain', 'this', 'rule', 'by', 'means', 'of', 'the', 'terror', 'which', 'its', 'arms', 'inspire', 'in', 'the', 'reactionists', 'would', 'the', 'paris', 'commune', 'have', 'lasted', 'a', 'single', 'day', 'if', 'it', 'had', 'not', 'made', 'use', 'of', 'this', 'authority', 'of', 'the', 'armed', 'people', 'against', 'the', 'bourgeois', 'utopianism', 'anarchism', 'is', 'often', 'criticised', 'as', 'unfeasible', 'or', 'plain', 'utopian', 'even', 'by', 'many', 'who', 'agree', 'that', 'it', 's', 'a', 'nice', 'idea', 'in', 'principle', 'for', 'example', 'carl', 'landauer', 'in', 'his', 'book', 'european', 'socialism', 'criticizes', 'anarchism', 'as', 'being', 'unrealistically', 'utopian', 'and', 'holds', 'that', 'government', 'is', 'a', 'lesser', 'evil', 'than', 'a', 'society', 'without', 'repressive', 'force', 'he', 'holds', 'that', 'the', 'belief', 'that', 'ill', 'intentions', 'will', 'cease', 'if', 'repressive', 'force', 'disappears', 'is', 'an', 'absurdity', 'however', 'it', 'must', 'be', 'noted', 'that', 'not', 'all', 'anarchists', 'have', 'such', 'a', 'utopian', 'view', 'of', 'anarchism', 'for', 'example', 'some', 'such', 'as', 'benjamin', 'tucker', 'advocate', 'privately', 'funded', 'institutions', 'that', 'defend', 'individual', 'liberty', 'and', 'property', 'however', 'other', 'anarchists', 'such', 'as', 'sir', 'herbert', 'read', 'proudly', 'accept', 'the', 'characterization', 'utopian', 'class', 'character', 'marxists', 'have', 'characterised', 'anarchism', 'as', 'an', 'expression', 'of', 'the', 'class', 'interests', 'of', 'the', 'petite', 'bourgeoisie', 'or', 'perhaps', 'the', 'lumpenproletariat', 'see', 'e', 'g', 'plekhanov', 'for', 'a', 'marxist', 'critique', 'of', 'one', 'eight', 'nine', 'five', 'anarchists', 'have', 'also', 'been', 'characterised', 'as', 'spoilt', 'middle', 'class', 'dilettantes', 'most', 'recently', 'in', 'relation', 'to', 'anti', 'capitalist', 'protesters', 'tacit', 'authoritarianism', 'in', 'recent', 'decades', 'anarchism', 'has', 'been', 'criticised', 'by', 'situationists', 'post', 'anarchists', 'and', 'others', 'of', 'preserving', 'tacitly', 'statist', 'authoritarian', 'or', 'bureaucratic', 'tendencies', 'behind', 'a', 'dogmatic', 'facade', 'hypocrisy', 'some', 'critics', 'point', 'to', 'the', 'sexist', 'and', 'racist', 'views', 'of', 'some', 'prominent', 'anarchists', 'notably', 'proudhon', 'and', 'bakunin', 'as', 'examples', 'of', 'hypocrisy', 'inherent', 'within', 'anarchism', 'while', 'many', 'anarchists', 'however', 'dismiss', 'that', 'the', 'personal', 'prejudices', 'of', 'one', 'nine', 'th', 'century', 'theorists', 'influence', 'the', 'beliefs', 'of', 'present', 'day', 'anarchists', 'others', 'criticise', 'modern', 'anarchism', 'for', 'continuing', 'to', 'be', 'eurocentric', 'and', 'reference', 'the', 'impact', 'of', 'anarchist', 'thinkers', 'like', 'proudhon', 'on', 'fascism', 'through', 'groups', 'like', 'cercle', 'proudhon', 'anarcho', 'capitalist', 'bryan', 'caplan', 'argues', 'that', 'the', 'treatment', 'of', 'fascists', 'and', 'suspected', 'fascist', 'sympathizers', 'by', 'spanish', 'anarchists', 'in', 'the', 'spanish', 'civil', 'war', 'was', 'a', 'form', 'of', 'illegitimate', 'coercion', 'making', 'the', 'proffessed', 'anarchists', 'ultimately', 'just', 'a', 'third', 'faction', 'of', 'totalitarians', 'alongside', 'the', 'communists', 'and', 'fascists', 'he', 'also', 'criticizes', 'the', 'willingness', 'of', 'the', 'cnt', 'to', 'join', 'the', 'statist', 'republican', 'government', 'during', 'the', 'civil', 'war', 'and', 'references', 'stanley', 'g', 'payne', 's', 'book', 'on', 'the', 'franco', 'regime', 'which', 'claims', 'that', 'the', 'cnt', 'entered', 'negotiations', 'with', 'the', 'fascist', 'government', 'six', 'years', 'after', 'the', 'war', 'cultural', 'phenomena', 'noam', 'chomsky', 'one', 'nine', 'two', 'eight', 'the', 'kind', 'of', 'anarchism', 'that', 'is', 'most', 'easily', 'encountered', 'in', 'popular', 'culture', 'is', 'represented', 'by', 'celebrities', 'who', 'publicly', 'identify', 'themselves', 'as', 'anarchists', 'although', 'some', 'anarchists', 'reject', 'any', 'focus', 'on', 'such', 'famous', 'living', 'individuals', 'as', 'inherently', 'litist', 'the', 'following', 'figures', 'are', 'examples', 'of', 'prominent', 'publicly', 'self', 'avowed', 'anarchists', 'the', 'mit', 'professor', 'of', 'linguistics', 'noam', 'chomsky', 'the', 'science', 'fiction', 'author', 'ursula', 'k', 'le', 'guin', 'the', 'social', 'historian', 'howard', 'zinn', 'entertainer', 'and', 'author', 'hans', 'alfredsson', 'the', 'avant', 'garde', 'artist', 'nicol', 's', 'rossell', 'in', 'denmark', 'the', 'freetown', 'christiania', 'was', 'created', 'in', 'downtown', 'copenhagen', 'the', 'housing', 'and', 'employment', 'crisis', 'in', 'most', 'of', 'western', 'europe', 'led', 'to', 'the', 'formation', 'of', 'communes', 'and', 'squatter', 'movements', 'like', 'the', 'one', 'still', 'thriving', 'in', 'barcelona', 'in', 'catalonia', 'militant', 'resistance', 'to', 'neo', 'nazi', 'groups', 'in', 'places', 'like', 'germany', 'and', 'the', 'uprisings', 'of', 'autonomous', 'marxism', 'situationist', 'and', 'autonomist', 'groups', 'in', 'france', 'and', 'italy', 'also', 'helped', 'to', 'give', 'popularity', 'to', 'anti', 'authoritarian', 'non', 'capitalist', 'ideas', 'in', 'various', 'musical', 'styles', 'anarchism', 'rose', 'in', 'popularity', 'most', 'famous', 'for', 'the', 'linking', 'of', 'anarchist', 'ideas', 'and', 'music', 'has', 'been', 'punk', 'rock', 'although', 'in', 'the', 'modern', 'age', 'hip', 'hop', 'and', 'folk', 'music', 'are', 'also', 'becoming', 'important', 'mediums', 'for', 'the', 'spreading', 'of', 'the', 'anarchist', 'message', 'in', 'the', 'uk', 'this', 'was', 'associated', 'with', 'the', 'punk', 'rock', 'movement', 'the', 'band', 'crass', 'is', 'celebrated', 'for', 'its', 'anarchist', 'and', 'pacifist', 'ideas', 'the', 'dutch', 'punk', 'band', 'the', 'ex', 'further', 'exemplifies', 'this', 'expression', 'for', 'further', 'details', 'see', 'anarcho', 'punk', 'see', 'also', 'there', 'are', 'many', 'concepts', 'relevant', 'to', 'the', 'topic', 'of', 'anarchism', 'this', 'is', 'a', 'brief', 'summary', 'there', 'is', 'also', 'a', 'more', 'extensive', 'list', 'of', 'anarchist', 'concepts', 'individualist', 'anarchism', 'anarcho', 'communism', 'anarcho', 'syndicalism', 'anarcho', 'capitalism', 'mutualism', 'christian', 'anarchism', 'anarcha', 'feminism', 'green', 'anarchism', 'nihilist', 'anarchism', 'anarcho', 'nationalism', 'black', 'anarchism', 'national', 'anarchism', 'post', 'anarchism', 'post', 'left', 'anarchism', 'libertarian', 'socialism', 'anarchist', 'symbolism', 'list', 'of', 'anarchism', 'links', 'list', 'of', 'anarchists', 'list', 'of', 'anarchist', 'organizations', 'major', 'conflicts', 'within', 'anarchist', 'thought', 'past', 'and', 'present', 'anarchist', 'communities', 'historical', 'events', 'paris', 'commune', 'one', 'eight', 'seven', 'one', 'haymarket', 'riot', 'one', 'eight', 'eight', 'six', 'the', 'makhnovschina', 'one', 'nine', 'one', 'seven', 'one', 'nine', 'two', 'one', 'kronstadt', 'rebellion', 'one', 'nine', 'two', 'one', 'spanish', 'revolution', 'one', 'nine', 'three', 'six', 'see', 'anarchism', 'in', 'spain', 'and', 'spanish', 'revolution', 'may', 'one', 'nine', 'six', 'eight', 'france', 'one', 'nine', 'six', 'eight', 'wto', 'meeting', 'in', 'seattle', 'one', 'nine', 'nine', 'nine', 'books', 'the', 'following', 'is', 'a', 'sample', 'of', 'books', 'that', 'have', 'been', 'referenced', 'in', 'this', 'page', 'a', 'more', 'complete', 'list', 'can', 'be', 'found', 'at', 'the', 'list', 'of', 'anarchist', 'books', 'mikhail', 'bakunin', 'god', 'and', 'the', 'state', 'emma', 'goldman', 'anarchism', 'other', 'essays', 'peter', 'kropotkin', 'mutual', 'aid', 'pierre', 'joseph', 'proudhon', 'what', 'is', 'property', 'rudolf', 'rocker', 'anarcho', 'syndicalism', 'murray', 'rothbard', 'the', 'ethics', 'of', 'liberty', 'max', 'stirner', 'the', 'ego', 'and', 'its', 'own', 'leo', 'tolstoy', 'the', 'kingdom', 'of', 'god', 'is', 'within', 'you', 'anarchism', 'by', 'region', 'culture', 'african', 'anarchism', 'anarchism', 'in', 'spain', 'anarchism', 'in', 'the', 'english', 'tradition', 'chinese', 'anarchism', 'references', 'these', 'notes', 'have', 'no', 'corresponding', 'reference', 'in', 'the', 'article', 'they', 'might', 'be', 're', 'used', 'against', 'politics', 'appleton', 'boston', 'anarchists', 'yarros', 'victor', 'liberty', 'vii', 'january', 'two', 'one', 'eight', 'nine', 'two', 'noam', 'chomsky', 'on', 'anarchism', 'by', 'noam', 'chomsky', 'external', 'links', 'the', 'overwhelming', 'diversity', 'and', 'number', 'of', 'links', 'relating', 'to', 'anarchism', 'is', 'extensively', 'covered', 'on', 'the', 'links', 'subpage', 'anarchoblogs', 'blogs', 'by', 'anarchists', 'anarchy', 'archives', 'extensively', 'archives', 'information', 'relating', 'to', 'famous', 'anarchists', 'this', 'includes', 'many', 'of', 'their', 'books', 'and', 'other', 'publications', 'hundreds', 'of', 'anarchists', 'are', 'listed', 'with', 'short', 'bios', 'links', 'dedicated', 'pages', 'at', 'the', 'daily', 'bleed', 's', 'anarchist', 'encyclopedia', 'infoshop', 'org', 'wikipedia', 'page', 'industrial', 'workers', 'of', 'the', 'world', 'anarchism', 'forms', 'of', 'government', 'political', 'ideology', 'entry', 'points', 'political', 'theories', 'social', 'philosophy', 'autism', 'is', 'classified', 'as', 'a', 'neurodevelopmental', 'disorder', 'that', 'manifests', 'itself', 'in', 'markedly', 'abnormal', 'social', 'interaction', 'communication', 'ability', 'patterns', 'of', 'interests', 'and', 'patterns', 'of', 'behavior', 'although', 'the', 'specific', 'etiology', 'of', 'autism', 'is', 'unknown', 'many', 'researchers', 'suspect', 'that', 'autism', 'results', 'from', 'genetically', 'mediated', 'vulnerabilities', 'to', 'environmental', 'triggers', 'and', 'while', 'there', 'is', 'disagreement', 'about', 'the', 'magnitude', 'nature', 'and', 'mechanisms', 'for', 'such', 'environmental', 'factors', 'researchers', 'have', 'found', 'at', 'least', 'seven', 'major', 'genes', 'prevalent', 'among', 'individuals', 'diagnosed', 'as', 'autistic', 'some', 'estimate', 'that', 'autism', 'occurs', 'in', 'as', 'many', 'as', 'one', 'united', 'states', 'child', 'in', 'one', 'six', 'six', 'however', 'the', 'national', 'institute', 'of', 'mental', 'health', 'gives', 'a', 'more', 'conservative', 'estimate', 'of', 'one', 'in', 'one', 'zero', 'zero', 'zero', 'for', 'families', 'that', 'already', 'have', 'one', 'autistic', 'child', 'the', 'odds', 'of', 'a', 'second', 'autistic', 'child', 'may', 'be', 'as', 'high', 'as', 'one', 'in', 'twenty', 'diagnosis', 'is', 'based', 'on', 'a', 'list', 'of', 'psychiatric', 'criteria', 'and', 'a', 'series', 'of', 'standardized', 'clinical', 'tests', 'may', 'also', 'be', 'used', 'autism', 'may', 'not', 'be', 'physiologically', 'obvious', 'a', 'complete', 'physical', 'and', 'neurological', 'evaluation', 'will', 'typically', 'be', 'part', 'of', 'diagnosing', 'autism', 'some', 'now', 'speculate', 'that', 'autism', 'is', 'not', 'a', 'single', 'condition', 'but', 'a', 'group', 'of', 'several', 'distinct', 'conditions', 'that', 'manifest', 'in', 'similar', 'ways', 'by', 'definition', 'autism', 'must', 'manifest', 'delays', 'in', 'social', 'interaction', 'language', 'as', 'used', 'in', 'social', 'communication', 'or', 'symbolic', 'or', 'imaginative', 'play', 'with', 'onset', 'prior', 'to', 'age', 'three', 'years', 'according', 'to', 'the', 'diagnostic', 'and', 'statistical', 'manual', 'of', 'mental', 'disorders', 'the', 'icd', 'one', 'zero', 'also', 'says', 'that', 'symptoms', 'must', 'manifest', 'before', 'the', 'age', 'of', 'three', 'years', 'there', 'have', 'been', 'large', 'increases', 'in', 'the', 'reported', 'incidence', 'of', 'autism', 'for', 'reasons', 'that', 'are', 'heavily', 'debated', 'by', 'researchers', 'in', 'psychology', 'and', 'related', 'fields', 'within', 'the', 'scientific', 'community', 'some', 'children', 'with', 'autism', 'have', 'improved', 'their', 'social', 'and', 'other', 'skills', 'to', 'the', 'point', 'where', 'they', 'can', 'fully', 'participate', 'in', 'mainstream', 'education', 'and', 'social', 'events', 'but', 'there', 'are', 'lingering', 'concerns', 'that', 'an', 'absolute', 'cure', 'from', 'autism', 'is', 'impossible', 'with', 'current', 'technology', 'however', 'many', 'autistic', 'children', 'and', 'adults', 'who', 'are', 'able', 'to', 'communicate', 'at', 'least', 'in', 'writing', 'are', 'opposed', 'to', 'attempts', 'to', 'cure', 'their', 'conditions', 'and', 'see', 'such', 'conditions', 'as', 'part', 'of', 'who', 'they', 'are', 'history', 'dr', 'hans', 'asperger', 'described', 'a', 'form', 'of', 'autism', 'in', 'the', 'one', 'nine', 'four', 'zero', 's', 'that', 'later', 'became', 'known', 'as', 'asperger', 's', 'syndrome', 'the', 'word', 'autism', 'was', 'first', 'used', 'in', 'the', 'english', 'language', 'by', 'swiss', 'psychiatrist', 'eugene', 'bleuler', 'in', 'a', 'one', 'nine', 'one', 'two', 'number', 'of', 'the', 'american', 'journal', 'of', 'insanity', 'it', 'comes', 'from', 'the', 'greek', 'word', 'for', 'self', 'however', 'the', 'classification', 'of', 'autism', 'did', 'not', 'occur', 'until', 'the', 'middle', 'of', 'the', 'twentieth', 'century', 'when', 'in', 'one', 'nine', 'four', 'three', 'psychiatrist', 'dr', 'leo', 'kanner', 'of', 'the', 'johns', 'hopkins', 'hospital', 'in', 'baltimore', 'reported', 'on', 'one', 'one', 'child', 'patients', 'with', 'striking', 'behavioral', 'similarities', 'and', 'introduced', 'the', 'label', 'early', 'infantile', 'autism', 'he', 'suggested', 'autism', 'from', 'the', 'greek', 'autos', 'meaning', 'self', 'to', 'describe', 'the', 'fact', 'that', 'the', 'children', 'seemed', 'to', 'lack', 'interest', 'in', 'other', 'people', 'although', 'kanner', 's', 'first', 'paper', 'on', 'the', 'subject', 'was', 'published', 'in', 'a', 'now', 'defunct', 'journal', 'the', 'nervous', 'child', 'almost', 'every', 'characteristic', 'he', 'originally', 'described', 'is', 'still', 'regarded', 'as', 'typical', 'of', 'the', 'autistic', 'spectrum', 'of', 'disorders', 'at', 'the', 'same', 'time', 'an', 'austrian', 'scientist', 'dr', 'hans', 'asperger', 'described', 'a', 'different', 'form', 'of', 'autism', 'that', 'became', 'known', 'as', 'asperger', 's', 'syndrome', 'but', 'the', 'widespread', 'recognition', 'of', 'asperger', 's', 'work', 'was', 'delayed', 'by', 'world', 'war', 'ii', 'in', 'germany', 'and', 'by', 'the', 'fact', 'that', 'his', 'seminal', 'paper', 'wasn', 't', 'translated', 'into', 'english', 'for', 'almost', 'five', 'zero', 'years', 'the', 'majority', 'of', 'his', 'work', 'wasn', 't', 'widely', 'read', 'until', 'one', 'nine', 'nine', 'seven', 'thus', 'these', 'two', 'conditions', 'were', 'described', 'and', 'are', 'today', 'listed', 'in', 'the', 'diagnostic', 'and', 'statistical', 'manual', 'of', 'mental', 'disorders', 'dsm', 'iv', 'tr', 'fourth', 'edition', 'text', 'revision', 'one', 'as', 'two', 'of', 'the', 'five', 'pervasive', 'developmental', 'disorders', 'pdd', 'more', 'often', 'referred', 'to', 'today', 'as', 'autism', 'spectrum', 'disorders', 'asd', 'all', 'of', 'these', 'conditions', 'are', 'characterized', 'by', 'varying', 'degrees', 'of', 'difference', 'in', 'communication', 'skills', 'social', 'interactions', 'and', 'restricted', 'repetitive', 'and', 'stereotyped', 'patterns', 'of', 'behavior', 'few', 'clinicians', 'today', 'solely', 'use', 'the', 'dsm', 'iv', 'criteria', 'for', 'determining', 'a', 'diagnosis', 'of', 'autism', 'which', 'are', 'based', 'on', 'the', 'absence', 'or', 'delay', 'of', 'certain', 'developmental', 'milestones', 'many', 'clinicians', 'instead', 'use', 'an', 'alternate', 'means', 'or', 'a', 'combination', 'thereof', 'to', 'more', 'accurately', 'determine', 'a', 'diagnosis', 'terminology', 'when', 'referring', 'to', 'someone', 'diagnosed', 'with', 'autism', 'the', 'term', 'autistic', 'is', 'often', 'used', 'however', 'the', 'term', 'person', 'with', 'autism', 'can', 'be', 'used', 'instead', 'this', 'is', 'referred', 'to', 'as', 'person', 'first', 'terminology', 'the', 'autistic', 'community', 'generally', 'prefers', 'the', 'term', 'autistic', 'for', 'reasons', 'that', 'are', 'fairly', 'controversial', 'this', 'article', 'uses', 'the', 'term', 'autistic', 'see', 'talk', 'page', 'characteristics', 'dr', 'leo', 'kanner', 'introduced', 'the', 'label', 'early', 'infantile', 'autism', 'in', 'one', 'nine', 'four', 'three', 'there', 'is', 'a', 'great', 'diversity', 'in', 'the', 'skills', 'and', 'behaviors', 'of', 'individuals', 'diagnosed', 'as', 'autistic', 'and', 'physicians', 'will', 'often', 'arrive', 'at', 'different', 'conclusions', 'about', 'the', 'appropriate', 'diagnosis', 'much', 'of', 'this', 'is', 'due', 'to', 'the', 'sensory', 'system', 'of', 'an', 'autistic', 'which', 'is', 'quite', 'different', 'from', 'the', 'sensory', 'system', 'of', 'other', 'people', 'since', 'certain', 'stimulations', 'can', 'affect', 'an', 'autistic', 'differently', 'than', 'a', 'non', 'autistic', 'and', 'the', 'degree', 'to', 'which', 'the', 'sensory', 'system', 'is', 'affected', 'varies', 'wildly', 'from', 'one', 'autistic', 'person', 'to', 'another', 'nevertheless', 'professionals', 'within', 'pediatric', 'care', 'and', 'development', 'often', 'look', 'for', 'early', 'indicators', 'of', 'autism', 'in', 'order', 'to', 'initiate', 'treatment', 'as', 'early', 'as', 'possible', 'however', 'some', 'people', 'do', 'not', 'believe', 'in', 'treatment', 'for', 'autism', 'either', 'because', 'they', 'do', 'not', 'believe', 'autism', 'is', 'a', 'disorder', 'or', 'because', 'they', 'believe', 'treatment', 'can', 'do', 'more', 'harm', 'than', 'good', 'social', 'development', 'typically', 'developing', 'infants', 'are', 'social', 'beings', 'early', 'in', 'life', 'they', 'do', 'such', 'things', 'as', 'gaze', 'at', 'people', 'turn', 'toward', 'voices', 'grasp', 'a', 'finger', 'and', 'even', 'smile', 'in', 'contrast', 'most', 'autistic', 'children', 'prefer', 'objects', 'to', 'faces', 'and', 'seem', 'to', 'have', 'tremendous', 'difficulty', 'learning', 'to', 'engage', 'in', 'the', 'give', 'and', 'take', 'of', 'everyday', 'human', 'interaction', 'even', 'in', 'the', 'first', 'few', 'months', 'of', 'life', 'many', 'seem', 'indifferent', 'to', 'other', 'people', 'because', 'they', 'avoid', 'eye', 'contact', 'and', 'do', 'not', 'interact', 'with', 'them', 'as', 'often', 'as', 'non', 'autistic', 'children', 'children', 'with', 'autism', 'often', 'appear', 'to', 'prefer', 'being', 'alone', 'to', 'the', 'company', 'of', 'others', 'and', 'may', 'passively', 'accept', 'such', 'things', 'as', 'hugs', 'and', 'cuddling', 'without', 'reciprocating', 'or', 'resist', 'attention', 'altogether', 'later', 'they', 'seldom', 'seek', 'comfort', 'from', 'others', 'or', 'respond', 'to', 'parents', 'displays', 'of', 'anger', 'or', 'affection', 'in', 'a', 'typical', 'way', 'research', 'has', 'suggested', 'that', 'although', 'autistic', 'children', 'are', 'attached', 'to', 'their', 'parents', 'their', 'expression', 'of', 'this', 'attachment', 'is', 'unusual', 'and', 'difficult', 'to', 'interpret', 'parents', 'who', 'looked', 'forward', 'to', 'the', 'joys', 'of', 'cuddling', 'teaching', 'and', 'playing', 'with', 'their', 'child', 'may', 'feel', 'crushed', 'by', 'this', 'lack', 'of', 'expected', 'attachment', 'behavior', 'children', 'with', 'autism', 'appear', 'to', 'lack', 'theory', 'of', 'mind', 'the', 'ability', 'to', 'see', 'things', 'from', 'another', 'person', 's', 'perspective', 'a', 'behavior', 'cited', 'as', 'exclusive', 'to', 'human', 'beings', 'above', 'the', 'age', 'of', 'five', 'and', 'possibly', 'other', 'higher', 'primates', 'such', 'as', 'adult', 'gorillas', 'chimpanzees', 'and', 'bonobos', 'typical', 'five', 'year', 'olds', 'can', 'develop', 'insights', 'into', 'other', 'people', 's', 'different', 'knowledge', 'feelings', 'and', 'intentions', 'interpretations', 'based', 'upon', 'social', 'cues', 'e', 'g', 'gestures', 'facial', 'expressions', 'an', 'individual', 'with', 'autism', 'seems', 'to', 'lack', 'these', 'interpretation', 'skills', 'an', 'inability', 'that', 'leaves', 'them', 'unable', 'to', 'predict', 'or', 'understand', 'other', 'people', 's', 'actions', 'the', 'social', 'alienation', 'of', 'autistic', 'and', 'asperger', 's', 'people', 'is', 'so', 'intense', 'from', 'childhood', 'that', 'many', 'of', 'them', 'have', 'imaginary', 'friends', 'as', 'companionship', 'however', 'having', 'an', 'imaginary', 'friend', 'is', 'not', 'necessarily', 'a', 'sign', 'of', 'autism', 'and', 'also', 'occurs', 'in', 'non', 'autistic', 'children', 'although', 'not', 'universal', 'it', 'is', 'common', 'for', 'autistic', 'people', 'to', 'not', 'regulate', 'their', 'behavior', 'this', 'can', 'take', 'the', 'form', 'of', 'crying', 'or', 'verbal', 'outbursts', 'that', 'may', 'seem', 'out', 'of', 'proportion', 'to', 'the', 'situation', 'individuals', 'with', 'autism', 'generally', 'prefer', 'consistent', 'routines', 'and', 'environments', 'they', 'may', 'react', 'negatively', 'to', 'changes', 'in', 'them', 'it', 'is', 'not', 'uncommon', 'for', 'these', 'individuals', 'to', 'exhibit', 'aggression', 'increased', 'levels', 'of', 'self', 'stimulatory', 'behavior', 'self', 'injury', 'or', 'extensive', 'withdrawal', 'in', 'overwhelming', 'situations', 'sensory', 'system', 'a', 'key', 'indicator', 'to', 'clinicians', 'making', 'a', 'proper', 'assessment', 'for', 'autism', 'would', 'include', 'looking', 'for', 'symptoms', 'much', 'like', 'those', 'found', 'in', 'sensory', 'integration', 'dysfunction', 'children', 'will', 'exhibit', 'problems', 'coping', 'with', 'the', 'normal', 'sensory', 'input', 'indicators', 'of', 'this', 'disorder', 'include', 'oversensitivity', 'or', 'underreactivity', 'to', 'touch', 'movement', 'sights', 'or', 'sounds', 'physical', 'clumsiness', 'or', 'carelessness', 'poor', 'body', 'awareness', 'a', 'tendency', 'to', 'be', 'easily', 'distracted', 'impulsive', 'physical', 'or', 'verbal', 'behavior', 'an', 'activity', 'level', 'that', 'is', 'unusually', 'high', 'or', 'low', 'not', 'unwinding', 'or', 'calming', 'oneself', 'difficulty', 'learning', 'new', 'movements', 'difficulty', 'in', 'making', 'transitions', 'from', 'one', 'situation', 'to', 'another', 'social', 'and', 'or', 'emotional', 'problems', 'delays', 'in', 'speech', 'language', 'or', 'motor', 'skills', 'specific', 'learning', 'difficulties', 'delays', 'in', 'academic', 'achievement', 'one', 'common', 'example', 'is', 'an', 'individual', 'with', 'autism', 'hearing', 'a', 'person', 'with', 'autism', 'may', 'have', 'trouble', 'hearing', 'certain', 'people', 'while', 'other', 'people', 'are', 'louder', 'than', 'usual', 'or', 'the', 'person', 'with', 'autism', 'may', 'be', 'unable', 'to', 'filter', 'out', 'sounds', 'in', 'certain', 'situations', 'such', 'as', 'in', 'a', 'large', 'crowd', 'of', 'people', 'see', 'cocktail', 'party', 'effect', 'however', 'this', 'is', 'perhaps', 'the', 'part', 'of', 'the', 'autism', 'that', 'tends', 'to', 'vary', 'the', 'most', 'from', 'person', 'to', 'person', 'so', 'these', 'examples', 'may', 'not', 'apply', 'to', 'every', 'autistic', 'it', 'should', 'be', 'noted', 'that', 'sensory', 'difficulties', 'although', 'reportedly', 'common', 'in', 'autistics', 'are', 'not', 'part', 'of', 'the', 'dsm', 'iv', 'diagnostic', 'criteria', 'for', 'autistic', 'disorder', 'communication', 'difficulties', 'by', 'age', 'three', 'typical', 'children', 'have', 'passed', 'predictable', 'language', 'learning', 'milestones', 'one', 'of', 'the', 'earliest', 'is', 'babbling', 'by', 'the', 'first', 'birthday', 'a', 'typical', 'toddler', 'says', 'words', 'turns', 'when', 'he', 'or', 'she', 'hears', 'his', 'or', 'her', 'name', 'points', 'when', 'he', 'or', 'she', 'wants', 'a', 'toy', 'and', 'when', 'offered', 'something', 'distasteful', 'makes', 'it', 'clear', 'that', 'the', 'answer', 'is', 'no', 'speech', 'development', 'in', 'people', 'with', 'autism', 'takes', 'different', 'paths', 'some', 'remain', 'mute', 'throughout', 'their', 'lives', 'while', 'being', 'fully', 'literate', 'and', 'able', 'to', 'communicate', 'in', 'other', 'ways', 'images', 'sign', 'language', 'and', 'typing', 'are', 'far', 'more', 'natural', 'to', 'them', 'some', 'infants', 'who', 'later', 'show', 'signs', 'of', 'autism', 'coo', 'and', 'babble', 'during', 'the', 'first', 'few', 'months', 'of', 'life', 'but', 'stop', 'soon', 'afterwards', 'others', 'may', 'be', 'delayed', 'developing', 'language', 'as', 'late', 'as', 'the', 'teenage', 'years', 'still', 'inability', 'to', 'speak', 'does', 'not', 'mean', 'that', 'people', 'with', 'autism', 'are', 'unintelligent', 'or', 'unaware', 'once', 'given', 'appropriate', 'accommodations', 'many', 'will', 'happily', 'converse', 'for', 'hours', 'and', 'can', 'often', 'be', 'found', 'in', 'online', 'chat', 'rooms', 'discussion', 'boards', 'or', 'websites', 'and', 'even', 'using', 'communication', 'devices', 'at', 'autism', 'community', 'social', 'events', 'such', 'as', 'autreat', 'those', 'who', 'do', 'speak', 'often', 'use', 'language', 'in', 'unusual', 'ways', 'retaining', 'features', 'of', 'earlier', 'stages', 'of', 'language', 'development', 'for', 'long', 'periods', 'or', 'throughout', 'their', 'lives', 'some', 'speak', 'only', 'single', 'words', 'while', 'others', 'repeat', 'the', 'same', 'phrase', 'over', 'and', 'over', 'some', 'repeat', 'what', 'they', 'hear', 'a', 'condition', 'called', 'echolalia', 'sing', 'song', 'repetitions', 'in', 'particular', 'are', 'a', 'calming', 'joyous', 'activity', 'that', 'many', 'autistic', 'adults', 'engage', 'in', 'many', 'people', 'with', 'autism', 'have', 'a', 'strong', 'tonal', 'sense', 'and', 'can', 'often', 'understand', 'spoken', 'language', 'some', 'children', 'may', 'exhibit', 'only', 'slight', 'delays', 'in', 'language', 'or', 'even', 'seem', 'to', 'have', 'precocious', 'language', 'and', 'unusually', 'large', 'vocabularies', 'but', 'have', 'great', 'difficulty', 'in', 'sustaining', 'typical', 'conversations', 'the', 'give', 'and', 'take', 'of', 'non', 'autistic', 'conversation', 'is', 'hard', 'for', 'them', 'although', 'they', 'often', 'carry', 'on', 'a', 'monologue', 'on', 'a', 'favorite', 'subject', 'giving', 'no', 'one', 'else', 'an', 'opportunity', 'to', 'comment', 'when', 'given', 'the', 'chance', 'to', 'converse', 'with', 'other', 'autistics', 'they', 'comfortably', 'do', 'so', 'in', 'parallel', 'monologue', 'taking', 'turns', 'expressing', 'views', 'and', 'information', 'just', 'as', 'neurotypicals', 'people', 'without', 'autism', 'have', 'trouble', 'understanding', 'autistic', 'body', 'languages', 'vocal', 'tones', 'or', 'phraseology', 'people', 'with', 'autism', 'similarly', 'have', 'trouble', 'with', 'such', 'things', 'in', 'people', 'without', 'autism', 'in', 'particular', 'autistic', 'language', 'abilities', 'tend', 'to', 'be', 'highly', 'literal', 'people', 'without', 'autism', 'often', 'inappropriately', 'attribute', 'hidden', 'meaning', 'to', 'what', 'people', 'with', 'autism', 'say', 'or', 'expect', 'the', 'person', 'with', 'autism', 'to', 'sense', 'such', 'unstated', 'meaning', 'in', 'their', 'own', 'words', 'the', 'body', 'language', 'of', 'people', 'with', 'autism', 'can', 'be', 'difficult', 'for', 'other', 'people', 'to', 'understand', 'facial', 'expressions', 'movements', 'and', 'gestures', 'may', 'be', 'easily', 'understood', 'by', 'some', 'other', 'people', 'with', 'autism', 'but', 'do', 'not', 'match', 'those', 'used', 'by', 'other', 'people', 'also', 'their', 'tone', 'of', 'voice', 'has', 'a', 'much', 'more', 'subtle', 'inflection', 'in', 'reflecting', 'their', 'feelings', 'and', 'the', 'auditory', 'system', 'of', 'a', 'person', 'without', 'autism', 'often', 'cannot', 'sense', 'the', 'fluctuations', 'what', 'seems', 'to', 'non', 'autistic', 'people', 'like', 'a', 'high', 'pitched', 'sing', 'song', 'or', 'flat', 'robot', 'like', 'voice', 'is', 'common', 'in', 'autistic', 'children', 'some', 'autistic', 'children', 'with', 'relatively', 'good', 'language', 'skills', 'speak', 'like', 'little', 'adults', 'rather', 'than', 'communicating', 'at', 'their', 'current', 'age', 'level', 'which', 'is', 'one', 'of', 'the', 'things', 'that', 'can', 'lead', 'to', 'problems', 'since', 'non', 'autistic', 'people', 'are', 'often', 'unfamiliar', 'with', 'the', 'autistic', 'body', 'language', 'and', 'since', 'autistic', 'natural', 'language', 'may', 'not', 'tend', 'towards', 'speech', 'autistic', 'people', 'often', 'struggle', 'to', 'let', 'other', 'people', 'know', 'what', 'they', 'need', 'as', 'anybody', 'might', 'do', 'in', 'such', 'a', 'situation', 'they', 'may', 'scream', 'in', 'frustration', 'or', 'resort', 'to', 'grabbing', 'what', 'they', 'want', 'while', 'waiting', 'for', 'non', 'autistic', 'people', 'to', 'learn', 'to', 'communicate', 'with', 'them', 'people', 'with', 'autism', 'do', 'whatever', 'they', 'can', 'to', 'get', 'through', 'to', 'them', 'communication', 'difficulties', 'may', 'contribute', 'to', 'autistic', 'people', 'becoming', 'socially', 'anxious', 'or', 'depressed', 'repetitive', 'behaviors', 'although', 'people', 'with', 'autism', 'usually', 'appear', 'physically', 'normal', 'and', 'have', 'good', 'muscle', 'control', 'unusual', 'repetitive', 'motions', 'known', 'as', 'self', 'stimulation', 'or', 'stimming', 'may', 'set', 'them', 'apart', 'these', 'behaviors', 'might', 'be', 'extreme', 'and', 'highly', 'apparent', 'or', 'more', 'subtle', 'some', 'children', 'and', 'older', 'individuals', 'spend', 'a', 'lot', 'of', 'time', 'repeatedly', 'flapping', 'their', 'arms', 'or', 'wiggling', 'their', 'toes', 'others', 'suddenly', 'freeze', 'in', 'position', 'as', 'children', 'they', 'might', 'spend', 'hours', 'lining', 'up', 'their', 'cars', 'and', 'trains', 'in', 'a', 'certain', 'way', 'not', 'using', 'them', 'for', 'pretend', 'play', 'if', 'someone', 'accidentally', 'moves', 'one', 'of', 'these', 'toys', 'the', 'child', 'may', 'be', 'tremendously', 'upset', 'autistic', 'children', 'often', 'need', 'and', 'demand', 'absolute', 'consistency', 'in', 'their', 'environment', 'a', 'slight', 'change', 'in', 'any', 'routine', 'in', 'mealtimes', 'dressing', 'taking', 'a', 'bath', 'or', 'going', 'to', 'school', 'at', 'a', 'certain', 'time', 'and', 'by', 'the', 'same', 'route', 'can', 'be', 'extremely', 'disturbing', 'people', 'with', 'autism', 'sometimes', 'have', 'a', 'persistent', 'intense', 'preoccupation', 'for', 'example', 'the', 'child', 'might', 'be', 'obsessed', 'with', 'learning', 'all', 'about', 'vacuum', 'cleaners', 'train', 'schedules', 'or', 'lighthouses', 'often', 'they', 'show', 'great', 'interest', 'in', 'different', 'languages', 'numbers', 'symbols', 'or', 'science', 'topics', 'repetitive', 'behaviors', 'can', 'also', 'extend', 'into', 'the', 'spoken', 'word', 'as', 'well', 'perseveration', 'of', 'a', 'single', 'word', 'or', 'phrase', 'even', 'for', 'a', 'specific', 'number', 'of', 'times', 'can', 'also', 'become', 'a', 'part', 'of', 'the', 'child', 's', 'daily', 'routine', 'effects', 'in', 'education', 'children', 'with', 'autism', 'are', 'affected', 'with', 'these', 'symptoms', 'every', 'day', 'these', 'unusual', 'characteristics', 'set', 'them', 'apart', 'from', 'the', 'everyday', 'normal', 'student', 'because', 'they', 'have', 'trouble', 'understanding', 'people', 's', 'thoughts', 'and', 'feelings', 'they', 'have', 'trouble', 'understanding', 'what', 'their', 'teacher', 'may', 'be', 'telling', 'them', 'they', 'do', 'not', 'understand', 'that', 'facial', 'expressions', 'and', 'vocal', 'variations', 'hold', 'meanings', 'and', 'may', 'misinterpret', 'what', 'emotion', 'their', 'instructor', 'is', 'displaying', 'this', 'inability', 'to', 'fully', 'decipher', 'the', 'world', 'around', 'them', 'makes', 'education', 'stressful', 'teachers', 'need', 'to', 'be', 'aware', 'of', 'a', 'student', 's', 'disorder', 'so', 'that', 'they', 'are', 'able', 'to', 'help', 'the', 'student', 'get', 'the', 'best', 'out', 'of', 'the', 'lessons', 'being', 'taught', 'some', 'students', 'learn', 'better', 'with', 'visual', 'aids', 'as', 'they', 'are', 'better', 'able', 'to', 'understand', 'material', 'presented', 'this', 'way', 'because', 'of', 'this', 'many', 'teachers', 'create', 'visual', 'schedules', 'for', 'their', 'autistic', 'students', 'this', 'allows', 'the', 'student', 'to', 'know', 'what', 'is', 'going', 'on', 'throughout', 'the', 'day', 'so', 'they', 'know', 'what', 'to', 'prepare', 'for', 'and', 'what', 'activity', 'they', 'will', 'be', 'doing', 'next', 'some', 'autistic', 'children', 'have', 'trouble', 'going', 'from', 'one', 'activity', 'to', 'the', 'next', 'so', 'this', 'visual', 'schedule', 'can', 'help', 'to', 'reduce', 'stress', 'research', 'has', 'shown', 'that', 'working', 'in', 'pairs', 'may', 'be', 'beneficial', 'to', 'autistic', 'children', 'autistic', 'students', 'have', 'problems', 'in', 'schools', 'not', 'only', 'with', 'language', 'and', 'communication', 'but', 'with', 'socialization', 'as', 'well', 'they', 'feel', 'self', 'conscious', 'about', 'themselves', 'and', 'many', 'feel', 'that', 'they', 'will', 'always', 'be', 'outcasts', 'by', 'allowing', 'them', 'to', 'work', 'with', 'peers', 'they', 'can', 'make', 'friends', 'which', 'in', 'turn', 'can', 'help', 'them', 'cope', 'with', 'the', 'problems', 'that', 'arise', 'by', 'doing', 'so', 'they', 'can', 'become', 'more', 'integrated', 'into', 'the', 'mainstream', 'environment', 'of', 'the', 'classroom', 'a', 'teacher', 's', 'aide', 'can', 'also', 'be', 'useful', 'to', 'the', 'student', 'the', 'aide', 'is', 'able', 'to', 'give', 'more', 'elaborate', 'directions', 'that', 'the', 'teacher', 'may', 'not', 'have', 'time', 'to', 'explain', 'to', 'the', 'autistic', 'child', 'the', 'aide', 'can', 'also', 'facilitate', 'the', 'autistic', 'child', 'in', 'such', 'a', 'way', 'as', 'to', 'allow', 'them', 'to', 'stay', 'at', 'a', 'similar', 'level', 'to', 'the', 'rest', 'of', 'the', 'class', 'this', 'allows', 'a', 'partially', 'one', 'on', 'one', 'lesson', 'structure', 'so', 'that', 'the', 'child', 'is', 'still', 'able', 'to', 'stay', 'in', 'a', 'normal', 'classroom', 'but', 'be', 'given', 'the', 'extra', 'help', 'that', 'they', 'need', 'there', 'are', 'many', 'different', 'techniques', 'that', 'teachers', 'can', 'use', 'to', 'assist', 'their', 'students', 'a', 'teacher', 'needs', 'to', 'become', 'familiar', 'with', 'the', 'child', 's', 'disorder', 'to', 'know', 'what', 'will', 'work', 'best', 'with', 'that', 'particular', 'child', 'every', 'child', 'is', 'going', 'to', 'be', 'different', 'and', 'teachers', 'have', 'to', 'be', 'able', 'to', 'adjust', 'with', 'every', 'one', 'of', 'them', 'students', 'with', 'autism', 'spectrum', 'disorders', 'typically', 'have', 'high', 'levels', 'of', 'anxiety', 'and', 'stress', 'particularly', 'in', 'social', 'environments', 'like', 'school', 'if', 'a', 'student', 'exhibits', 'aggressive', 'or', 'explosive', 'behavior', 'it', 'is', 'important', 'for', 'educational', 'teams', 'to', 'recognize', 'the', 'impact', 'of', 'stress', 'and', 'anxiety', 'preparing', 'students', 'for', 'new', 'situations', 'by', 'writing', 'social', 'stories', 'can', 'lower', 'anxiety', 'teaching', 'social', 'and', 'emotional', 'concepts', 'using', 'systematic', 'teaching', 'approaches', 'such', 'as', 'the', 'incredible', 'five', 'point', 'scale', 'or', 'other', 'cognitive', 'behavioral', 'strategies', 'can', 'increase', 'a', 'student', 's', 'ability', 'to', 'control', 'excessive', 'behavioral', 'reactions', 'dsm', 'definition', 'autism', 'is', 'defined', 'in', 'section', 'two', 'nine', 'nine', 'zero', 'zero', 'of', 'the', 'diagnostic', 'and', 'statistical', 'manual', 'of', 'mental', 'disorders', 'dsm', 'iv', 'as', 'a', 'total', 'of', 'six', 'or', 'more', 'items', 'from', 'one', 'two', 'and', 'three', 'with', 'at', 'least', 'two', 'from', 'one', 'and', 'one', 'each', 'from', 'two', 'and', 'three', 'qualitative', 'impairment', 'in', 'social', 'interaction', 'as', 'manifested', 'by', 'at', 'least', 'two', 'of', 'the', 'following', 'marked', 'impairment', 'in', 'the', 'use', 'of', 'multiple', 'nonverbal', 'behaviors', 'such', 'as', 'eye', 'to', 'eye', 'gaze', 'facial', 'expression', 'body', 'postures', 'and', 'gestures', 'to', 'regulate', 'social', 'interaction', 'failure', 'to', 'develop', 'peer', 'relationships', 'appropriate', 'to', 'developmental', 'level', 'a', 'lack', 'of', 'spontaneous', 'seeking', 'to', 'share', 'enjoyment', 'interests', 'or', 'achievements', 'with', 'other', 'people', 'e', 'g', 'by', 'a', 'lack', 'of', 'showing', 'bringing', 'or', 'pointing', 'out', 'objects', 'of', 'interest', 'lack', 'of', 'social', 'or', 'emotional'], tags=[0])]\n"
          ]
        }
      ]
    },
    {
      "cell_type": "code",
      "metadata": {
        "id": "8_h2M19ghgyX"
      },
      "source": [
        "# Take ~5 minutes to train\n",
        "d2v_model = gensim.models.doc2vec.Doc2Vec(vector_size=200, min_count=1, epochs=10)\n",
        "d2v_model.build_vocab(data_for_training)\n",
        "d2v_model.train(data_for_training, total_examples=d2v_model.corpus_count, epochs=d2v_model.epochs)\n",
        "d2v_model.save(\"text8_doc2vec.model\")"
      ],
      "execution_count": null,
      "outputs": []
    },
    {
      "cell_type": "markdown",
      "metadata": {
        "id": "gCqY7VFOwsK9"
      },
      "source": [
        "### **Question 7 (qualitative Evaluation)**\n",
        "Perform some qualitative experiments by computing the cosine similarities between sentences composed by yourself."
      ]
    },
    {
      "cell_type": "code",
      "metadata": {
        "id": "bTz9Z2_EhqSJ",
        "colab": {
          "base_uri": "https://localhost:8080/"
        },
        "outputId": "560433c5-2bf4-480b-ee3b-2ad7de2a8dd8"
      },
      "source": [
        "from sklearn.metrics.pairwise import cosine_similarity\n",
        "\n",
        "vector_1 = d2v_model.infer_vector([\"university\", \"course\"])\n",
        "vector_2 = d2v_model.infer_vector([\"college\", \"graduate\"])\n",
        "print (vector_1.shape)\n",
        "print (cosine_similarity(vector_1.reshape(1, -1), vector_2.reshape(1, -1)))"
      ],
      "execution_count": null,
      "outputs": [
        {
          "output_type": "stream",
          "name": "stdout",
          "text": [
            "(200,)\n",
            "[[0.48853233]]\n"
          ]
        }
      ]
    },
    {
      "cell_type": "markdown",
      "metadata": {
        "id": "OBqLp1LnTeME"
      },
      "source": [
        "### **Question 7** (Extrinsic Evaluation)\n",
        "\n",
        "Extrinsic evaluation measure performance of the word/sentence/paragraph embedding model for a downstream NLP task (e.g., Text Classification).\n",
        "\n",
        "We can use different configuration, training corpora or even different models to build a complete architecture for the task at hand.\n",
        "\n",
        "For this practice we use the text classification dataset available [here](https://github.com/MorenoLaQuatra/DeepNLP/blob/main/practices/P2/news_headline_classification.csv) - [source: Kaggle](https://www.kaggle.com/rmisra/news-category-dataset)\n",
        "\n",
        "**Note:** consider using just the first 10.000 headlines to reduce runtime during the lab.\n",
        "\n",
        "Compute the accuracy of 3 classification models each one built with one of the models introduced in this practice:\n",
        "- Word2Vec model pretrained on Google News corpus\n",
        "- FastText model pretrained on Wikipedia+News corpus\n",
        "- **[Optional]** Doc2Vec model pretrained on Text8 corpus\n",
        "- **[Optional]** InferSent pretrained model (v2) - [reference](https://github.com/facebookresearch/InferSent)\n",
        "\n",
        "The procedure to create a classification system is sketched below:\n",
        "1. Choose a machine learning (multi-class) classifier (e.g., MLP)\n",
        "2. Split the data collection in train/test (80%/20%)\n",
        "3. Use text vectors obtained by pretrained model as input of the classifier\n",
        "4. Measure the accuracy of the classification system\n",
        "5. Repeat step 3-4 using different embedding models \n",
        "\n",
        "\n",
        "**Note:** You need to choose an aggregation function (e.g., average) to obtain sentence embeddings from word vectors.\n",
        "\n",
        "Which model has better performance? Report the performance of each variant of the classification system."
      ]
    },
    {
      "cell_type": "code",
      "metadata": {
        "id": "qp2k7npVeoTB",
        "colab": {
          "base_uri": "https://localhost:8080/"
        },
        "outputId": "ec3c6687-17c2-4f3b-c6a3-acc4eeef4449"
      },
      "source": [
        "!wget https://raw.githubusercontent.com/MorenoLaQuatra/DeepNLP/main/practices/P2/news_headline_classification.csv"
      ],
      "execution_count": null,
      "outputs": [
        {
          "output_type": "stream",
          "name": "stdout",
          "text": [
            "--2021-10-18 18:01:40--  https://raw.githubusercontent.com/MorenoLaQuatra/DeepNLP/main/practices/P2/news_headline_classification.csv\n",
            "Resolving raw.githubusercontent.com (raw.githubusercontent.com)... 185.199.108.133, 185.199.111.133, 185.199.110.133, ...\n",
            "Connecting to raw.githubusercontent.com (raw.githubusercontent.com)|185.199.108.133|:443... connected.\n",
            "HTTP request sent, awaiting response... 200 OK\n",
            "Length: 15212143 (15M) [text/plain]\n",
            "Saving to: ‘news_headline_classification.csv’\n",
            "\n",
            "news_headline_class 100%[===================>]  14.51M  73.7MB/s    in 0.2s    \n",
            "\n",
            "2021-10-18 18:01:41 (73.7 MB/s) - ‘news_headline_classification.csv’ saved [15212143/15212143]\n",
            "\n"
          ]
        }
      ]
    },
    {
      "cell_type": "code",
      "metadata": {
        "id": "R-jdTBgZgICi"
      },
      "source": [
        "# Reading data\n",
        "import pandas as pd\n",
        "df_news_clf = pd.read_csv(\"news_headline_classification.csv\")\n",
        "list_sentences = df_news_clf[\"headline\"].tolist()\n",
        "list_sentences = list_sentences[:10000]\n",
        "list_labels = df_news_clf[\"category\"].tolist()\n",
        "list_labels = list_labels[:10000]\n"
      ],
      "execution_count": null,
      "outputs": []
    },
    {
      "cell_type": "markdown",
      "metadata": {
        "id": "9VBbEBO6xmEL"
      },
      "source": [
        "**Word2Vec + Average aggregation function**"
      ]
    },
    {
      "cell_type": "code",
      "metadata": {
        "id": "fUM1WOMqgC7b",
        "colab": {
          "base_uri": "https://localhost:8080/"
        },
        "outputId": "b63fe1f7-5ccb-4a23-dfb1-2b153a61deaa"
      },
      "source": [
        "# Word2Vec + Avg\n",
        "from nltk import word_tokenize\n",
        "import numpy as np\n",
        "from tqdm import tqdm\n",
        "list_w2v_vectors = []\n",
        "for s in tqdm(list_sentences):\n",
        "    words = word_tokenize(s)\n",
        "    words_vectors = []\n",
        "    for w in words:\n",
        "        try:\n",
        "            words_vectors.append(w2v_google_news_model[w])\n",
        "        except Exception as e:\n",
        "            continue\n",
        "    if len(words_vectors) > 0:\n",
        "        sentence_vector = np.mean(words_vectors, axis=0)\n",
        "    else:\n",
        "        sentence_vector = np.zeros(300)\n",
        "    list_w2v_vectors.append(sentence_vector)\n",
        "\n",
        "del w2v_google_news_model\n",
        "del w2v_model"
      ],
      "execution_count": null,
      "outputs": [
        {
          "output_type": "stream",
          "name": "stderr",
          "text": [
            "100%|██████████| 10000/10000 [00:02<00:00, 4003.05it/s]\n"
          ]
        }
      ]
    },
    {
      "cell_type": "code",
      "metadata": {
        "id": "SP_m2QkBmJas",
        "colab": {
          "base_uri": "https://localhost:8080/"
        },
        "outputId": "18b7b834-a4b2-4f3f-8142-bd684c38cbfd"
      },
      "source": [
        "from sklearn.neural_network import MLPClassifier\n",
        "from sklearn.model_selection import train_test_split\n",
        "from sklearn.metrics import accuracy_score, classification_report\n",
        "\n",
        "X_train, X_test, y_train, y_test = train_test_split(list_w2v_vectors, list_labels , test_size=0.20, random_state=42)\n",
        "mlp = MLPClassifier(hidden_layer_sizes=(50), verbose=True)\n",
        "mlp = mlp.fit(X_train, y_train)\n",
        "y_pred = mlp.predict(X_test)\n",
        "print (accuracy_score(y_test, y_pred))\n",
        "print (classification_report(y_test, y_pred))\n",
        "\n",
        "del mlp"
      ],
      "execution_count": null,
      "outputs": [
        {
          "output_type": "stream",
          "name": "stdout",
          "text": [
            "Iteration 1, loss = 2.76255525\n",
            "Iteration 2, loss = 2.16554658\n",
            "Iteration 3, loss = 1.98061449\n",
            "Iteration 4, loss = 1.86324597\n",
            "Iteration 5, loss = 1.77400730\n",
            "Iteration 6, loss = 1.70044677\n",
            "Iteration 7, loss = 1.63641406\n",
            "Iteration 8, loss = 1.58155364\n",
            "Iteration 9, loss = 1.52878528\n",
            "Iteration 10, loss = 1.48285162\n",
            "Iteration 11, loss = 1.44202070\n",
            "Iteration 12, loss = 1.40539003\n",
            "Iteration 13, loss = 1.37310066\n",
            "Iteration 14, loss = 1.34256409\n",
            "Iteration 15, loss = 1.31496687\n",
            "Iteration 16, loss = 1.28881830\n",
            "Iteration 17, loss = 1.26625007\n",
            "Iteration 18, loss = 1.24542080\n",
            "Iteration 19, loss = 1.22553857\n",
            "Iteration 20, loss = 1.20579339\n",
            "Iteration 21, loss = 1.18859194\n",
            "Iteration 22, loss = 1.17418780\n",
            "Iteration 23, loss = 1.15791409\n",
            "Iteration 24, loss = 1.14236068\n",
            "Iteration 25, loss = 1.12949809\n",
            "Iteration 26, loss = 1.11729219\n",
            "Iteration 27, loss = 1.10577414\n",
            "Iteration 28, loss = 1.09314858\n",
            "Iteration 29, loss = 1.08082377\n",
            "Iteration 30, loss = 1.07086291\n",
            "Iteration 31, loss = 1.06061891\n",
            "Iteration 32, loss = 1.05118704\n",
            "Iteration 33, loss = 1.04218773\n",
            "Iteration 34, loss = 1.03437526\n",
            "Iteration 35, loss = 1.02612762\n",
            "Iteration 36, loss = 1.01624570\n",
            "Iteration 37, loss = 1.01014756\n",
            "Iteration 38, loss = 1.00135693\n",
            "Iteration 39, loss = 0.99589255\n",
            "Iteration 40, loss = 0.98645754\n",
            "Iteration 41, loss = 0.98051354\n",
            "Iteration 42, loss = 0.97706251\n",
            "Iteration 43, loss = 0.96821696\n",
            "Iteration 44, loss = 0.96156555\n",
            "Iteration 45, loss = 0.95723606\n",
            "Iteration 46, loss = 0.94990467\n",
            "Iteration 47, loss = 0.94553984\n",
            "Iteration 48, loss = 0.93951558\n",
            "Iteration 49, loss = 0.93484259\n",
            "Iteration 50, loss = 0.93071554\n",
            "Iteration 51, loss = 0.92534893\n",
            "Iteration 52, loss = 0.92000735\n",
            "Iteration 53, loss = 0.91462840\n",
            "Iteration 54, loss = 0.91114507\n",
            "Iteration 55, loss = 0.90705962\n",
            "Iteration 56, loss = 0.90141736\n",
            "Iteration 57, loss = 0.89848260\n",
            "Iteration 58, loss = 0.89367025\n",
            "Iteration 59, loss = 0.89026030\n",
            "Iteration 60, loss = 0.88420201\n",
            "Iteration 61, loss = 0.88176679\n",
            "Iteration 62, loss = 0.87762463\n",
            "Iteration 63, loss = 0.87330136\n",
            "Iteration 64, loss = 0.86886634\n",
            "Iteration 65, loss = 0.86640199\n",
            "Iteration 66, loss = 0.86141718\n",
            "Iteration 67, loss = 0.85947795\n",
            "Iteration 68, loss = 0.85543605\n",
            "Iteration 69, loss = 0.85221053\n",
            "Iteration 70, loss = 0.84856461\n",
            "Iteration 71, loss = 0.84379985\n",
            "Iteration 72, loss = 0.84196035\n",
            "Iteration 73, loss = 0.83662211\n",
            "Iteration 74, loss = 0.83479812\n",
            "Iteration 75, loss = 0.83151337\n",
            "Iteration 76, loss = 0.82766471\n",
            "Iteration 77, loss = 0.82527506\n",
            "Iteration 78, loss = 0.82174686\n",
            "Iteration 79, loss = 0.81791829\n",
            "Iteration 80, loss = 0.81760742\n",
            "Iteration 81, loss = 0.81268637\n",
            "Iteration 82, loss = 0.81057875\n",
            "Iteration 83, loss = 0.80565741\n",
            "Iteration 84, loss = 0.80362516\n",
            "Iteration 85, loss = 0.80120702\n",
            "Iteration 86, loss = 0.80035467\n",
            "Iteration 87, loss = 0.79566437\n",
            "Iteration 88, loss = 0.79583787\n",
            "Iteration 89, loss = 0.79072892\n",
            "Iteration 90, loss = 0.78843137\n",
            "Iteration 91, loss = 0.78566890\n",
            "Iteration 92, loss = 0.78160549\n",
            "Iteration 93, loss = 0.78099652\n",
            "Iteration 94, loss = 0.77642277\n",
            "Iteration 95, loss = 0.77552301\n",
            "Iteration 96, loss = 0.77242654\n",
            "Iteration 97, loss = 0.76939085\n",
            "Iteration 98, loss = 0.76630131\n",
            "Iteration 99, loss = 0.76432402\n",
            "Iteration 100, loss = 0.76237159\n",
            "Iteration 101, loss = 0.76077905\n",
            "Iteration 102, loss = 0.75557042\n",
            "Iteration 103, loss = 0.75332009\n",
            "Iteration 104, loss = 0.75294170\n",
            "Iteration 105, loss = 0.74934262\n",
            "Iteration 106, loss = 0.74748932\n",
            "Iteration 107, loss = 0.74519075\n",
            "Iteration 108, loss = 0.74321915\n",
            "Iteration 109, loss = 0.73931139\n",
            "Iteration 110, loss = 0.73842850\n",
            "Iteration 111, loss = 0.73631265\n",
            "Iteration 112, loss = 0.73505125\n",
            "Iteration 113, loss = 0.73171515\n",
            "Iteration 114, loss = 0.72897932\n",
            "Iteration 115, loss = 0.72715742\n",
            "Iteration 116, loss = 0.72476980\n",
            "Iteration 117, loss = 0.72371010\n",
            "Iteration 118, loss = 0.72153798\n",
            "Iteration 119, loss = 0.71909509\n",
            "Iteration 120, loss = 0.71642631\n",
            "Iteration 121, loss = 0.71495375\n",
            "Iteration 122, loss = 0.71241834\n",
            "Iteration 123, loss = 0.71119194\n",
            "Iteration 124, loss = 0.70841179\n",
            "Iteration 125, loss = 0.70656503\n",
            "Iteration 126, loss = 0.70521594\n",
            "Iteration 127, loss = 0.70286798\n",
            "Iteration 128, loss = 0.70103754\n",
            "Iteration 129, loss = 0.69814001\n",
            "Iteration 130, loss = 0.69686128\n",
            "Iteration 131, loss = 0.69434438\n",
            "Iteration 132, loss = 0.69429100\n",
            "Iteration 133, loss = 0.69248893\n",
            "Iteration 134, loss = 0.68983614\n",
            "Iteration 135, loss = 0.68600402\n",
            "Iteration 136, loss = 0.68545715\n",
            "Iteration 137, loss = 0.68410695\n",
            "Iteration 138, loss = 0.68112851\n",
            "Iteration 139, loss = 0.67881269\n",
            "Iteration 140, loss = 0.67673941\n",
            "Iteration 141, loss = 0.67583763\n",
            "Iteration 142, loss = 0.67454039\n",
            "Iteration 143, loss = 0.67355499\n",
            "Iteration 144, loss = 0.66945169\n",
            "Iteration 145, loss = 0.66866238\n",
            "Iteration 146, loss = 0.66678761\n",
            "Iteration 147, loss = 0.66465302\n",
            "Iteration 148, loss = 0.66426132\n",
            "Iteration 149, loss = 0.66163234\n",
            "Iteration 150, loss = 0.65815173\n",
            "Iteration 151, loss = 0.65749440\n",
            "Iteration 152, loss = 0.65668229\n",
            "Iteration 153, loss = 0.65452749\n",
            "Iteration 154, loss = 0.65198423\n",
            "Iteration 155, loss = 0.65039908\n",
            "Iteration 156, loss = 0.64840250\n",
            "Iteration 157, loss = 0.64657384\n",
            "Iteration 158, loss = 0.64588004\n",
            "Iteration 159, loss = 0.64556145\n",
            "Iteration 160, loss = 0.64208247\n",
            "Iteration 161, loss = 0.64246013\n",
            "Iteration 162, loss = 0.63942735\n",
            "Iteration 163, loss = 0.63709900\n",
            "Iteration 164, loss = 0.63603393\n",
            "Iteration 165, loss = 0.63617351\n",
            "Iteration 166, loss = 0.63243746\n",
            "Iteration 167, loss = 0.62970163\n",
            "Iteration 168, loss = 0.62951701\n",
            "Iteration 169, loss = 0.62785631\n",
            "Iteration 170, loss = 0.62626191\n",
            "Iteration 171, loss = 0.62333695\n",
            "Iteration 172, loss = 0.62173455\n",
            "Iteration 173, loss = 0.62131653\n",
            "Iteration 174, loss = 0.61934577\n",
            "Iteration 175, loss = 0.61851154\n",
            "Iteration 176, loss = 0.61461911\n",
            "Iteration 177, loss = 0.61379448\n",
            "Iteration 178, loss = 0.61346003\n",
            "Iteration 179, loss = 0.61167980\n",
            "Iteration 180, loss = 0.60851744\n",
            "Iteration 181, loss = 0.60804381\n",
            "Iteration 182, loss = 0.60622163\n",
            "Iteration 183, loss = 0.60550761\n",
            "Iteration 184, loss = 0.60306991\n",
            "Iteration 185, loss = 0.60267527\n",
            "Iteration 186, loss = 0.60181459\n",
            "Iteration 187, loss = 0.59784419\n",
            "Iteration 188, loss = 0.59719737\n",
            "Iteration 189, loss = 0.59544882\n",
            "Iteration 190, loss = 0.59423773\n",
            "Iteration 191, loss = 0.59332743\n",
            "Iteration 192, loss = 0.59200476\n",
            "Iteration 193, loss = 0.59008640\n",
            "Iteration 194, loss = 0.58698875\n",
            "Iteration 195, loss = 0.58594563\n",
            "Iteration 196, loss = 0.58455706\n",
            "Iteration 197, loss = 0.58348967\n",
            "Iteration 198, loss = 0.58162065\n",
            "Iteration 199, loss = 0.58052911\n",
            "Iteration 200, loss = 0.57878523\n",
            "0.6465\n",
            "                precision    recall  f1-score   support\n",
            "\n",
            "ARTS & CULTURE       0.00      0.00      0.00         9\n",
            "  BLACK VOICES       0.56      0.38      0.45        95\n",
            "      BUSINESS       0.50      0.19      0.28        26\n",
            "        COMEDY       0.56      0.60      0.58        96\n",
            "         CRIME       0.41      0.29      0.34        42\n",
            "     EDUCATION       0.00      0.00      0.00         7\n",
            " ENTERTAINMENT       0.63      0.76      0.69       376\n",
            "         GREEN       0.36      0.50      0.42         8\n",
            "HEALTHY LIVING       0.29      0.14      0.19        14\n",
            "        IMPACT       0.25      0.18      0.21        17\n",
            " LATINO VOICES       0.33      0.33      0.33        18\n",
            "         MEDIA       0.50      0.42      0.46        57\n",
            "       PARENTS       0.46      0.33      0.39        18\n",
            "      POLITICS       0.76      0.84      0.80       736\n",
            "  QUEER VOICES       0.70      0.49      0.58       100\n",
            "      RELIGION       0.64      0.39      0.48        18\n",
            "       SCIENCE       0.00      0.00      0.00         5\n",
            "        SPORTS       0.67      0.59      0.63        83\n",
            "         STYLE       0.40      0.31      0.35        13\n",
            "         TASTE       0.25      0.20      0.22         5\n",
            "          TECH       0.40      0.40      0.40        10\n",
            "        TRAVEL       0.55      0.40      0.46        15\n",
            "    WEIRD NEWS       0.36      0.30      0.33        53\n",
            "         WOMEN       0.30      0.27      0.29        51\n",
            "    WORLD NEWS       0.62      0.68      0.65       128\n",
            "\n",
            "      accuracy                           0.65      2000\n",
            "     macro avg       0.42      0.36      0.38      2000\n",
            "  weighted avg       0.63      0.65      0.63      2000\n",
            "\n"
          ]
        },
        {
          "output_type": "stream",
          "name": "stderr",
          "text": [
            "/usr/local/lib/python3.7/dist-packages/sklearn/neural_network/_multilayer_perceptron.py:571: ConvergenceWarning: Stochastic Optimizer: Maximum iterations (200) reached and the optimization hasn't converged yet.\n",
            "  % self.max_iter, ConvergenceWarning)\n",
            "/usr/local/lib/python3.7/dist-packages/sklearn/metrics/_classification.py:1272: UndefinedMetricWarning: Precision and F-score are ill-defined and being set to 0.0 in labels with no predicted samples. Use `zero_division` parameter to control this behavior.\n",
            "  _warn_prf(average, modifier, msg_start, len(result))\n"
          ]
        }
      ]
    },
    {
      "cell_type": "markdown",
      "metadata": {
        "id": "kTLSmUJXxeId"
      },
      "source": [
        "**FastText + Average aggregation function**"
      ]
    },
    {
      "cell_type": "code",
      "metadata": {
        "id": "cFHh0MXGvzv2",
        "colab": {
          "base_uri": "https://localhost:8080/"
        },
        "outputId": "49ca2b63-3c5c-4c6f-f19f-e5b9e7c4e2e8"
      },
      "source": [
        "# FastText + Avg\n",
        "from nltk import word_tokenize\n",
        "import numpy as np\n",
        "list_ft_vectors = []\n",
        "for s in tqdm(list_sentences):\n",
        "    words = word_tokenize(s)\n",
        "    words_vectors = []\n",
        "    for w in words:\n",
        "        try:\n",
        "            words_vectors.append(ft_wiki_news_model[w])\n",
        "        except Exception as e:\n",
        "            #print (e)\n",
        "            continue\n",
        "    if len(words_vectors) > 0:\n",
        "        sentence_vector = np.mean(words_vectors, axis=0)\n",
        "    else:\n",
        "        sentence_vector = np.zeros(300)\n",
        "    list_ft_vectors.append(sentence_vector)"
      ],
      "execution_count": null,
      "outputs": [
        {
          "output_type": "stream",
          "name": "stderr",
          "text": [
            "100%|██████████| 10000/10000 [00:02<00:00, 3718.43it/s]\n"
          ]
        }
      ]
    },
    {
      "cell_type": "code",
      "metadata": {
        "id": "w_onM5ESwNZn",
        "colab": {
          "base_uri": "https://localhost:8080/"
        },
        "outputId": "aa4cdcb1-e33d-4c16-b989-70cbd35a779a"
      },
      "source": [
        "X_train, X_test, y_train, y_test = train_test_split(list_ft_vectors, list_labels , test_size=0.20, random_state=42)\n",
        "mlp = MLPClassifier(hidden_layer_sizes=(50), verbose=True)\n",
        "mlp = mlp.fit(X_train, y_train)\n",
        "y_pred = mlp.predict(X_test)\n",
        "\n",
        "print (accuracy_score(y_test, y_pred))\n",
        "print (classification_report(y_test, y_pred))\n",
        "\n",
        "del ft_wiki_news_model\n",
        "del ft_model\n",
        "del mlp"
      ],
      "execution_count": null,
      "outputs": [
        {
          "output_type": "stream",
          "name": "stdout",
          "text": [
            "Iteration 1, loss = 2.85711381\n",
            "Iteration 2, loss = 2.35164327\n",
            "Iteration 3, loss = 2.22868343\n",
            "Iteration 4, loss = 2.17500058\n",
            "Iteration 5, loss = 2.12023218\n",
            "Iteration 6, loss = 2.05618887\n",
            "Iteration 7, loss = 1.99015652\n",
            "Iteration 8, loss = 1.92829891\n",
            "Iteration 9, loss = 1.87167157\n",
            "Iteration 10, loss = 1.81954718\n",
            "Iteration 11, loss = 1.77421762\n",
            "Iteration 12, loss = 1.73331637\n",
            "Iteration 13, loss = 1.69815265\n",
            "Iteration 14, loss = 1.66501192\n",
            "Iteration 15, loss = 1.63535149\n",
            "Iteration 16, loss = 1.60770394\n",
            "Iteration 17, loss = 1.58048436\n",
            "Iteration 18, loss = 1.55414573\n",
            "Iteration 19, loss = 1.53018308\n",
            "Iteration 20, loss = 1.50817006\n",
            "Iteration 21, loss = 1.48693819\n",
            "Iteration 22, loss = 1.46830402\n",
            "Iteration 23, loss = 1.44964394\n",
            "Iteration 24, loss = 1.43224486\n",
            "Iteration 25, loss = 1.41655785\n",
            "Iteration 26, loss = 1.40141233\n",
            "Iteration 27, loss = 1.38631595\n",
            "Iteration 28, loss = 1.37196174\n",
            "Iteration 29, loss = 1.35864699\n",
            "Iteration 30, loss = 1.34531329\n",
            "Iteration 31, loss = 1.33331648\n",
            "Iteration 32, loss = 1.32147419\n",
            "Iteration 33, loss = 1.31023359\n",
            "Iteration 34, loss = 1.29873836\n",
            "Iteration 35, loss = 1.28869429\n",
            "Iteration 36, loss = 1.27923659\n",
            "Iteration 37, loss = 1.26856327\n",
            "Iteration 38, loss = 1.26040917\n",
            "Iteration 39, loss = 1.25067188\n",
            "Iteration 40, loss = 1.24339818\n",
            "Iteration 41, loss = 1.23334620\n",
            "Iteration 42, loss = 1.22580028\n",
            "Iteration 43, loss = 1.21685056\n",
            "Iteration 44, loss = 1.20941760\n",
            "Iteration 45, loss = 1.20181554\n",
            "Iteration 46, loss = 1.19506055\n",
            "Iteration 47, loss = 1.18705651\n",
            "Iteration 48, loss = 1.18200580\n",
            "Iteration 49, loss = 1.17409432\n",
            "Iteration 50, loss = 1.16752883\n",
            "Iteration 51, loss = 1.16190653\n",
            "Iteration 52, loss = 1.15483109\n",
            "Iteration 53, loss = 1.14897739\n",
            "Iteration 54, loss = 1.14396316\n",
            "Iteration 55, loss = 1.13822333\n",
            "Iteration 56, loss = 1.13270652\n",
            "Iteration 57, loss = 1.12732556\n",
            "Iteration 58, loss = 1.12230546\n",
            "Iteration 59, loss = 1.11843558\n",
            "Iteration 60, loss = 1.11298612\n",
            "Iteration 61, loss = 1.10847216\n",
            "Iteration 62, loss = 1.10302934\n",
            "Iteration 63, loss = 1.09801777\n",
            "Iteration 64, loss = 1.09439279\n",
            "Iteration 65, loss = 1.08904413\n",
            "Iteration 66, loss = 1.08489382\n",
            "Iteration 67, loss = 1.08197303\n",
            "Iteration 68, loss = 1.07786637\n",
            "Iteration 69, loss = 1.07249697\n",
            "Iteration 70, loss = 1.06933836\n",
            "Iteration 71, loss = 1.06471275\n",
            "Iteration 72, loss = 1.06087890\n",
            "Iteration 73, loss = 1.05796020\n",
            "Iteration 74, loss = 1.05516235\n",
            "Iteration 75, loss = 1.05056350\n",
            "Iteration 76, loss = 1.04653730\n",
            "Iteration 77, loss = 1.04343835\n",
            "Iteration 78, loss = 1.03907238\n",
            "Iteration 79, loss = 1.03779470\n",
            "Iteration 80, loss = 1.03383097\n",
            "Iteration 81, loss = 1.02991490\n",
            "Iteration 82, loss = 1.02677648\n",
            "Iteration 83, loss = 1.02364269\n",
            "Iteration 84, loss = 1.01943420\n",
            "Iteration 85, loss = 1.01889773\n",
            "Iteration 86, loss = 1.01351989\n",
            "Iteration 87, loss = 1.01006472\n",
            "Iteration 88, loss = 1.00693621\n",
            "Iteration 89, loss = 1.00452222\n",
            "Iteration 90, loss = 1.00158008\n",
            "Iteration 91, loss = 0.99950883\n",
            "Iteration 92, loss = 0.99631426\n",
            "Iteration 93, loss = 0.99269107\n",
            "Iteration 94, loss = 0.98983241\n",
            "Iteration 95, loss = 0.98849480\n",
            "Iteration 96, loss = 0.98569518\n",
            "Iteration 97, loss = 0.98240348\n",
            "Iteration 98, loss = 0.97995369\n",
            "Iteration 99, loss = 0.97701317\n",
            "Iteration 100, loss = 0.97414485\n",
            "Iteration 101, loss = 0.97169554\n",
            "Iteration 102, loss = 0.96995263\n",
            "Iteration 103, loss = 0.96697360\n",
            "Iteration 104, loss = 0.96445926\n",
            "Iteration 105, loss = 0.96210595\n",
            "Iteration 106, loss = 0.96198595\n",
            "Iteration 107, loss = 0.95824145\n",
            "Iteration 108, loss = 0.95460729\n",
            "Iteration 109, loss = 0.95284738\n",
            "Iteration 110, loss = 0.95152292\n",
            "Iteration 111, loss = 0.94889179\n",
            "Iteration 112, loss = 0.94647859\n",
            "Iteration 113, loss = 0.94491760\n",
            "Iteration 114, loss = 0.94261281\n",
            "Iteration 115, loss = 0.93927883\n",
            "Iteration 116, loss = 0.93763649\n",
            "Iteration 117, loss = 0.93541164\n",
            "Iteration 118, loss = 0.93342910\n",
            "Iteration 119, loss = 0.93127854\n",
            "Iteration 120, loss = 0.92944986\n",
            "Iteration 121, loss = 0.92849594\n",
            "Iteration 122, loss = 0.92646429\n",
            "Iteration 123, loss = 0.92323117\n",
            "Iteration 124, loss = 0.92259675\n",
            "Iteration 125, loss = 0.91907655\n",
            "Iteration 126, loss = 0.91788339\n",
            "Iteration 127, loss = 0.91490777\n",
            "Iteration 128, loss = 0.91535889\n",
            "Iteration 129, loss = 0.91187791\n",
            "Iteration 130, loss = 0.91097119\n",
            "Iteration 131, loss = 0.90823517\n",
            "Iteration 132, loss = 0.90774069\n",
            "Iteration 133, loss = 0.90528752\n",
            "Iteration 134, loss = 0.90373792\n",
            "Iteration 135, loss = 0.90152608\n",
            "Iteration 136, loss = 0.89957709\n",
            "Iteration 137, loss = 0.89824024\n",
            "Iteration 138, loss = 0.89746746\n",
            "Iteration 139, loss = 0.89534610\n",
            "Iteration 140, loss = 0.89316243\n",
            "Iteration 141, loss = 0.89184391\n",
            "Iteration 142, loss = 0.88962932\n",
            "Iteration 143, loss = 0.88754992\n",
            "Iteration 144, loss = 0.88702403\n",
            "Iteration 145, loss = 0.88608030\n",
            "Iteration 146, loss = 0.88367339\n",
            "Iteration 147, loss = 0.88161749\n",
            "Iteration 148, loss = 0.88028594\n",
            "Iteration 149, loss = 0.87935443\n",
            "Iteration 150, loss = 0.87679646\n",
            "Iteration 151, loss = 0.87585583\n",
            "Iteration 152, loss = 0.87411681\n",
            "Iteration 153, loss = 0.87304323\n",
            "Iteration 154, loss = 0.87238657\n",
            "Iteration 155, loss = 0.87014650\n",
            "Iteration 156, loss = 0.86974737\n",
            "Iteration 157, loss = 0.86742006\n",
            "Iteration 158, loss = 0.86549955\n",
            "Iteration 159, loss = 0.86369666\n",
            "Iteration 160, loss = 0.86226068\n",
            "Iteration 161, loss = 0.86039299\n",
            "Iteration 162, loss = 0.85964530\n",
            "Iteration 163, loss = 0.85830031\n",
            "Iteration 164, loss = 0.85653528\n",
            "Iteration 165, loss = 0.85660565\n",
            "Iteration 166, loss = 0.85488350\n",
            "Iteration 167, loss = 0.85348530\n",
            "Iteration 168, loss = 0.85191344\n",
            "Iteration 169, loss = 0.85100392\n",
            "Iteration 170, loss = 0.84947500\n",
            "Iteration 171, loss = 0.84768055\n",
            "Iteration 172, loss = 0.84671562\n",
            "Iteration 173, loss = 0.84592676\n",
            "Iteration 174, loss = 0.84490577\n",
            "Iteration 175, loss = 0.84256542\n",
            "Iteration 176, loss = 0.84119709\n",
            "Iteration 177, loss = 0.84146476\n",
            "Iteration 178, loss = 0.83870683\n",
            "Iteration 179, loss = 0.83804678\n",
            "Iteration 180, loss = 0.83643891\n",
            "Iteration 181, loss = 0.83627374\n",
            "Iteration 182, loss = 0.83489671\n",
            "Iteration 183, loss = 0.83400306\n",
            "Iteration 184, loss = 0.83131553\n",
            "Iteration 185, loss = 0.82991729\n",
            "Iteration 186, loss = 0.82866391\n",
            "Iteration 187, loss = 0.82882108\n",
            "Iteration 188, loss = 0.82712668\n",
            "Iteration 189, loss = 0.82573602\n",
            "Iteration 190, loss = 0.82521131\n",
            "Iteration 191, loss = 0.82424926\n",
            "Iteration 192, loss = 0.82227966\n",
            "Iteration 193, loss = 0.82051845\n",
            "Iteration 194, loss = 0.82134329\n",
            "Iteration 195, loss = 0.81864589\n",
            "Iteration 196, loss = 0.81770624\n",
            "Iteration 197, loss = 0.81664558\n",
            "Iteration 198, loss = 0.81619671\n",
            "Iteration 199, loss = 0.81452862\n",
            "Iteration 200, loss = 0.81427067\n",
            "0.6465\n",
            "                precision    recall  f1-score   support\n",
            "\n",
            "ARTS & CULTURE       0.00      0.00      0.00         9\n",
            "  BLACK VOICES       0.53      0.41      0.46        95\n",
            "      BUSINESS       0.50      0.12      0.19        26\n",
            "        COMEDY       0.61      0.50      0.55        96\n",
            "         CRIME       0.43      0.31      0.36        42\n",
            "     EDUCATION       0.33      0.14      0.20         7\n",
            " ENTERTAINMENT       0.64      0.77      0.70       376\n",
            "         GREEN       0.43      0.38      0.40         8\n",
            "HEALTHY LIVING       0.33      0.14      0.20        14\n",
            "        IMPACT       0.18      0.12      0.14        17\n",
            " LATINO VOICES       0.50      0.39      0.44        18\n",
            "         MEDIA       0.49      0.39      0.43        57\n",
            "       PARENTS       0.29      0.11      0.16        18\n",
            "      POLITICS       0.73      0.86      0.79       736\n",
            "  QUEER VOICES       0.62      0.60      0.61       100\n",
            "      RELIGION       0.38      0.17      0.23        18\n",
            "       SCIENCE       0.17      0.20      0.18         5\n",
            "        SPORTS       0.70      0.53      0.60        83\n",
            "         STYLE       0.00      0.00      0.00        13\n",
            "         TASTE       0.50      0.20      0.29         5\n",
            "          TECH       0.50      0.30      0.37        10\n",
            "        TRAVEL       0.57      0.53      0.55        15\n",
            "    WEIRD NEWS       0.40      0.32      0.35        53\n",
            "         WOMEN       0.42      0.31      0.36        51\n",
            "    WORLD NEWS       0.65      0.59      0.62       128\n",
            "\n",
            "      accuracy                           0.65      2000\n",
            "     macro avg       0.44      0.34      0.37      2000\n",
            "  weighted avg       0.62      0.65      0.63      2000\n",
            "\n"
          ]
        },
        {
          "output_type": "stream",
          "name": "stderr",
          "text": [
            "/usr/local/lib/python3.7/dist-packages/sklearn/neural_network/_multilayer_perceptron.py:571: ConvergenceWarning: Stochastic Optimizer: Maximum iterations (200) reached and the optimization hasn't converged yet.\n",
            "  % self.max_iter, ConvergenceWarning)\n",
            "/usr/local/lib/python3.7/dist-packages/sklearn/metrics/_classification.py:1272: UndefinedMetricWarning: Precision and F-score are ill-defined and being set to 0.0 in labels with no predicted samples. Use `zero_division` parameter to control this behavior.\n",
            "  _warn_prf(average, modifier, msg_start, len(result))\n"
          ]
        }
      ]
    },
    {
      "cell_type": "markdown",
      "metadata": {
        "id": "mBjSrAx9xrON"
      },
      "source": [
        "**Doc2Vec (Text8)**"
      ]
    },
    {
      "cell_type": "code",
      "metadata": {
        "id": "iZM2QZA5x9ET",
        "colab": {
          "base_uri": "https://localhost:8080/"
        },
        "outputId": "236307f2-a2bf-4e28-9767-979f4a3ab066"
      },
      "source": [
        "# Doc2Vec\n",
        "from nltk import word_tokenize\n",
        "import numpy as np\n",
        "list_d2v_vectors = []\n",
        "for s in tqdm(list_sentences):\n",
        "    words = word_tokenize(s)\n",
        "    try:\n",
        "        sentence_vector = d2v_model.infer_vector(words)\n",
        "    except Exception as e:\n",
        "        print (e)\n",
        "        sentence_vector = np.zeros(300)\n",
        "\n",
        "    list_d2v_vectors.append(sentence_vector)"
      ],
      "execution_count": null,
      "outputs": [
        {
          "output_type": "stream",
          "name": "stderr",
          "text": [
            "100%|██████████| 10000/10000 [00:08<00:00, 1215.53it/s]\n"
          ]
        }
      ]
    },
    {
      "cell_type": "code",
      "metadata": {
        "id": "V3ROci0Kyqr3",
        "colab": {
          "base_uri": "https://localhost:8080/"
        },
        "outputId": "c9f57d18-6020-4f06-a5d2-00d6129dacd6"
      },
      "source": [
        "X_train, X_test, y_train, y_test = train_test_split(list_d2v_vectors, list_labels , test_size=0.20, random_state=42)\n",
        "mlp = MLPClassifier(hidden_layer_sizes=(50), verbose=True)\n",
        "mlp = mlp.fit(X_train, y_train)\n",
        "y_pred = mlp.predict(X_test)\n",
        "\n",
        "print (accuracy_score(y_test, y_pred))\n",
        "print (classification_report(y_test, y_pred))\n",
        "\n",
        "del d2v_model\n",
        "del mlp"
      ],
      "execution_count": null,
      "outputs": [
        {
          "output_type": "stream",
          "name": "stdout",
          "text": [
            "Iteration 1, loss = 3.13347502\n",
            "Iteration 2, loss = 2.95704716\n",
            "Iteration 3, loss = 2.73036703\n",
            "Iteration 4, loss = 2.50486370\n",
            "Iteration 5, loss = 2.35256679\n",
            "Iteration 6, loss = 2.29926926\n",
            "Iteration 7, loss = 2.28509586\n",
            "Iteration 8, loss = 2.27945792\n",
            "Iteration 9, loss = 2.27650970\n",
            "Iteration 10, loss = 2.27455119\n",
            "Iteration 11, loss = 2.27338032\n",
            "Iteration 12, loss = 2.27254641\n",
            "Iteration 13, loss = 2.27179921\n",
            "Iteration 14, loss = 2.27124185\n",
            "Iteration 15, loss = 2.27073448\n",
            "Iteration 16, loss = 2.27049389\n",
            "Iteration 17, loss = 2.27015898\n",
            "Iteration 18, loss = 2.26962910\n",
            "Iteration 19, loss = 2.26931528\n",
            "Iteration 20, loss = 2.26892134\n",
            "Iteration 21, loss = 2.26855641\n",
            "Iteration 22, loss = 2.26821958\n",
            "Iteration 23, loss = 2.26805619\n",
            "Iteration 24, loss = 2.26762986\n",
            "Iteration 25, loss = 2.26736766\n",
            "Iteration 26, loss = 2.26742864\n",
            "Iteration 27, loss = 2.26681383\n",
            "Iteration 28, loss = 2.26650271\n",
            "Iteration 29, loss = 2.26644954\n",
            "Iteration 30, loss = 2.26617871\n",
            "Iteration 31, loss = 2.26576581\n",
            "Iteration 32, loss = 2.26549724\n",
            "Iteration 33, loss = 2.26517312\n",
            "Iteration 34, loss = 2.26486169\n",
            "Iteration 35, loss = 2.26456774\n",
            "Iteration 36, loss = 2.26449123\n",
            "Iteration 37, loss = 2.26417238\n",
            "Iteration 38, loss = 2.26377995\n",
            "Iteration 39, loss = 2.26352755\n",
            "Iteration 40, loss = 2.26355365\n",
            "Iteration 41, loss = 2.26296901\n",
            "Iteration 42, loss = 2.26284912\n",
            "Iteration 43, loss = 2.26294535\n",
            "Iteration 44, loss = 2.26241180\n",
            "Iteration 45, loss = 2.26220220\n",
            "Iteration 46, loss = 2.26186755\n",
            "Iteration 47, loss = 2.26168372\n",
            "Iteration 48, loss = 2.26147676\n",
            "Iteration 49, loss = 2.26108238\n",
            "Iteration 50, loss = 2.26064178\n",
            "Iteration 51, loss = 2.26054801\n",
            "Iteration 52, loss = 2.26025458\n",
            "Iteration 53, loss = 2.26005786\n",
            "Iteration 54, loss = 2.25978880\n",
            "Iteration 55, loss = 2.25949431\n",
            "Iteration 56, loss = 2.25921446\n",
            "Iteration 57, loss = 2.25869586\n",
            "Iteration 58, loss = 2.25848661\n",
            "Iteration 59, loss = 2.25859453\n",
            "Iteration 60, loss = 2.25795842\n",
            "Iteration 61, loss = 2.25775125\n",
            "Iteration 62, loss = 2.25734724\n",
            "Iteration 63, loss = 2.25744078\n",
            "Iteration 64, loss = 2.25678828\n",
            "Iteration 65, loss = 2.25663774\n",
            "Iteration 66, loss = 2.25607482\n",
            "Iteration 67, loss = 2.25596401\n",
            "Iteration 68, loss = 2.25570579\n",
            "Iteration 69, loss = 2.25550095\n",
            "Iteration 70, loss = 2.25537191\n",
            "Iteration 71, loss = 2.25483794\n",
            "Iteration 72, loss = 2.25465567\n",
            "Iteration 73, loss = 2.25429094\n",
            "Iteration 74, loss = 2.25395488\n",
            "Iteration 75, loss = 2.25369622\n",
            "Iteration 76, loss = 2.25327966\n",
            "Iteration 77, loss = 2.25304452\n",
            "Iteration 78, loss = 2.25272590\n",
            "Iteration 79, loss = 2.25254326\n",
            "Iteration 80, loss = 2.25208430\n",
            "Iteration 81, loss = 2.25168237\n",
            "Iteration 82, loss = 2.25144050\n",
            "Iteration 83, loss = 2.25107978\n",
            "Iteration 84, loss = 2.25082629\n",
            "Iteration 85, loss = 2.25039569\n",
            "Iteration 86, loss = 2.25001488\n",
            "Iteration 87, loss = 2.24988974\n",
            "Iteration 88, loss = 2.24957605\n",
            "Iteration 89, loss = 2.24920578\n",
            "Iteration 90, loss = 2.24894085\n",
            "Iteration 91, loss = 2.24863021\n",
            "Iteration 92, loss = 2.24815665\n",
            "Iteration 93, loss = 2.24772229\n",
            "Iteration 94, loss = 2.24756613\n",
            "Iteration 95, loss = 2.24737501\n",
            "Iteration 96, loss = 2.24688189\n",
            "Iteration 97, loss = 2.24660280\n",
            "Iteration 98, loss = 2.24622734\n",
            "Iteration 99, loss = 2.24572091\n",
            "Iteration 100, loss = 2.24577404\n",
            "Iteration 101, loss = 2.24547064\n",
            "Iteration 102, loss = 2.24499671\n",
            "Iteration 103, loss = 2.24468041\n",
            "Iteration 104, loss = 2.24427545\n",
            "Iteration 105, loss = 2.24375049\n",
            "Iteration 106, loss = 2.24364928\n",
            "Iteration 107, loss = 2.24332645\n",
            "Iteration 108, loss = 2.24289404\n",
            "Iteration 109, loss = 2.24251522\n",
            "Iteration 110, loss = 2.24211773\n",
            "Iteration 111, loss = 2.24201730\n",
            "Iteration 112, loss = 2.24187184\n",
            "Iteration 113, loss = 2.24127847\n",
            "Iteration 114, loss = 2.24089211\n",
            "Iteration 115, loss = 2.24072720\n",
            "Iteration 116, loss = 2.24035233\n",
            "Iteration 117, loss = 2.23991738\n",
            "Iteration 118, loss = 2.23972131\n",
            "Iteration 119, loss = 2.23898253\n",
            "Iteration 120, loss = 2.23918396\n",
            "Iteration 121, loss = 2.23849530\n",
            "Iteration 122, loss = 2.23829825\n",
            "Iteration 123, loss = 2.23805085\n",
            "Iteration 124, loss = 2.23768772\n",
            "Iteration 125, loss = 2.23709753\n",
            "Iteration 126, loss = 2.23712610\n",
            "Iteration 127, loss = 2.23681283\n",
            "Iteration 128, loss = 2.23657198\n",
            "Iteration 129, loss = 2.23564355\n",
            "Iteration 130, loss = 2.23547069\n",
            "Iteration 131, loss = 2.23547389\n",
            "Iteration 132, loss = 2.23474411\n",
            "Iteration 133, loss = 2.23479141\n",
            "Iteration 134, loss = 2.23405873\n",
            "Iteration 135, loss = 2.23387209\n",
            "Iteration 136, loss = 2.23358330\n",
            "Iteration 137, loss = 2.23302910\n",
            "Iteration 138, loss = 2.23308291\n",
            "Iteration 139, loss = 2.23269717\n",
            "Iteration 140, loss = 2.23296474\n",
            "Iteration 141, loss = 2.23225259\n",
            "Iteration 142, loss = 2.23166936\n",
            "Iteration 143, loss = 2.23207790\n",
            "Iteration 144, loss = 2.23122633\n",
            "Iteration 145, loss = 2.23106409\n",
            "Iteration 146, loss = 2.23037946\n",
            "Iteration 147, loss = 2.22981609\n",
            "Iteration 148, loss = 2.22988657\n",
            "Iteration 149, loss = 2.22932887\n",
            "Iteration 150, loss = 2.22959686\n",
            "Iteration 151, loss = 2.22917593\n",
            "Iteration 152, loss = 2.22901296\n",
            "Iteration 153, loss = 2.22873066\n",
            "Iteration 154, loss = 2.22745448\n",
            "Iteration 155, loss = 2.22756259\n",
            "Iteration 156, loss = 2.22761231\n",
            "Iteration 157, loss = 2.22731283\n",
            "Iteration 158, loss = 2.22660738\n",
            "Iteration 159, loss = 2.22612954\n",
            "Iteration 160, loss = 2.22564822\n",
            "Iteration 161, loss = 2.22552204\n",
            "Iteration 162, loss = 2.22516552\n",
            "Iteration 163, loss = 2.22506132\n",
            "Iteration 164, loss = 2.22418222\n",
            "Iteration 165, loss = 2.22426327\n",
            "Iteration 166, loss = 2.22391633\n",
            "Iteration 167, loss = 2.22349994\n",
            "Iteration 168, loss = 2.22306247\n",
            "Iteration 169, loss = 2.22282331\n",
            "Iteration 170, loss = 2.22277204\n",
            "Iteration 171, loss = 2.22234675\n",
            "Iteration 172, loss = 2.22202358\n",
            "Iteration 173, loss = 2.22152431\n",
            "Iteration 174, loss = 2.22145356\n",
            "Iteration 175, loss = 2.22130264\n",
            "Iteration 176, loss = 2.22097501\n",
            "Iteration 177, loss = 2.22037033\n",
            "Iteration 178, loss = 2.22008324\n",
            "Iteration 179, loss = 2.21972789\n",
            "Iteration 180, loss = 2.21975010\n",
            "Iteration 181, loss = 2.21934659\n",
            "Iteration 182, loss = 2.21891807\n",
            "Iteration 183, loss = 2.21851694\n",
            "Iteration 184, loss = 2.21827865\n",
            "Iteration 185, loss = 2.21815731\n",
            "Iteration 186, loss = 2.21762443\n",
            "Iteration 187, loss = 2.21743604\n",
            "Iteration 188, loss = 2.21695731\n",
            "Iteration 189, loss = 2.21681857\n",
            "Iteration 190, loss = 2.21679365\n",
            "Iteration 191, loss = 2.21587756\n",
            "Iteration 192, loss = 2.21581071\n",
            "Iteration 193, loss = 2.21543041\n",
            "Iteration 194, loss = 2.21563194\n",
            "Iteration 195, loss = 2.21512425\n",
            "Iteration 196, loss = 2.21446013\n",
            "Iteration 197, loss = 2.21450401\n",
            "Iteration 198, loss = 2.21388880\n",
            "Iteration 199, loss = 2.21401875\n",
            "Iteration 200, loss = 2.21312551\n",
            "0.3655\n",
            "                precision    recall  f1-score   support\n",
            "\n",
            "ARTS & CULTURE       0.00      0.00      0.00         9\n",
            "  BLACK VOICES       0.00      0.00      0.00        95\n",
            "      BUSINESS       0.00      0.00      0.00        26\n",
            "        COMEDY       0.00      0.00      0.00        96\n",
            "         CRIME       0.00      0.00      0.00        42\n",
            "     EDUCATION       0.00      0.00      0.00         7\n",
            " ENTERTAINMENT       0.22      0.02      0.04       376\n",
            "         GREEN       0.00      0.00      0.00         8\n",
            "HEALTHY LIVING       0.00      0.00      0.00        14\n",
            "        IMPACT       0.00      0.00      0.00        17\n",
            " LATINO VOICES       0.00      0.00      0.00        18\n",
            "         MEDIA       0.00      0.00      0.00        57\n",
            "       PARENTS       0.00      0.00      0.00        18\n",
            "      POLITICS       0.37      0.98      0.54       736\n",
            "  QUEER VOICES       0.00      0.00      0.00       100\n",
            "      RELIGION       0.00      0.00      0.00        18\n",
            "       SCIENCE       0.00      0.00      0.00         5\n",
            "        SPORTS       0.00      0.00      0.00        83\n",
            "         STYLE       0.00      0.00      0.00        13\n",
            "         TASTE       0.00      0.00      0.00         5\n",
            "          TECH       0.00      0.00      0.00        10\n",
            "        TRAVEL       0.00      0.00      0.00        15\n",
            "    WEIRD NEWS       0.00      0.00      0.00        53\n",
            "         WOMEN       1.00      0.02      0.04        51\n",
            "    WORLD NEWS       0.00      0.00      0.00       128\n",
            "\n",
            "      accuracy                           0.37      2000\n",
            "     macro avg       0.06      0.04      0.02      2000\n",
            "  weighted avg       0.20      0.37      0.21      2000\n",
            "\n"
          ]
        },
        {
          "output_type": "stream",
          "name": "stderr",
          "text": [
            "/usr/local/lib/python3.7/dist-packages/sklearn/neural_network/_multilayer_perceptron.py:571: ConvergenceWarning: Stochastic Optimizer: Maximum iterations (200) reached and the optimization hasn't converged yet.\n",
            "  % self.max_iter, ConvergenceWarning)\n",
            "/usr/local/lib/python3.7/dist-packages/sklearn/metrics/_classification.py:1272: UndefinedMetricWarning: Precision and F-score are ill-defined and being set to 0.0 in labels with no predicted samples. Use `zero_division` parameter to control this behavior.\n",
            "  _warn_prf(average, modifier, msg_start, len(result))\n"
          ]
        }
      ]
    },
    {
      "cell_type": "markdown",
      "metadata": {
        "id": "t7DkgKMcxrIy"
      },
      "source": [
        "**InferSent**"
      ]
    },
    {
      "cell_type": "code",
      "metadata": {
        "id": "JCIQ1EEUYEwk"
      },
      "source": [
        "%%capture\n",
        "# InferSent download required files\n",
        "\n",
        "! mkdir fastText\n",
        "! curl -Lo fastText/crawl-300d-2M.vec.zip https://dl.fbaipublicfiles.com/fasttext/vectors-english/crawl-300d-2M.vec.zip\n",
        "! unzip fastText/crawl-300d-2M.vec.zip -d fastText/\n",
        "! mkdir encoder\n",
        "! curl -Lo encoder/infersent2.pkl https://dl.fbaipublicfiles.com/infersent/infersent2.pkl\n",
        "! git clone https://github.com/facebookresearch/InferSent.git"
      ],
      "execution_count": null,
      "outputs": []
    },
    {
      "cell_type": "code",
      "metadata": {
        "id": "QmtxnnC0Y9Cb"
      },
      "source": [
        "from InferSent.models import InferSent\n",
        "import torch\n",
        "V = 2\n",
        "MODEL_PATH = 'encoder/infersent%s.pkl' % V\n",
        "params_model = {'bsize': 64, 'word_emb_dim': 300, 'enc_lstm_dim': 2048,\n",
        "                'pool_type': 'max', 'dpout_model': 0.0, 'version': V}\n",
        "infersent = InferSent(params_model)\n",
        "infersent.load_state_dict(torch.load(MODEL_PATH))\n",
        "\n",
        "W2V_PATH = 'fastText/crawl-300d-2M.vec'\n",
        "infersent.set_w2v_path(W2V_PATH)"
      ],
      "execution_count": null,
      "outputs": []
    },
    {
      "cell_type": "code",
      "metadata": {
        "colab": {
          "base_uri": "https://localhost:8080/"
        },
        "id": "D6Pp5_doFcZs",
        "outputId": "1cdb8760-7965-4444-de29-42c4dc04004e"
      },
      "source": [
        "infersent.build_vocab(list_sentences, tokenize=True)"
      ],
      "execution_count": null,
      "outputs": [
        {
          "output_type": "stream",
          "name": "stdout",
          "text": [
            "Found 13627(/15255) words with w2v vectors\n",
            "Vocab size : 13627\n"
          ]
        }
      ]
    },
    {
      "cell_type": "code",
      "metadata": {
        "id": "M8RfB2NqrsCi",
        "colab": {
          "base_uri": "https://localhost:8080/"
        },
        "outputId": "fab4bb30-edfc-40ea-fb04-a8f55ab056f5"
      },
      "source": [
        "# InferSent\n",
        "from nltk import word_tokenize\n",
        "import numpy as np\n",
        "infersent_embeddings = infersent.encode(list_sentences, tokenize=True)"
      ],
      "execution_count": null,
      "outputs": [
        {
          "output_type": "stream",
          "name": "stderr",
          "text": [
            "/content/InferSent/models.py:207: VisibleDeprecationWarning: Creating an ndarray from ragged nested sequences (which is a list-or-tuple of lists-or-tuples-or ndarrays with different lengths or shapes) is deprecated. If you meant to do this, you must specify 'dtype=object' when creating the ndarray\n",
            "  sentences = np.array(sentences)[idx_sort]\n"
          ]
        }
      ]
    },
    {
      "cell_type": "code",
      "metadata": {
        "id": "7Jur0kGYvMZr",
        "colab": {
          "base_uri": "https://localhost:8080/"
        },
        "outputId": "13a6e932-6eee-4a40-958d-cc83841ac84d"
      },
      "source": [
        "X_train, X_test, y_train, y_test = train_test_split(infersent_embeddings, list_labels , test_size=0.20, random_state=42)\n",
        "mlp = MLPClassifier(hidden_layer_sizes=(50), verbose=True)\n",
        "mlp = mlp.fit(X_train, y_train)\n",
        "y_pred = mlp.predict(X_test)\n",
        "print (accuracy_score(y_test, y_pred))\n",
        "print (classification_report(y_test, y_pred))"
      ],
      "execution_count": null,
      "outputs": [
        {
          "output_type": "stream",
          "name": "stdout",
          "text": [
            "Iteration 1, loss = 2.40991633\n",
            "Iteration 2, loss = 1.88529433\n",
            "Iteration 3, loss = 1.69703724\n",
            "Iteration 4, loss = 1.56397961\n",
            "Iteration 5, loss = 1.45397494\n",
            "Iteration 6, loss = 1.36370284\n",
            "Iteration 7, loss = 1.28759151\n",
            "Iteration 8, loss = 1.21961230\n",
            "Iteration 9, loss = 1.16347353\n",
            "Iteration 10, loss = 1.11345247\n",
            "Iteration 11, loss = 1.07126255\n",
            "Iteration 12, loss = 1.03145725\n",
            "Iteration 13, loss = 0.99523648\n",
            "Iteration 14, loss = 0.95960877\n",
            "Iteration 15, loss = 0.92698344\n",
            "Iteration 16, loss = 0.89842346\n",
            "Iteration 17, loss = 0.87003258\n",
            "Iteration 18, loss = 0.84503250\n",
            "Iteration 19, loss = 0.81904346\n",
            "Iteration 20, loss = 0.79222011\n",
            "Iteration 21, loss = 0.77111216\n",
            "Iteration 22, loss = 0.74666715\n",
            "Iteration 23, loss = 0.72639160\n",
            "Iteration 24, loss = 0.70594812\n",
            "Iteration 25, loss = 0.68487796\n",
            "Iteration 26, loss = 0.66943699\n",
            "Iteration 27, loss = 0.64619767\n",
            "Iteration 28, loss = 0.62806498\n",
            "Iteration 29, loss = 0.61124729\n",
            "Iteration 30, loss = 0.59640576\n",
            "Iteration 31, loss = 0.57804956\n",
            "Iteration 32, loss = 0.56320698\n",
            "Iteration 33, loss = 0.54611495\n",
            "Iteration 34, loss = 0.53382357\n",
            "Iteration 35, loss = 0.51990521\n",
            "Iteration 36, loss = 0.50533286\n",
            "Iteration 37, loss = 0.48710562\n",
            "Iteration 38, loss = 0.47410025\n",
            "Iteration 39, loss = 0.46039855\n",
            "Iteration 40, loss = 0.44747266\n",
            "Iteration 41, loss = 0.43554281\n",
            "Iteration 42, loss = 0.42606891\n",
            "Iteration 43, loss = 0.41052381\n",
            "Iteration 44, loss = 0.39939955\n",
            "Iteration 45, loss = 0.38793863\n",
            "Iteration 46, loss = 0.37557850\n",
            "Iteration 47, loss = 0.36420142\n",
            "Iteration 48, loss = 0.35447221\n",
            "Iteration 49, loss = 0.34115756\n",
            "Iteration 50, loss = 0.33165590\n",
            "Iteration 51, loss = 0.32283787\n",
            "Iteration 52, loss = 0.31254578\n",
            "Iteration 53, loss = 0.30211679\n",
            "Iteration 54, loss = 0.29245017\n",
            "Iteration 55, loss = 0.28328218\n",
            "Iteration 56, loss = 0.27526512\n",
            "Iteration 57, loss = 0.26643825\n",
            "Iteration 58, loss = 0.25815027\n",
            "Iteration 59, loss = 0.24965734\n",
            "Iteration 60, loss = 0.24093455\n",
            "Iteration 61, loss = 0.23325368\n",
            "Iteration 62, loss = 0.22623826\n",
            "Iteration 63, loss = 0.21851372\n",
            "Iteration 64, loss = 0.21110432\n",
            "Iteration 65, loss = 0.20480525\n",
            "Iteration 66, loss = 0.19700892\n",
            "Iteration 67, loss = 0.19024803\n",
            "Iteration 68, loss = 0.18449791\n",
            "Iteration 69, loss = 0.17911683\n",
            "Iteration 70, loss = 0.17172705\n",
            "Iteration 71, loss = 0.16636508\n",
            "Iteration 72, loss = 0.16240080\n",
            "Iteration 73, loss = 0.15473509\n",
            "Iteration 74, loss = 0.15103313\n",
            "Iteration 75, loss = 0.14551897\n",
            "Iteration 76, loss = 0.13998111\n",
            "Iteration 77, loss = 0.13589409\n",
            "Iteration 78, loss = 0.13048008\n",
            "Iteration 79, loss = 0.12592227\n",
            "Iteration 80, loss = 0.12212876\n",
            "Iteration 81, loss = 0.11815297\n",
            "Iteration 82, loss = 0.11415297\n",
            "Iteration 83, loss = 0.10978969\n",
            "Iteration 84, loss = 0.10662617\n",
            "Iteration 85, loss = 0.10397556\n",
            "Iteration 86, loss = 0.09923468\n",
            "Iteration 87, loss = 0.09567764\n",
            "Iteration 88, loss = 0.09271642\n",
            "Iteration 89, loss = 0.08987152\n",
            "Iteration 90, loss = 0.08705386\n",
            "Iteration 91, loss = 0.08384296\n",
            "Iteration 92, loss = 0.08133448\n",
            "Iteration 93, loss = 0.07904952\n",
            "Iteration 94, loss = 0.07610468\n",
            "Iteration 95, loss = 0.07327855\n",
            "Iteration 96, loss = 0.07151262\n",
            "Iteration 97, loss = 0.06906073\n",
            "Iteration 98, loss = 0.06664175\n",
            "Iteration 99, loss = 0.06451311\n",
            "Iteration 100, loss = 0.06287349\n",
            "Iteration 101, loss = 0.06112701\n",
            "Iteration 102, loss = 0.05891642\n",
            "Iteration 103, loss = 0.05712349\n",
            "Iteration 104, loss = 0.05547769\n",
            "Iteration 105, loss = 0.05368798\n",
            "Iteration 106, loss = 0.05211037\n",
            "Iteration 107, loss = 0.05065182\n",
            "Iteration 108, loss = 0.04948752\n",
            "Iteration 109, loss = 0.04811523\n",
            "Iteration 110, loss = 0.04614035\n",
            "Iteration 111, loss = 0.04494328\n",
            "Iteration 112, loss = 0.04377230\n",
            "Iteration 113, loss = 0.04231630\n",
            "Iteration 114, loss = 0.04099677\n",
            "Iteration 115, loss = 0.03997865\n",
            "Iteration 116, loss = 0.03901945\n",
            "Iteration 117, loss = 0.03813137\n",
            "Iteration 118, loss = 0.03674818\n",
            "Iteration 119, loss = 0.03577141\n",
            "Iteration 120, loss = 0.03501541\n",
            "Iteration 121, loss = 0.03357288\n",
            "Iteration 122, loss = 0.03299034\n",
            "Iteration 123, loss = 0.03210036\n",
            "Iteration 124, loss = 0.03066030\n",
            "Iteration 125, loss = 0.02985059\n",
            "Iteration 126, loss = 0.02916474\n",
            "Iteration 127, loss = 0.02838874\n",
            "Iteration 128, loss = 0.02767426\n",
            "Iteration 129, loss = 0.02680348\n",
            "Iteration 130, loss = 0.02595632\n",
            "Iteration 131, loss = 0.02558057\n",
            "Iteration 132, loss = 0.02478898\n",
            "Iteration 133, loss = 0.02418895\n",
            "Iteration 134, loss = 0.02356306\n",
            "Iteration 135, loss = 0.02293700\n",
            "Iteration 136, loss = 0.02241353\n",
            "Iteration 137, loss = 0.02183112\n",
            "Iteration 138, loss = 0.02132673\n",
            "Iteration 139, loss = 0.02083445\n",
            "Iteration 140, loss = 0.02034163\n",
            "Iteration 141, loss = 0.01984505\n",
            "Iteration 142, loss = 0.01925916\n",
            "Iteration 143, loss = 0.01871470\n",
            "Iteration 144, loss = 0.01832358\n",
            "Iteration 145, loss = 0.01788820\n",
            "Iteration 146, loss = 0.01732162\n",
            "Iteration 147, loss = 0.01692819\n",
            "Iteration 148, loss = 0.01653302\n",
            "Iteration 149, loss = 0.01617346\n",
            "Iteration 150, loss = 0.01574302\n",
            "Iteration 151, loss = 0.01547706\n",
            "Iteration 152, loss = 0.01507104\n",
            "Iteration 153, loss = 0.01495188\n",
            "Iteration 154, loss = 0.01445983\n",
            "Iteration 155, loss = 0.01401845\n",
            "Iteration 156, loss = 0.01372234\n",
            "Iteration 157, loss = 0.01346490\n",
            "Iteration 158, loss = 0.01321389\n",
            "Iteration 159, loss = 0.01289697\n",
            "Iteration 160, loss = 0.01261150\n",
            "Iteration 161, loss = 0.01237240\n",
            "Iteration 162, loss = 0.01213550\n",
            "Iteration 163, loss = 0.01185737\n",
            "Iteration 164, loss = 0.01170769\n",
            "Iteration 165, loss = 0.01141635\n",
            "Iteration 166, loss = 0.01118895\n",
            "Iteration 167, loss = 0.01097692\n",
            "Iteration 168, loss = 0.01076516\n",
            "Iteration 169, loss = 0.01057894\n",
            "Iteration 170, loss = 0.01038057\n",
            "Iteration 171, loss = 0.01017967\n",
            "Iteration 172, loss = 0.01000179\n",
            "Iteration 173, loss = 0.00982269\n",
            "Iteration 174, loss = 0.00966222\n",
            "Iteration 175, loss = 0.00953708\n",
            "Iteration 176, loss = 0.00939099\n",
            "Iteration 177, loss = 0.00915867\n",
            "Iteration 178, loss = 0.00905005\n",
            "Iteration 179, loss = 0.00886813\n",
            "Iteration 180, loss = 0.00872993\n",
            "Iteration 181, loss = 0.00862620\n",
            "Iteration 182, loss = 0.00853323\n",
            "Iteration 183, loss = 0.00836439\n",
            "Iteration 184, loss = 0.00824717\n",
            "Iteration 185, loss = 0.00810687\n",
            "Iteration 186, loss = 0.00798496\n",
            "Iteration 187, loss = 0.00787678\n",
            "Iteration 188, loss = 0.00777651\n",
            "Iteration 189, loss = 0.00766631\n",
            "Iteration 190, loss = 0.00754653\n",
            "Iteration 191, loss = 0.00744636\n",
            "Iteration 192, loss = 0.00736156\n",
            "Iteration 193, loss = 0.00725936\n",
            "Iteration 194, loss = 0.00718137\n",
            "Iteration 195, loss = 0.00709359\n",
            "Iteration 196, loss = 0.00699130\n",
            "Iteration 197, loss = 0.00693952\n",
            "Iteration 198, loss = 0.00679852\n",
            "Iteration 199, loss = 0.00676437\n",
            "Iteration 200, loss = 0.00665420\n",
            "0.6895\n",
            "                precision    recall  f1-score   support\n",
            "\n",
            "ARTS & CULTURE       0.00      0.00      0.00         9\n",
            "  BLACK VOICES       0.59      0.55      0.57        95\n",
            "      BUSINESS       0.36      0.19      0.25        26\n",
            "        COMEDY       0.72      0.67      0.69        96\n",
            "         CRIME       0.44      0.36      0.39        42\n",
            "     EDUCATION       0.38      0.43      0.40         7\n",
            " ENTERTAINMENT       0.66      0.77      0.71       376\n",
            "         GREEN       0.38      0.38      0.38         8\n",
            "HEALTHY LIVING       0.33      0.14      0.20        14\n",
            "        IMPACT       0.80      0.24      0.36        17\n",
            " LATINO VOICES       0.58      0.39      0.47        18\n",
            "         MEDIA       0.50      0.47      0.49        57\n",
            "       PARENTS       0.89      0.44      0.59        18\n",
            "      POLITICS       0.79      0.87      0.83       736\n",
            "  QUEER VOICES       0.66      0.59      0.62       100\n",
            "      RELIGION       0.62      0.44      0.52        18\n",
            "       SCIENCE       0.00      0.00      0.00         5\n",
            "        SPORTS       0.74      0.59      0.66        83\n",
            "         STYLE       0.25      0.08      0.12        13\n",
            "         TASTE       0.75      0.60      0.67         5\n",
            "          TECH       0.33      0.20      0.25        10\n",
            "        TRAVEL       0.58      0.47      0.52        15\n",
            "    WEIRD NEWS       0.50      0.42      0.45        53\n",
            "         WOMEN       0.39      0.35      0.37        51\n",
            "    WORLD NEWS       0.70      0.70      0.70       128\n",
            "\n",
            "      accuracy                           0.69      2000\n",
            "     macro avg       0.52      0.41      0.45      2000\n",
            "  weighted avg       0.68      0.69      0.68      2000\n",
            "\n"
          ]
        },
        {
          "output_type": "stream",
          "name": "stderr",
          "text": [
            "/usr/local/lib/python3.7/dist-packages/sklearn/neural_network/_multilayer_perceptron.py:571: ConvergenceWarning: Stochastic Optimizer: Maximum iterations (200) reached and the optimization hasn't converged yet.\n",
            "  % self.max_iter, ConvergenceWarning)\n"
          ]
        }
      ]
    }
  ]
}